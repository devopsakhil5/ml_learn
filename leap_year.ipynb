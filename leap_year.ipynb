{
 "cells": [
  {
   "cell_type": "markdown",
   "id": "0596f60d",
   "metadata": {},
   "source": [
    "### leap year related code:"
   ]
  },
  {
   "cell_type": "code",
   "execution_count": 24,
   "id": "c244bd80",
   "metadata": {},
   "outputs": [
    {
     "name": "stdout",
     "output_type": "stream",
     "text": [
      "leap year\n"
     ]
    }
   ],
   "source": [
    "year = int(input(\"Enter the year number that you would like to check whether leap or not:\"))\n",
    "if year%4==0:\n",
    "    if year%100==0:\n",
    "        if year%400==0:\n",
    "            print(\"leap year\")\n",
    "    else:\n",
    "        print(\"NOT leap\")        \n",
    "else:\n",
    "    print(\"it is not a leap year\")    \n"
   ]
  }
 ],
 "metadata": {
  "kernelspec": {
   "display_name": "Python 3",
   "language": "python",
   "name": "python3"
  },
  "language_info": {
   "codemirror_mode": {
    "name": "ipython",
    "version": 3
   },
   "file_extension": ".py",
   "mimetype": "text/x-python",
   "name": "python",
   "nbconvert_exporter": "python",
   "pygments_lexer": "ipython3",
   "version": "3.12.0"
  }
 },
 "nbformat": 4,
 "nbformat_minor": 5
}
