{
 "cells": [
  {
   "cell_type": "markdown",
   "id": "cefaae55",
   "metadata": {},
   "source": [
    "##### Practice Python"
   ]
  },
  {
   "cell_type": "code",
   "execution_count": 4,
   "id": "11b2aa52",
   "metadata": {},
   "outputs": [
    {
     "name": "stdout",
     "output_type": "stream",
     "text": [
      "4\n"
     ]
    }
   ],
   "source": [
    "print(1+3)"
   ]
  },
  {
   "cell_type": "code",
   "execution_count": 7,
   "id": "676127d4",
   "metadata": {},
   "outputs": [
    {
     "name": "stdout",
     "output_type": "stream",
     "text": [
      "range(1, 3)\n"
     ]
    }
   ],
   "source": [
    "print(range(1, 3))\n"
   ]
  },
  {
   "cell_type": "code",
   "execution_count": 11,
   "id": "0910c4b3",
   "metadata": {},
   "outputs": [
    {
     "name": "stdout",
     "output_type": "stream",
     "text": [
      "1\n",
      "2\n"
     ]
    }
   ],
   "source": [
    "for i in range(1, 3):\n",
    "    print(i)"
   ]
  },
  {
   "cell_type": "code",
   "execution_count": 17,
   "id": "3e823877",
   "metadata": {},
   "outputs": [
    {
     "name": "stdout",
     "output_type": "stream",
     "text": [
      "3.0\n",
      "<class 'float'>\n"
     ]
    }
   ],
   "source": [
    "i = 3.0\n",
    "print(i)\n",
    "print(type(i))"
   ]
  },
  {
   "cell_type": "code",
   "execution_count": 19,
   "id": "b41d1aef",
   "metadata": {},
   "outputs": [
    {
     "name": "stdout",
     "output_type": "stream",
     "text": [
      "a\n",
      "<class 'str'>\n"
     ]
    }
   ],
   "source": [
    "a=\"a\"\n",
    "print(a)\n",
    "print(type(a))"
   ]
  },
  {
   "cell_type": "code",
   "execution_count": 23,
   "id": "fe83de27",
   "metadata": {},
   "outputs": [
    {
     "name": "stdout",
     "output_type": "stream",
     "text": [
      "[1, 2, 3, 4]\n",
      "<class 'list'>\n"
     ]
    }
   ],
   "source": [
    "list = [1,2,3,4]\n",
    "print(list)\n",
    "print(type(list))"
   ]
  },
  {
   "cell_type": "code",
   "execution_count": 26,
   "id": "d51a6a44",
   "metadata": {},
   "outputs": [
    {
     "name": "stdout",
     "output_type": "stream",
     "text": [
      "{1, 2, 3, 4, 5}\n",
      "<class 'set'>\n"
     ]
    }
   ],
   "source": [
    "set1={1,2,3,4,5,4,5,5,3}\n",
    "print(set1)\n",
    "print(type(set1))"
   ]
  },
  {
   "cell_type": "code",
   "execution_count": 27,
   "id": "e72c0daf",
   "metadata": {},
   "outputs": [
    {
     "name": "stdout",
     "output_type": "stream",
     "text": [
      "('a', 'b', 'c')\n",
      "<class 'tuple'>\n"
     ]
    }
   ],
   "source": [
    "tuple1=('a','b','c')\n",
    "print(tuple1)\n",
    "print(type(tuple1))"
   ]
  },
  {
   "cell_type": "code",
   "execution_count": 28,
   "id": "3cc4cf98",
   "metadata": {},
   "outputs": [
    {
     "ename": "AttributeError",
     "evalue": "type object 'tuple' has no attribute 'add'",
     "output_type": "error",
     "traceback": [
      "\u001b[31m---------------------------------------------------------------------------\u001b[39m",
      "\u001b[31mAttributeError\u001b[39m                            Traceback (most recent call last)",
      "\u001b[36mCell\u001b[39m\u001b[36m \u001b[39m\u001b[32mIn[28]\u001b[39m\u001b[32m, line 1\u001b[39m\n\u001b[32m----> \u001b[39m\u001b[32m1\u001b[39m \u001b[38;5;28;43mtuple\u001b[39;49m\u001b[43m.\u001b[49m\u001b[43madd\u001b[49m(\u001b[32m3\u001b[39m)\n",
      "\u001b[31mAttributeError\u001b[39m: type object 'tuple' has no attribute 'add'"
     ]
    }
   ],
   "source": [
    "tuple.add(3)"
   ]
  },
  {
   "cell_type": "code",
   "execution_count": 31,
   "id": "c63b571b",
   "metadata": {},
   "outputs": [
    {
     "name": "stdout",
     "output_type": "stream",
     "text": [
      "[1, 2, 3, 4, 7, 7]\n"
     ]
    }
   ],
   "source": [
    "list.append(7)\n",
    "print(list)"
   ]
  },
  {
   "cell_type": "code",
   "execution_count": 32,
   "id": "0d49075b",
   "metadata": {},
   "outputs": [
    {
     "name": "stdout",
     "output_type": "stream",
     "text": [
      "Fantastic! I'm glad to hear that a simple restart of the kernel did the trick. It's one of those surprisingly common solutions in the world of development environments.\n",
      "Sometimes the environment needs a little nudge to recognize new files or changes. Happy coding, and feel free to reach out if you encounter any more hurdles!\n",
      "Sometimes, Jupyter notebooks can have issues with recognizing newly created files or changes in the file system. Try restarting the kernel of your notebook. You can usually do this from the \"Kernel\" menu in the Jupyter interface (e.g., \"Kernel\" -> \"Restart\"). After restarting, try running the import statement again.\n",
      "4. Check for Other Files Named mul.py:\n",
      "It's less likely in this scenario, but sometimes there might be another file named mul.py in a different location that Python is finding instead. If you have a complex Python environment, this could potentially cause issues. However, given your description of the folder structure, this is probably not the case here.\n",
      "Let's assume your mul.py file should contain the multiply function. Here's a checklist for you:\n",
      "[ ] Is there a file named exactly mul.py inside the folder named exactly mymodu?\n",
      "[ ] Inside mul.py, is there a function defined as def multiply(a, b):?\n",
      "[ ] Are there any typos in the function name multiply in mul.py?\n",
      "[ ] Have you restarted the Jupyter kernel since creating mymodu and mul.py?\n",
      "Once you've gone through these checks, try running the import statement again. If you still get the error, please share the exact content of your mul.py file (you can copy and paste the code here), and we can take a closer look.\n",
      "restarting helped, thanx\n",
      "Fantastic! I'm glad to hear that a simple restart of the kernel did the trick. It's one of those surprisingly common solutions in the world of development environments.\n",
      "Sometimes the environment needs a little nudge to recognize new files or changes. Happy coding, and feel free to reach out if you encounter any more hurdles!Okay, the ImportError: cannot import name 'multiply' from 'mymodu.mul' tells us that Python is finding the mymodu/mul.py file, but it's not finding something named multiply inside that file that it can import.\n",
      "Let's systematically troubleshoot this:\n",
      "1. Double-Check the mul.py File:\n",
      "Content: Open the mul.py file located in your mymodu folder. Carefully examine its contents.\n",
      "Function Definition: Make absolutely sure that you have defined a function named exactly multiply within that file. Python is case-sensitive, so Multiply, mUltiply, etc., will not be recognized as multiply.\n",
      "Syntax: Ensure the function definition has the \n",
      "estart the Jupyter Kernel:\n",
      "Sometimes, Jupyter notebooks can have issues with recognizing newly created files or changes in the file system. Try restarting the kernel of your notebook. You can usually do this from the \"Kernel\" menu in the Jupyter interface (e.g., \"Kernel\" -> \"Restart\"). After restarting, try running the import statement again.\n",
      "4. Check for Other Files Named mul.py:\n",
      "It's less likely in this scenario, but sometimes there might be another file named mul.py in a different location that Python is finding instead. If you have a complex Python environment, this could potentially cause issues. However, given your description of the folder structure, this is probably not the case here.\n",
      "Let's assume your mul.py file should contain the multiply function. Here's a checklist for you:\n",
      "[ ] Is there a file named exactly mul.py inside the folder named exactly mymodu?\n",
      "[ ] Inside mul.py, is there a function defined as def multiply(a, b):?\n",
      "[ ] Are there any typos in the function name multiply in mul.py?\n",
      "[ ] Have you restarted the Jupyter kernel since creating mymodu and mul.py?\n",
      "Once you've gone through these checks, try running the import statement again. If you still get the error, please share the exact content of your mul.py file (you can copy and paste the code here), and we can take a closer look.\n",
      "hahahaa\n",
      "\n"
     ]
    }
   ],
   "source": [
    "with open('sample.txt','r') as file:\n",
    "    content= file.read()\n",
    "    print(content)"
   ]
  },
  {
   "cell_type": "code",
   "execution_count": 38,
   "id": "bd03580b",
   "metadata": {},
   "outputs": [
    {
     "name": "stdout",
     "output_type": "stream",
     "text": [
      "Fantastic! I'm glad to hear that a simple restart of the kernel did the trick. It's one of those surprisingly common solutions in the world of development environments.\n",
      "\n",
      "Sometimes the environment needs a little nudge to recognize new files or changes. Happy coding, and feel free to reach out if you encounter any more hurdles!\n",
      "\n",
      "Sometimes, Jupyter notebooks can have issues with recognizing newly created files or changes in the file system. Try restarting the kernel of your notebook. You can usually do this from the \"Kernel\" menu in the Jupyter interface (e.g., \"Kernel\" -> \"Restart\"). After restarting, try running the import statement again.\n",
      "\n",
      "4. Check for Other Files Named mul.py:\n",
      "\n",
      "It's less likely in this scenario, but sometimes there might be another file named mul.py in a different location that Python is finding instead. If you have a complex Python environment, this could potentially cause issues. However, given your description of the folder structure, this is probably not the case here.\n",
      "\n",
      "Let's assume your mul.py file should contain the multiply function. Here's a checklist for you:\n",
      "\n",
      "[ ] Is there a file named exactly mul.py inside the folder named exactly mymodu?\n",
      "\n",
      "[ ] Inside mul.py, is there a function defined as def multiply(a, b):?\n",
      "\n",
      "[ ] Are there any typos in the function name multiply in mul.py?\n",
      "\n",
      "[ ] Have you restarted the Jupyter kernel since creating mymodu and mul.py?\n",
      "\n",
      "Once you've gone through these checks, try running the import statement again. If you still get the error, please share the exact content of your mul.py file (you can copy and paste the code here), and we can take a closer look.\n",
      "\n",
      "restarting helped, thanx\n",
      "\n",
      "Fantastic! I'm glad to hear that a simple restart of the kernel did the trick. It's one of those surprisingly common solutions in the world of development environments.\n",
      "\n",
      "Sometimes the environment needs a little nudge to recognize new files or changes. Happy coding, and feel free to reach out if you encounter any more hurdles!Okay, the ImportError: cannot import name 'multiply' from 'mymodu.mul' tells us that Python is finding the mymodu/mul.py file, but it's not finding something named multiply inside that file that it can import.\n",
      "\n",
      "Let's systematically troubleshoot this:\n",
      "\n",
      "1. Double-Check the mul.py File:\n",
      "\n",
      "Content: Open the mul.py file located in your mymodu folder. Carefully examine its contents.\n",
      "\n",
      "Function Definition: Make absolutely sure that you have defined a function named exactly multiply within that file. Python is case-sensitive, so Multiply, mUltiply, etc., will not be recognized as multiply.\n",
      "\n",
      "Syntax: Ensure the function definition has the \n",
      "\n",
      "estart the Jupyter Kernel:\n",
      "\n",
      "Sometimes, Jupyter notebooks can have issues with recognizing newly created files or changes in the file system. Try restarting the kernel of your notebook. You can usually do this from the \"Kernel\" menu in the Jupyter interface (e.g., \"Kernel\" -> \"Restart\"). After restarting, try running the import statement again.\n",
      "\n",
      "4. Check for Other Files Named mul.py:\n",
      "\n",
      "It's less likely in this scenario, but sometimes there might be another file named mul.py in a different location that Python is finding instead. If you have a complex Python environment, this could potentially cause issues. However, given your description of the folder structure, this is probably not the case here.\n",
      "\n",
      "Let's assume your mul.py file should contain the multiply function. Here's a checklist for you:\n",
      "\n",
      "[ ] Is there a file named exactly mul.py inside the folder named exactly mymodu?\n",
      "\n",
      "[ ] Inside mul.py, is there a function defined as def multiply(a, b):?\n",
      "\n",
      "[ ] Are there any typos in the function name multiply in mul.py?\n",
      "\n",
      "[ ] Have you restarted the Jupyter kernel since creating mymodu and mul.py?\n",
      "\n",
      "Once you've gone through these checks, try running the import statement again. If you still get the error, please share the exact content of your mul.py file (you can copy and paste the code here), and we can take a closer look.\n",
      "\n",
      "hahahaa\n",
      "\n"
     ]
    }
   ],
   "source": [
    "def file_reading():\n",
    "    with open('sample.txt','r') as file:\n",
    "        for line in file:\n",
    "            yield line\n",
    "\n",
    "for line in file_reading():\n",
    "    print(line)\n",
    "\n"
   ]
  },
  {
   "cell_type": "code",
   "execution_count": 39,
   "id": "d5d19b25",
   "metadata": {},
   "outputs": [
    {
     "name": "stdout",
     "output_type": "stream",
     "text": [
      "['sample.txt', 'test.ipynb', '.git', 'practice.ipynb', 'mymodu', 'venv', 'age_based_ticket.py', 'leap_year.ipynb', 'simple_calculator.py', 'README.md', 'app.py', 'practicefile.ipynb']\n"
     ]
    }
   ],
   "source": [
    "import os\n",
    "\n",
    "print(os.listdir('.'))"
   ]
  },
  {
   "cell_type": "code",
   "execution_count": 40,
   "id": "adfe5dec",
   "metadata": {},
   "outputs": [
    {
     "name": "stdout",
     "output_type": "stream",
     "text": [
      "/workspaces/ml_learn\n"
     ]
    }
   ],
   "source": [
    "import os \n",
    "print(os.getcwd())"
   ]
  },
  {
   "cell_type": "code",
   "execution_count": 48,
   "id": "0602d320",
   "metadata": {},
   "outputs": [],
   "source": [
    "import os\n",
    "os.remove('sample1.txt')"
   ]
  },
  {
   "cell_type": "code",
   "execution_count": 66,
   "id": "8a2b0594",
   "metadata": {},
   "outputs": [
    {
     "name": "stdout",
     "output_type": "stream",
     "text": [
      "10 15 25\n",
      "25\n",
      "My name is akhil and my age is 25\n",
      "my name is akhil and my age is 25\n",
      "my name is akhil and my age is 25\n"
     ]
    }
   ],
   "source": [
    "a=10\n",
    "b=15\n",
    "c=a+b\n",
    "print(a,b,c)\n",
    "print(c)\n",
    "name=\"akhil\"\n",
    "age = 25\n",
    "print(\"My name is\" , name , \"and my age is\", age)\n",
    "print(\"my name is {} and my age is {}\".format(name, age))\n",
    "print(f\"my name is {name} and my age is {age}\")"
   ]
  },
  {
   "cell_type": "code",
   "execution_count": 81,
   "id": "1af1b37f",
   "metadata": {},
   "outputs": [
    {
     "name": "stdout",
     "output_type": "stream",
     "text": [
      "1.5\n",
      "division successful thankyou!!!\n"
     ]
    }
   ],
   "source": [
    "a=3\n",
    "b=2\n",
    "try:\n",
    "    c =a/b\n",
    "    print(c)\n",
    "\n",
    "except Exception:\n",
    "    print(\"Please enter b value other than zero\")\n",
    "\n",
    "finally:\n",
    "    print(\"division successful thankyou!!!\")"
   ]
  },
  {
   "cell_type": "code",
   "execution_count": 3,
   "id": "176165de",
   "metadata": {},
   "outputs": [
    {
     "name": "stdout",
     "output_type": "stream",
     "text": [
      "Wow!!! I am very happy *** because today is I am very happy friday !!!!\n",
      "['Wow', 'I', 'am', 'very', 'happy', 'because', 'today', 'is', 'I', 'am', 'very', 'happy', 'friday']\n",
      "<class 'list'>\n",
      "{'Wow', 'because', 'friday', 'am', 'today', 'very', 'I', 'is', 'happy'}\n"
     ]
    }
   ],
   "source": [
    "str=\"Wow!!! I am very happy *** because today is I am very happy friday !!!!\"\n",
    "print(str)\n",
    "\n",
    "str.strip('!').strip('*').strip('$')\n",
    "new_str =str.replace(\"!\",\"\").replace(\"*\",\"\").split()\n",
    "\n",
    "print(new_str)\n",
    "print(type(new_str))\n",
    "my_set = set(new_str)\n",
    "print(my_set)"
   ]
  },
  {
   "cell_type": "code",
   "execution_count": 15,
   "id": "90f261fc",
   "metadata": {},
   "outputs": [
    {
     "name": "stdout",
     "output_type": "stream",
     "text": [
      "akhil\n",
      "movate\n",
      "appi\n"
     ]
    }
   ],
   "source": [
    "def wrapper_file(func):\n",
    "    def small_wrapper():\n",
    "        print(\"akhil\")\n",
    "        func()\n",
    "        print(\"appi\")\n",
    "    return small_wrapper\n",
    "\n",
    "@wrapper_file\n",
    "def new_wrapper():\n",
    "    print(\"movate\")\n",
    "\n",
    "new_wrapper()"
   ]
  },
  {
   "cell_type": "code",
   "execution_count": 2,
   "id": "131161b7",
   "metadata": {},
   "outputs": [],
   "source": [
    "import numpy as np"
   ]
  },
  {
   "cell_type": "code",
   "execution_count": 29,
   "id": "45dbdc52",
   "metadata": {},
   "outputs": [],
   "source": [
    "arr1 = np.array([1,2,3,4,5])"
   ]
  },
  {
   "cell_type": "code",
   "execution_count": 3,
   "id": "6d9a4318",
   "metadata": {},
   "outputs": [
    {
     "name": "stdout",
     "output_type": "stream",
     "text": [
      "[1 2 3 4 5]\n"
     ]
    }
   ],
   "source": [
    "print(arr1)"
   ]
  },
  {
   "cell_type": "code",
   "execution_count": 4,
   "id": "1fe8c0ca",
   "metadata": {},
   "outputs": [
    {
     "data": {
      "text/plain": [
       "(5,)"
      ]
     },
     "execution_count": 4,
     "metadata": {},
     "output_type": "execute_result"
    }
   ],
   "source": [
    "np.shape(arr1)"
   ]
  },
  {
   "cell_type": "code",
   "execution_count": 8,
   "id": "f2635805",
   "metadata": {},
   "outputs": [
    {
     "data": {
      "text/plain": [
       "(5,)"
      ]
     },
     "execution_count": 8,
     "metadata": {},
     "output_type": "execute_result"
    }
   ],
   "source": [
    "np.shape(arr1)"
   ]
  },
  {
   "cell_type": "code",
   "execution_count": 12,
   "id": "73f375a8",
   "metadata": {},
   "outputs": [
    {
     "name": "stdout",
     "output_type": "stream",
     "text": [
      "(5,)\n"
     ]
    }
   ],
   "source": [
    "print(np.shape(arr1))"
   ]
  },
  {
   "cell_type": "code",
   "execution_count": 13,
   "id": "939489ce",
   "metadata": {},
   "outputs": [
    {
     "data": {
      "text/plain": [
       "numpy.ndarray"
      ]
     },
     "execution_count": 13,
     "metadata": {},
     "output_type": "execute_result"
    }
   ],
   "source": [
    "type(arr1)"
   ]
  },
  {
   "cell_type": "code",
   "execution_count": 14,
   "id": "246cfd74",
   "metadata": {},
   "outputs": [
    {
     "name": "stdout",
     "output_type": "stream",
     "text": [
      "(5,)\n"
     ]
    }
   ],
   "source": [
    "print(arr1.shape)"
   ]
  },
  {
   "cell_type": "code",
   "execution_count": 15,
   "id": "d5cc9334",
   "metadata": {},
   "outputs": [],
   "source": [
    "arr2 = np.array([1,2,3,4,5])"
   ]
  },
  {
   "cell_type": "code",
   "execution_count": 16,
   "id": "00e6ebb6",
   "metadata": {},
   "outputs": [
    {
     "data": {
      "text/plain": [
       "array([[1, 2, 3, 4, 5]])"
      ]
     },
     "execution_count": 16,
     "metadata": {},
     "output_type": "execute_result"
    }
   ],
   "source": [
    "arr2.reshape(1,5)"
   ]
  },
  {
   "cell_type": "code",
   "execution_count": 17,
   "id": "40b74d10",
   "metadata": {},
   "outputs": [
    {
     "name": "stdout",
     "output_type": "stream",
     "text": [
      "(5,)\n"
     ]
    }
   ],
   "source": [
    "print(arr2.shape)"
   ]
  },
  {
   "cell_type": "code",
   "execution_count": 18,
   "id": "8417deff",
   "metadata": {},
   "outputs": [
    {
     "name": "stdout",
     "output_type": "stream",
     "text": [
      "(5,)\n"
     ]
    }
   ],
   "source": [
    "print(np.shape(arr2))"
   ]
  },
  {
   "cell_type": "code",
   "execution_count": 19,
   "id": "56ab723c",
   "metadata": {},
   "outputs": [
    {
     "name": "stdout",
     "output_type": "stream",
     "text": [
      "[1 2 3 4 5]\n"
     ]
    }
   ],
   "source": [
    "print(arr2)"
   ]
  },
  {
   "cell_type": "code",
   "execution_count": 20,
   "id": "9c5f2231",
   "metadata": {},
   "outputs": [
    {
     "name": "stdout",
     "output_type": "stream",
     "text": [
      "[[1 2 3 4 5]]\n"
     ]
    }
   ],
   "source": [
    "print(arr2.reshape(1,5))"
   ]
  },
  {
   "cell_type": "code",
   "execution_count": 22,
   "id": "4ee3bf68",
   "metadata": {},
   "outputs": [],
   "source": [
    "arr3 = ([1,2,3,4,5],[6,7,8,9,10])"
   ]
  },
  {
   "cell_type": "code",
   "execution_count": 23,
   "id": "f5f8d87a",
   "metadata": {},
   "outputs": [
    {
     "name": "stdout",
     "output_type": "stream",
     "text": [
      "([1, 2, 3, 4, 5], [6, 7, 8, 9, 10])\n"
     ]
    }
   ],
   "source": [
    "print(arr3)"
   ]
  },
  {
   "cell_type": "code",
   "execution_count": 29,
   "id": "76e4ce2a",
   "metadata": {},
   "outputs": [],
   "source": [
    "arr3 = np.array([[1,2,3,4,5],[6,7,8,9,15]])"
   ]
  },
  {
   "cell_type": "code",
   "execution_count": 30,
   "id": "afa9dfa0",
   "metadata": {},
   "outputs": [
    {
     "name": "stdout",
     "output_type": "stream",
     "text": [
      "[[ 1  2  3  4  5]\n",
      " [ 6  7  8  9 15]]\n"
     ]
    }
   ],
   "source": [
    "print(arr3)"
   ]
  },
  {
   "cell_type": "code",
   "execution_count": 31,
   "id": "18905887",
   "metadata": {},
   "outputs": [
    {
     "data": {
      "text/plain": [
       "array([0, 2, 4, 6, 8])"
      ]
     },
     "execution_count": 31,
     "metadata": {},
     "output_type": "execute_result"
    }
   ],
   "source": [
    "np.arange(0, 10, 2)"
   ]
  },
  {
   "cell_type": "code",
   "execution_count": 41,
   "id": "e8d8c17a",
   "metadata": {},
   "outputs": [
    {
     "data": {
      "text/plain": [
       "array([[0],\n",
       "       [2],\n",
       "       [4],\n",
       "       [6],\n",
       "       [8]])"
      ]
     },
     "execution_count": 41,
     "metadata": {},
     "output_type": "execute_result"
    }
   ],
   "source": [
    "np.arange(0, 10, 2).reshape(5,1)"
   ]
  },
  {
   "cell_type": "code",
   "execution_count": 45,
   "id": "fe8eb3c7",
   "metadata": {},
   "outputs": [
    {
     "data": {
      "text/plain": [
       "array([[1., 1., 1.],\n",
       "       [1., 1., 1.],\n",
       "       [1., 1., 1.],\n",
       "       [1., 1., 1.],\n",
       "       [1., 1., 1.]])"
      ]
     },
     "execution_count": 45,
     "metadata": {},
     "output_type": "execute_result"
    }
   ],
   "source": [
    "np.ones((5,3))"
   ]
  },
  {
   "cell_type": "code",
   "execution_count": 46,
   "id": "b9f75e99",
   "metadata": {},
   "outputs": [
    {
     "data": {
      "text/plain": [
       "array([[0., 0., 0., 0.],\n",
       "       [0., 0., 0., 0.],\n",
       "       [0., 0., 0., 0.]])"
      ]
     },
     "execution_count": 46,
     "metadata": {},
     "output_type": "execute_result"
    }
   ],
   "source": [
    "np.zeros((3,4))"
   ]
  },
  {
   "cell_type": "code",
   "execution_count": 48,
   "id": "ea8932aa",
   "metadata": {},
   "outputs": [
    {
     "data": {
      "text/plain": [
       "array([[1., 0., 0., 0., 0.],\n",
       "       [0., 1., 0., 0., 0.],\n",
       "       [0., 0., 1., 0., 0.],\n",
       "       [0., 0., 0., 1., 0.],\n",
       "       [0., 0., 0., 0., 1.]])"
      ]
     },
     "execution_count": 48,
     "metadata": {},
     "output_type": "execute_result"
    }
   ],
   "source": [
    "np.eye(5)"
   ]
  },
  {
   "cell_type": "code",
   "execution_count": 56,
   "id": "0017d66a",
   "metadata": {},
   "outputs": [
    {
     "data": {
      "text/plain": [
       "2"
      ]
     },
     "execution_count": 56,
     "metadata": {},
     "output_type": "execute_result"
    }
   ],
   "source": [
    "arr3 = np.array([[1,2,3,4,5,6],[6,7,8,9,15,13]])\n",
    "arr3.ndim"
   ]
  },
  {
   "cell_type": "code",
   "execution_count": 57,
   "id": "618bb57c",
   "metadata": {},
   "outputs": [
    {
     "data": {
      "text/plain": [
       "12"
      ]
     },
     "execution_count": 57,
     "metadata": {},
     "output_type": "execute_result"
    }
   ],
   "source": [
    "arr3.size"
   ]
  },
  {
   "cell_type": "code",
   "execution_count": 58,
   "id": "101222ce",
   "metadata": {},
   "outputs": [
    {
     "data": {
      "text/plain": [
       "dtype('int64')"
      ]
     },
     "execution_count": 58,
     "metadata": {},
     "output_type": "execute_result"
    }
   ],
   "source": [
    "arr3.dtype"
   ]
  },
  {
   "cell_type": "code",
   "execution_count": 59,
   "id": "7f9331e1",
   "metadata": {},
   "outputs": [
    {
     "data": {
      "text/plain": [
       "8"
      ]
     },
     "execution_count": 59,
     "metadata": {},
     "output_type": "execute_result"
    }
   ],
   "source": [
    "arr3.itemsize"
   ]
  },
  {
   "cell_type": "code",
   "execution_count": 62,
   "id": "d1bed0a6",
   "metadata": {},
   "outputs": [
    {
     "data": {
      "text/plain": [
       "array([-4, -2,  0,  2,  4])"
      ]
     },
     "execution_count": 62,
     "metadata": {},
     "output_type": "execute_result"
    }
   ],
   "source": [
    "arr4=np.array([1,2,3,4,5])\n",
    "arr5=np.array([5,4,3,2,1])\n",
    "arr4+arr5\n",
    "arr4-arr5"
   ]
  },
  {
   "cell_type": "code",
   "execution_count": 63,
   "id": "1bef6636",
   "metadata": {},
   "outputs": [],
   "source": [
    "arr4[4]=7"
   ]
  },
  {
   "cell_type": "code",
   "execution_count": 64,
   "id": "4d74e56f",
   "metadata": {},
   "outputs": [
    {
     "name": "stdout",
     "output_type": "stream",
     "text": [
      "[1 2 3 4 7]\n"
     ]
    }
   ],
   "source": [
    "print(arr4)"
   ]
  },
  {
   "cell_type": "code",
   "execution_count": 67,
   "id": "95470175",
   "metadata": {},
   "outputs": [
    {
     "name": "stdout",
     "output_type": "stream",
     "text": [
      "[[1 2 2 3 4]\n",
      " [2 4 5 6 7]\n",
      " [8 6 3 2 2]]\n",
      "2\n",
      "int64\n",
      "15\n",
      "8\n"
     ]
    }
   ],
   "source": [
    "arr6=np.array([[1,2,2,3,4],[2,4,5,6,7],[8,6,3,2,2]])\n",
    "print(arr6)\n",
    "print(arr6.ndim)\n",
    "print(arr6.dtype)\n",
    "print(arr6.size)\n",
    "print(arr6.itemsize)"
   ]
  },
  {
   "cell_type": "code",
   "execution_count": 85,
   "id": "2dcc00b4",
   "metadata": {},
   "outputs": [
    {
     "name": "stdout",
     "output_type": "stream",
     "text": [
      "[[5 6 7]\n",
      " [3 2 2]]\n"
     ]
    }
   ],
   "source": [
    "print(arr6[1:,2:])"
   ]
  },
  {
   "cell_type": "code",
   "execution_count": 87,
   "id": "18b8088d",
   "metadata": {},
   "outputs": [
    {
     "name": "stdout",
     "output_type": "stream",
     "text": [
      "[[6 7]\n",
      " [2 2]]\n"
     ]
    }
   ],
   "source": [
    "print(arr6[1:,3:])"
   ]
  },
  {
   "cell_type": "code",
   "execution_count": 91,
   "id": "afb3ae3d",
   "metadata": {},
   "outputs": [
    {
     "name": "stdout",
     "output_type": "stream",
     "text": [
      "[[2 4]\n",
      " [8 6]]\n"
     ]
    }
   ],
   "source": [
    "print(arr6[1:,0:2])"
   ]
  },
  {
   "cell_type": "code",
   "execution_count": 94,
   "id": "8616a5d4",
   "metadata": {},
   "outputs": [
    {
     "name": "stdout",
     "output_type": "stream",
     "text": [
      "[[3 4]\n",
      " [6 7]]\n"
     ]
    }
   ],
   "source": [
    "print(arr6[0:2,3:])"
   ]
  },
  {
   "cell_type": "code",
   "execution_count": 30,
   "id": "78a14d29",
   "metadata": {},
   "outputs": [
    {
     "data": {
      "text/plain": [
       "array([1, 2, 3, 4, 5])"
      ]
     },
     "execution_count": 30,
     "metadata": {},
     "output_type": "execute_result"
    }
   ],
   "source": [
    "arr1"
   ]
  },
  {
   "cell_type": "code",
   "execution_count": 20,
   "id": "8a5e9a3c",
   "metadata": {},
   "outputs": [
    {
     "name": "stdout",
     "output_type": "stream",
     "text": [
      "7.357142857142857\n",
      "6.5\n",
      "47.2295918367347\n",
      "6.8723789066621395\n",
      "[ 6  7  7  8  9  9 10 30]\n",
      "[ 2  2  2  8  8  8 10 10]\n"
     ]
    }
   ],
   "source": [
    "data = np.array([1,2,3,4,5,6,7,7,8,9,9,2,10,30])\n",
    "mean = np.mean(data)\n",
    "print(mean)\n",
    "print(np.median(data))\n",
    "print(np.var(data))\n",
    "print(np.std(data))\n",
    "print(data[data>5])\n",
    "print(data[data>5] & data[data==10])"
   ]
  },
  {
   "cell_type": "code",
   "execution_count": 21,
   "id": "38a613c1",
   "metadata": {},
   "outputs": [],
   "source": [
    "import pandas as pd"
   ]
  },
  {
   "cell_type": "code",
   "execution_count": 23,
   "id": "37d9b0d1",
   "metadata": {},
   "outputs": [
    {
     "name": "stdout",
     "output_type": "stream",
     "text": [
      "0    1\n",
      "1    2\n",
      "2    3\n",
      "3    4\n",
      "4    5\n",
      "dtype: int64\n"
     ]
    }
   ],
   "source": [
    "data = [1,2,3,4,5]\n",
    "series = pd.Series(data)\n",
    "print(series)"
   ]
  },
  {
   "cell_type": "code",
   "execution_count": 31,
   "id": "3f36702e",
   "metadata": {},
   "outputs": [
    {
     "name": "stdout",
     "output_type": "stream",
     "text": [
      "a    1\n",
      "b    2\n",
      "c    3\n",
      "dtype: int64\n"
     ]
    }
   ],
   "source": [
    "data1={'a':1,'b':2,'c':3}\n",
    "series = pd.Series(data1)\n",
    "print(series)\n"
   ]
  },
  {
   "cell_type": "code",
   "execution_count": 32,
   "id": "e61c2020",
   "metadata": {},
   "outputs": [
    {
     "name": "stdout",
     "output_type": "stream",
     "text": [
      "a    1\n",
      "b    2\n",
      "c    3\n",
      "d    4\n",
      "e    5\n",
      "dtype: int64\n"
     ]
    }
   ],
   "source": [
    "data2 = [1,2,3,4,5]\n",
    "index = ['a','b','c','d','e']\n",
    "print(pd.Series(data, index = index))"
   ]
  },
  {
   "cell_type": "code",
   "execution_count": 34,
   "id": "cb5dcc11",
   "metadata": {},
   "outputs": [],
   "source": [
    "data3 = {\n",
    "       'name': ['akhil','akash','arun'],\n",
    "       'age': [25,22,21],\n",
    "       'city': ['hyd','hyd','ker']\n",
    "}"
   ]
  },
  {
   "cell_type": "code",
   "execution_count": 35,
   "id": "8ca336a5",
   "metadata": {},
   "outputs": [
    {
     "name": "stdout",
     "output_type": "stream",
     "text": [
      "{'name': ['akhil', 'akash', 'arun'], 'age': [25, 22, 21], 'city': ['hyd', 'hyd', 'ker']}\n"
     ]
    }
   ],
   "source": [
    "print(data3)"
   ]
  },
  {
   "cell_type": "code",
   "execution_count": 40,
   "id": "385cac84",
   "metadata": {},
   "outputs": [
    {
     "name": "stdout",
     "output_type": "stream",
     "text": [
      "    name  age city\n",
      "0  akhil   25  hyd\n",
      "1  akash   22  hyd\n",
      "2   arun   21  ker\n",
      "<class 'pandas.core.frame.DataFrame'>\n"
     ]
    }
   ],
   "source": [
    "print(pd.DataFrame(data3))\n",
    "print(type(pd.DataFrame(data3)))"
   ]
  },
  {
   "cell_type": "code",
   "execution_count": 37,
   "id": "cbfa5e8d",
   "metadata": {},
   "outputs": [],
   "source": [
    "data4= [\n",
    "\n",
    "    {'name': 'akhil','age':25,'city':'hyd'},\n",
    "    {'name': 'akash','age':22,'city':'hyd'},\n",
    "    {'name': 'arun','age':21,'city':'ker'}\n",
    "\n",
    "\n",
    "]"
   ]
  },
  {
   "cell_type": "code",
   "execution_count": 39,
   "id": "1eb8939e",
   "metadata": {},
   "outputs": [
    {
     "name": "stdout",
     "output_type": "stream",
     "text": [
      "    name  age city\n",
      "0  akhil   25  hyd\n",
      "1  akash   22  hyd\n",
      "2   arun   21  ker\n",
      "<class 'pandas.core.frame.DataFrame'>\n"
     ]
    }
   ],
   "source": [
    "print(pd.DataFrame(data4))\n",
    "print(type(pd.DataFrame(data4)))"
   ]
  },
  {
   "cell_type": "code",
   "execution_count": 7,
   "id": "be11d3ad",
   "metadata": {},
   "outputs": [
    {
     "name": "stdout",
     "output_type": "stream",
     "text": [
      "[1 2 3 4 5]\n",
      "(5,)\n",
      "3.0\n",
      "1.4142135623730951\n"
     ]
    },
    {
     "data": {
      "text/plain": [
       "array([[1.],\n",
       "       [1.],\n",
       "       [1.]])"
      ]
     },
     "execution_count": 7,
     "metadata": {},
     "output_type": "execute_result"
    }
   ],
   "source": [
    "import numpy as np\n",
    "\n",
    "arr1 = np.array([1,2,3,4,5])\n",
    "print(arr1)\n",
    "print(arr1.shape)\n",
    "print(np.mean(arr1))\n",
    "print(np.std(arr1))\n",
    "\n",
    "np.ones((3,1))"
   ]
  },
  {
   "cell_type": "code",
   "execution_count": 8,
   "id": "26ffbe9e",
   "metadata": {},
   "outputs": [
    {
     "data": {
      "text/plain": [
       "array([[1., 0., 0., 0., 0.],\n",
       "       [0., 1., 0., 0., 0.],\n",
       "       [0., 0., 1., 0., 0.],\n",
       "       [0., 0., 0., 1., 0.],\n",
       "       [0., 0., 0., 0., 1.]])"
      ]
     },
     "execution_count": 8,
     "metadata": {},
     "output_type": "execute_result"
    }
   ],
   "source": [
    "np.eye(5)"
   ]
  },
  {
   "cell_type": "code",
   "execution_count": 11,
   "id": "a0f38202",
   "metadata": {},
   "outputs": [
    {
     "name": "stdout",
     "output_type": "stream",
     "text": [
      "1\n",
      "int64\n",
      "5\n",
      "8\n"
     ]
    }
   ],
   "source": [
    "print(arr1.ndim)\n",
    "print(arr1.dtype)\n",
    "print(arr1.size)\n",
    "print(arr1.itemsize)\n"
   ]
  },
  {
   "cell_type": "code",
   "execution_count": null,
   "id": "7dee326d",
   "metadata": {},
   "outputs": [
    {
     "name": "stdout",
     "output_type": "stream",
     "text": [
      "0     1\n",
      "1    23\n",
      "2     3\n",
      "3     4\n",
      "4     5\n",
      "dtype: int64\n"
     ]
    }
   ],
   "source": [
    "import pandas as pd\n",
    "series = pd.Series([1,23,3,4,5])  # when nothing is given then the series is considered with indexing as 0,1,2, etc\n",
    "print(series)"
   ]
  },
  {
   "cell_type": "code",
   "execution_count": null,
   "id": "c7cc74f3",
   "metadata": {},
   "outputs": [
    {
     "name": "stdout",
     "output_type": "stream",
     "text": [
      "Name    Akhil\n",
      "Age        25\n",
      "City      Hyd\n",
      "Org       MNC\n",
      "dtype: object\n"
     ]
    }
   ],
   "source": [
    "series1 = pd.Series({'Name':'Akhil','Age':25,'City':'Hyd','Org':'MNC'})  #giving the dictionary data then the key is index and value is the data\n",
    "print(series1)"
   ]
  },
  {
   "cell_type": "code",
   "execution_count": null,
   "id": "3a95100f",
   "metadata": {},
   "outputs": [
    {
     "name": "stdout",
     "output_type": "stream",
     "text": [
      "Name    Akhil\n",
      "Age        25\n",
      "City      Hyd\n",
      "Org       MNC\n",
      "dtype: object\n"
     ]
    }
   ],
   "source": [
    "data= ['Akhil',25,'Hyd','MNC']\n",
    "index = ['Name','Age','City','Org']\n",
    "series2 = pd.Series(data, index=index)   #giving seperate index values and referencing it   \n",
    "print(series2)"
   ]
  },
  {
   "cell_type": "code",
   "execution_count": 17,
   "id": "87f86cbe",
   "metadata": {},
   "outputs": [
    {
     "name": "stdout",
     "output_type": "stream",
     "text": [
      "    Name  Age City\n",
      "0  Akhil   25  Hyd\n",
      "1  Akash   24  Hyd\n",
      "2   Anil   23  Viz\n",
      "3   Arun   22  Ker\n"
     ]
    }
   ],
   "source": [
    "# lists of dictionary\n",
    "\n",
    "data1 = {\n",
    "    'Name': ['Akhil','Akash','Anil','Arun'],\n",
    "    'Age': [25,24,23,22],\n",
    "    'City': ['Hyd','Hyd','Viz','Ker']\n",
    "}\n",
    "\n",
    "df1 = pd.DataFrame(data1)\n",
    "print(df1)"
   ]
  },
  {
   "cell_type": "code",
   "execution_count": 19,
   "id": "6c007133",
   "metadata": {},
   "outputs": [
    {
     "name": "stdout",
     "output_type": "stream",
     "text": [
      "    Name  Age City\n",
      "0  Akhil   25  Hyd\n",
      "1  Akash   24  Hyd\n",
      "2   Arun   23  Viz\n",
      "3   Anil   22  Ker\n"
     ]
    }
   ],
   "source": [
    "# dictionaries with list\n",
    "\n",
    "data2= [\n",
    "    {'Name':'Akhil','Age':25,'City':'Hyd'},\n",
    "    {'Name':'Akash','Age':24,'City':'Hyd'},\n",
    "    {'Name':'Arun','Age':23,'City':'Viz'},\n",
    "    {'Name':'Anil','Age':22,'City':'Ker'}\n",
    "\n",
    "]\n",
    "\n",
    "print(pd.DataFrame(data2))"
   ]
  },
  {
   "cell_type": "code",
   "execution_count": null,
   "id": "17a00831",
   "metadata": {},
   "outputs": [],
   "source": [
    "with open('sample2.txt', 'r') as file:\n",
    "    content = file.read()\n",
    "with open('sample.csv','w') as file1:\n",
    "    file1.write(content)"
   ]
  },
  {
   "cell_type": "code",
   "execution_count": 33,
   "id": "f55e6d3a",
   "metadata": {},
   "outputs": [
    {
     "name": "stdout",
     "output_type": "stream",
     "text": [
      "         0     1     2      3      4     5     6     7      8     9\n",
      "0     Name   age  city     tp    day   shi   enj   shi   game   ack\n",
      "1    Akhil    23   hyd    mov    sle   clo   ear   aft    vic   yes\n",
      "2    Akash    34   hyd    goo    eat   sum   eve   aft    san    no\n",
      "3     Anil    45   hyd    mic    pla   win   aft   nig    fre    no\n",
      "4   mahesh    56   sac    ker    vin   rai   nig   mor    pub   yes\n",
      "5     arun   viz   fof   danc   domc   mor   nig   pun    not   yes\n",
      "6   nikhil    23   sec    ker    sle   clo   nig   aft    san    no\n",
      "7     Uday    45   upl    dan    slo   win   aft   nig   sane    no\n",
      "8     Ajay    33   ban    pup   play   eve   eve   eve    pub   yes\n",
      "9      cha    44   blw    cat    sic   mor   nig   psu    nok    no\n",
      "10    pash    77   dub    spi    oks   eve   nug   ojl   nlpo   yes\n"
     ]
    }
   ],
   "source": [
    "import pandas as pd\n",
    "df = pd.read_csv('sample.csv', header=None)\n",
    "print(df)"
   ]
  },
  {
   "cell_type": "code",
   "execution_count": 118,
   "id": "d81b90f6",
   "metadata": {},
   "outputs": [
    {
     "data": {
      "text/html": [
       "<div>\n",
       "<style scoped>\n",
       "    .dataframe tbody tr th:only-of-type {\n",
       "        vertical-align: middle;\n",
       "    }\n",
       "\n",
       "    .dataframe tbody tr th {\n",
       "        vertical-align: top;\n",
       "    }\n",
       "\n",
       "    .dataframe thead th {\n",
       "        text-align: right;\n",
       "    }\n",
       "</style>\n",
       "<table border=\"1\" class=\"dataframe\">\n",
       "  <thead>\n",
       "    <tr style=\"text-align: right;\">\n",
       "      <th></th>\n",
       "      <th>Name</th>\n",
       "      <th>age</th>\n",
       "      <th>city</th>\n",
       "      <th>tp</th>\n",
       "      <th>day</th>\n",
       "      <th>shi</th>\n",
       "      <th>enj</th>\n",
       "      <th>shi.1</th>\n",
       "      <th>game</th>\n",
       "      <th>ack</th>\n",
       "    </tr>\n",
       "  </thead>\n",
       "  <tbody>\n",
       "    <tr>\n",
       "      <th>0</th>\n",
       "      <td>Akhil</td>\n",
       "      <td>23</td>\n",
       "      <td>hyd</td>\n",
       "      <td>mov</td>\n",
       "      <td>sle</td>\n",
       "      <td>clo</td>\n",
       "      <td>ear</td>\n",
       "      <td>aft</td>\n",
       "      <td>vic</td>\n",
       "      <td>yes</td>\n",
       "    </tr>\n",
       "    <tr>\n",
       "      <th>1</th>\n",
       "      <td>Akash</td>\n",
       "      <td>34</td>\n",
       "      <td>hyd</td>\n",
       "      <td>goo</td>\n",
       "      <td>eat</td>\n",
       "      <td>sum</td>\n",
       "      <td>eve</td>\n",
       "      <td>aft</td>\n",
       "      <td>san</td>\n",
       "      <td>no</td>\n",
       "    </tr>\n",
       "    <tr>\n",
       "      <th>2</th>\n",
       "      <td>Anil</td>\n",
       "      <td>45</td>\n",
       "      <td>hyd</td>\n",
       "      <td>mic</td>\n",
       "      <td>pla</td>\n",
       "      <td>win</td>\n",
       "      <td>aft</td>\n",
       "      <td>nig</td>\n",
       "      <td>fre</td>\n",
       "      <td>no</td>\n",
       "    </tr>\n",
       "    <tr>\n",
       "      <th>3</th>\n",
       "      <td>mahesh</td>\n",
       "      <td>56</td>\n",
       "      <td>sac</td>\n",
       "      <td>ker</td>\n",
       "      <td>vin</td>\n",
       "      <td>rai</td>\n",
       "      <td>nig</td>\n",
       "      <td>mor</td>\n",
       "      <td>pub</td>\n",
       "      <td>yes</td>\n",
       "    </tr>\n",
       "    <tr>\n",
       "      <th>4</th>\n",
       "      <td>arun</td>\n",
       "      <td>viz</td>\n",
       "      <td>fof</td>\n",
       "      <td>danc</td>\n",
       "      <td>domc</td>\n",
       "      <td>mor</td>\n",
       "      <td>nig</td>\n",
       "      <td>pun</td>\n",
       "      <td>not</td>\n",
       "      <td>yes</td>\n",
       "    </tr>\n",
       "  </tbody>\n",
       "</table>\n",
       "</div>"
      ],
      "text/plain": [
       "     Name   age  city     tp    day   shi   enj shi.1  game   ack\n",
       "0   Akhil    23   hyd    mov    sle   clo   ear   aft   vic   yes\n",
       "1   Akash    34   hyd    goo    eat   sum   eve   aft   san    no\n",
       "2    Anil    45   hyd    mic    pla   win   aft   nig   fre    no\n",
       "3  mahesh    56   sac    ker    vin   rai   nig   mor   pub   yes\n",
       "4    arun   viz   fof   danc   domc   mor   nig   pun   not   yes"
      ]
     },
     "execution_count": 118,
     "metadata": {},
     "output_type": "execute_result"
    }
   ],
   "source": [
    "df.head(5)"
   ]
  },
  {
   "cell_type": "code",
   "execution_count": 120,
   "id": "b6812298",
   "metadata": {},
   "outputs": [
    {
     "data": {
      "text/html": [
       "<div>\n",
       "<style scoped>\n",
       "    .dataframe tbody tr th:only-of-type {\n",
       "        vertical-align: middle;\n",
       "    }\n",
       "\n",
       "    .dataframe tbody tr th {\n",
       "        vertical-align: top;\n",
       "    }\n",
       "\n",
       "    .dataframe thead th {\n",
       "        text-align: right;\n",
       "    }\n",
       "</style>\n",
       "<table border=\"1\" class=\"dataframe\">\n",
       "  <thead>\n",
       "    <tr style=\"text-align: right;\">\n",
       "      <th></th>\n",
       "      <th>Name</th>\n",
       "      <th>age</th>\n",
       "      <th>city</th>\n",
       "      <th>tp</th>\n",
       "      <th>day</th>\n",
       "      <th>shi</th>\n",
       "      <th>enj</th>\n",
       "      <th>shi.1</th>\n",
       "      <th>game</th>\n",
       "      <th>ack</th>\n",
       "    </tr>\n",
       "  </thead>\n",
       "  <tbody>\n",
       "    <tr>\n",
       "      <th>4</th>\n",
       "      <td>arun</td>\n",
       "      <td>viz</td>\n",
       "      <td>fof</td>\n",
       "      <td>danc</td>\n",
       "      <td>domc</td>\n",
       "      <td>mor</td>\n",
       "      <td>nig</td>\n",
       "      <td>pun</td>\n",
       "      <td>not</td>\n",
       "      <td>yes</td>\n",
       "    </tr>\n",
       "    <tr>\n",
       "      <th>5</th>\n",
       "      <td>nikhil</td>\n",
       "      <td>23</td>\n",
       "      <td>sec</td>\n",
       "      <td>ker</td>\n",
       "      <td>sle</td>\n",
       "      <td>clo</td>\n",
       "      <td>nig</td>\n",
       "      <td>aft</td>\n",
       "      <td>san</td>\n",
       "      <td>no</td>\n",
       "    </tr>\n",
       "    <tr>\n",
       "      <th>6</th>\n",
       "      <td>Uday</td>\n",
       "      <td>45</td>\n",
       "      <td>upl</td>\n",
       "      <td>dan</td>\n",
       "      <td>slo</td>\n",
       "      <td>win</td>\n",
       "      <td>aft</td>\n",
       "      <td>nig</td>\n",
       "      <td>sane</td>\n",
       "      <td>no</td>\n",
       "    </tr>\n",
       "    <tr>\n",
       "      <th>7</th>\n",
       "      <td>Ajay</td>\n",
       "      <td>33</td>\n",
       "      <td>ban</td>\n",
       "      <td>pup</td>\n",
       "      <td>play</td>\n",
       "      <td>eve</td>\n",
       "      <td>eve</td>\n",
       "      <td>eve</td>\n",
       "      <td>pub</td>\n",
       "      <td>yes</td>\n",
       "    </tr>\n",
       "    <tr>\n",
       "      <th>8</th>\n",
       "      <td>cha</td>\n",
       "      <td>44</td>\n",
       "      <td>blw</td>\n",
       "      <td>cat</td>\n",
       "      <td>sic</td>\n",
       "      <td>mor</td>\n",
       "      <td>nig</td>\n",
       "      <td>psu</td>\n",
       "      <td>nok</td>\n",
       "      <td>no</td>\n",
       "    </tr>\n",
       "    <tr>\n",
       "      <th>9</th>\n",
       "      <td>pash</td>\n",
       "      <td>77</td>\n",
       "      <td>dub</td>\n",
       "      <td>spi</td>\n",
       "      <td>oks</td>\n",
       "      <td>eve</td>\n",
       "      <td>nug</td>\n",
       "      <td>ojl</td>\n",
       "      <td>nlpo</td>\n",
       "      <td>yes</td>\n",
       "    </tr>\n",
       "  </tbody>\n",
       "</table>\n",
       "</div>"
      ],
      "text/plain": [
       "     Name   age  city     tp    day   shi   enj shi.1   game   ack\n",
       "4    arun   viz   fof   danc   domc   mor   nig   pun    not   yes\n",
       "5  nikhil    23   sec    ker    sle   clo   nig   aft    san    no\n",
       "6    Uday    45   upl    dan    slo   win   aft   nig   sane    no\n",
       "7    Ajay    33   ban    pup   play   eve   eve   eve    pub   yes\n",
       "8     cha    44   blw    cat    sic   mor   nig   psu    nok    no\n",
       "9    pash    77   dub    spi    oks   eve   nug   ojl   nlpo   yes"
      ]
     },
     "execution_count": 120,
     "metadata": {},
     "output_type": "execute_result"
    }
   ],
   "source": [
    "df.tail(6)"
   ]
  },
  {
   "cell_type": "code",
   "execution_count": 119,
   "id": "66b75a0c",
   "metadata": {},
   "outputs": [
    {
     "data": {
      "text/html": [
       "<div>\n",
       "<style scoped>\n",
       "    .dataframe tbody tr th:only-of-type {\n",
       "        vertical-align: middle;\n",
       "    }\n",
       "\n",
       "    .dataframe tbody tr th {\n",
       "        vertical-align: top;\n",
       "    }\n",
       "\n",
       "    .dataframe thead th {\n",
       "        text-align: right;\n",
       "    }\n",
       "</style>\n",
       "<table border=\"1\" class=\"dataframe\">\n",
       "  <thead>\n",
       "    <tr style=\"text-align: right;\">\n",
       "      <th></th>\n",
       "      <th>Name</th>\n",
       "      <th>age</th>\n",
       "      <th>city</th>\n",
       "      <th>tp</th>\n",
       "      <th>day</th>\n",
       "      <th>shi</th>\n",
       "      <th>enj</th>\n",
       "      <th>shi.1</th>\n",
       "      <th>game</th>\n",
       "      <th>ack</th>\n",
       "    </tr>\n",
       "  </thead>\n",
       "  <tbody>\n",
       "    <tr>\n",
       "      <th>count</th>\n",
       "      <td>10</td>\n",
       "      <td>10</td>\n",
       "      <td>10</td>\n",
       "      <td>10</td>\n",
       "      <td>10</td>\n",
       "      <td>10</td>\n",
       "      <td>10</td>\n",
       "      <td>10</td>\n",
       "      <td>10</td>\n",
       "      <td>10</td>\n",
       "    </tr>\n",
       "    <tr>\n",
       "      <th>unique</th>\n",
       "      <td>10</td>\n",
       "      <td>8</td>\n",
       "      <td>8</td>\n",
       "      <td>9</td>\n",
       "      <td>9</td>\n",
       "      <td>6</td>\n",
       "      <td>5</td>\n",
       "      <td>7</td>\n",
       "      <td>8</td>\n",
       "      <td>2</td>\n",
       "    </tr>\n",
       "    <tr>\n",
       "      <th>top</th>\n",
       "      <td>Akhil</td>\n",
       "      <td>23</td>\n",
       "      <td>hyd</td>\n",
       "      <td>ker</td>\n",
       "      <td>sle</td>\n",
       "      <td>clo</td>\n",
       "      <td>nig</td>\n",
       "      <td>aft</td>\n",
       "      <td>san</td>\n",
       "      <td>yes</td>\n",
       "    </tr>\n",
       "    <tr>\n",
       "      <th>freq</th>\n",
       "      <td>1</td>\n",
       "      <td>2</td>\n",
       "      <td>3</td>\n",
       "      <td>2</td>\n",
       "      <td>2</td>\n",
       "      <td>2</td>\n",
       "      <td>4</td>\n",
       "      <td>3</td>\n",
       "      <td>2</td>\n",
       "      <td>5</td>\n",
       "    </tr>\n",
       "  </tbody>\n",
       "</table>\n",
       "</div>"
      ],
      "text/plain": [
       "         Name  age  city    tp   day   shi   enj shi.1  game   ack\n",
       "count      10   10    10    10    10    10    10    10    10    10\n",
       "unique     10    8     8     9     9     6     5     7     8     2\n",
       "top     Akhil   23   hyd   ker   sle   clo   nig   aft   san   yes\n",
       "freq        1    2     3     2     2     2     4     3     2     5"
      ]
     },
     "execution_count": 119,
     "metadata": {},
     "output_type": "execute_result"
    }
   ],
   "source": [
    "df.describe()"
   ]
  },
  {
   "cell_type": "code",
   "execution_count": 58,
   "id": "9ed431de",
   "metadata": {},
   "outputs": [
    {
     "data": {
      "text/plain": [
       "0     Akhil\n",
       "1     Akash\n",
       "2      Anil\n",
       "3    mahesh\n",
       "4      arun\n",
       "5    nikhil\n",
       "6      Uday\n",
       "7      Ajay\n",
       "8       cha\n",
       "9      pash\n",
       "Name: Name, dtype: object"
      ]
     },
     "execution_count": 58,
     "metadata": {},
     "output_type": "execute_result"
    }
   ],
   "source": [
    "df['Name']"
   ]
  },
  {
   "cell_type": "code",
   "execution_count": 121,
   "id": "74f5fb62",
   "metadata": {},
   "outputs": [
    {
     "data": {
      "text/plain": [
       "Index(['Name', 'age', 'city', 'tp', 'day', 'shi', 'enj', 'shi.1', 'game',\n",
       "       'ack'],\n",
       "      dtype='object')"
      ]
     },
     "execution_count": 121,
     "metadata": {},
     "output_type": "execute_result"
    }
   ],
   "source": [
    "df.columns"
   ]
  },
  {
   "cell_type": "code",
   "execution_count": 71,
   "id": "efe0738a",
   "metadata": {},
   "outputs": [
    {
     "data": {
      "text/plain": [
       "0     Akhil\n",
       "1     Akash\n",
       "2      Anil\n",
       "3    mahesh\n",
       "4      arun\n",
       "5    nikhil\n",
       "6      Uday\n",
       "7      Ajay\n",
       "8       cha\n",
       "9      pash\n",
       "Name: Name, dtype: object"
      ]
     },
     "execution_count": 71,
     "metadata": {},
     "output_type": "execute_result"
    }
   ],
   "source": [
    "df['Name']"
   ]
  },
  {
   "cell_type": "code",
   "execution_count": 122,
   "id": "c73edea4",
   "metadata": {},
   "outputs": [
    {
     "data": {
      "text/html": [
       "<div>\n",
       "<style scoped>\n",
       "    .dataframe tbody tr th:only-of-type {\n",
       "        vertical-align: middle;\n",
       "    }\n",
       "\n",
       "    .dataframe tbody tr th {\n",
       "        vertical-align: top;\n",
       "    }\n",
       "\n",
       "    .dataframe thead th {\n",
       "        text-align: right;\n",
       "    }\n",
       "</style>\n",
       "<table border=\"1\" class=\"dataframe\">\n",
       "  <thead>\n",
       "    <tr style=\"text-align: right;\">\n",
       "      <th></th>\n",
       "      <th>Name</th>\n",
       "      <th>age</th>\n",
       "      <th>city</th>\n",
       "      <th>tp</th>\n",
       "      <th>day</th>\n",
       "      <th>shi</th>\n",
       "      <th>enj</th>\n",
       "      <th>shi.1</th>\n",
       "      <th>game</th>\n",
       "      <th>ack</th>\n",
       "    </tr>\n",
       "  </thead>\n",
       "  <tbody>\n",
       "    <tr>\n",
       "      <th>0</th>\n",
       "      <td>Akhil</td>\n",
       "      <td>23</td>\n",
       "      <td>hyd</td>\n",
       "      <td>mov</td>\n",
       "      <td>sle</td>\n",
       "      <td>clo</td>\n",
       "      <td>ear</td>\n",
       "      <td>aft</td>\n",
       "      <td>vic</td>\n",
       "      <td>yes</td>\n",
       "    </tr>\n",
       "    <tr>\n",
       "      <th>1</th>\n",
       "      <td>Akash</td>\n",
       "      <td>34</td>\n",
       "      <td>hyd</td>\n",
       "      <td>goo</td>\n",
       "      <td>eat</td>\n",
       "      <td>sum</td>\n",
       "      <td>eve</td>\n",
       "      <td>aft</td>\n",
       "      <td>san</td>\n",
       "      <td>no</td>\n",
       "    </tr>\n",
       "    <tr>\n",
       "      <th>2</th>\n",
       "      <td>Anil</td>\n",
       "      <td>45</td>\n",
       "      <td>hyd</td>\n",
       "      <td>mic</td>\n",
       "      <td>pla</td>\n",
       "      <td>win</td>\n",
       "      <td>aft</td>\n",
       "      <td>nig</td>\n",
       "      <td>fre</td>\n",
       "      <td>no</td>\n",
       "    </tr>\n",
       "    <tr>\n",
       "      <th>3</th>\n",
       "      <td>mahesh</td>\n",
       "      <td>56</td>\n",
       "      <td>sac</td>\n",
       "      <td>ker</td>\n",
       "      <td>vin</td>\n",
       "      <td>rai</td>\n",
       "      <td>nig</td>\n",
       "      <td>mor</td>\n",
       "      <td>pub</td>\n",
       "      <td>yes</td>\n",
       "    </tr>\n",
       "    <tr>\n",
       "      <th>4</th>\n",
       "      <td>arun</td>\n",
       "      <td>viz</td>\n",
       "      <td>fof</td>\n",
       "      <td>danc</td>\n",
       "      <td>domc</td>\n",
       "      <td>mor</td>\n",
       "      <td>nig</td>\n",
       "      <td>pun</td>\n",
       "      <td>not</td>\n",
       "      <td>yes</td>\n",
       "    </tr>\n",
       "    <tr>\n",
       "      <th>5</th>\n",
       "      <td>nikhil</td>\n",
       "      <td>23</td>\n",
       "      <td>sec</td>\n",
       "      <td>ker</td>\n",
       "      <td>sle</td>\n",
       "      <td>clo</td>\n",
       "      <td>nig</td>\n",
       "      <td>aft</td>\n",
       "      <td>san</td>\n",
       "      <td>no</td>\n",
       "    </tr>\n",
       "    <tr>\n",
       "      <th>6</th>\n",
       "      <td>Uday</td>\n",
       "      <td>45</td>\n",
       "      <td>upl</td>\n",
       "      <td>dan</td>\n",
       "      <td>slo</td>\n",
       "      <td>win</td>\n",
       "      <td>aft</td>\n",
       "      <td>nig</td>\n",
       "      <td>sane</td>\n",
       "      <td>no</td>\n",
       "    </tr>\n",
       "    <tr>\n",
       "      <th>7</th>\n",
       "      <td>Ajay</td>\n",
       "      <td>33</td>\n",
       "      <td>ban</td>\n",
       "      <td>pup</td>\n",
       "      <td>play</td>\n",
       "      <td>eve</td>\n",
       "      <td>eve</td>\n",
       "      <td>eve</td>\n",
       "      <td>pub</td>\n",
       "      <td>yes</td>\n",
       "    </tr>\n",
       "    <tr>\n",
       "      <th>8</th>\n",
       "      <td>cha</td>\n",
       "      <td>44</td>\n",
       "      <td>blw</td>\n",
       "      <td>cat</td>\n",
       "      <td>sic</td>\n",
       "      <td>mor</td>\n",
       "      <td>nig</td>\n",
       "      <td>psu</td>\n",
       "      <td>nok</td>\n",
       "      <td>no</td>\n",
       "    </tr>\n",
       "    <tr>\n",
       "      <th>9</th>\n",
       "      <td>pash</td>\n",
       "      <td>77</td>\n",
       "      <td>dub</td>\n",
       "      <td>spi</td>\n",
       "      <td>oks</td>\n",
       "      <td>eve</td>\n",
       "      <td>nug</td>\n",
       "      <td>ojl</td>\n",
       "      <td>nlpo</td>\n",
       "      <td>yes</td>\n",
       "    </tr>\n",
       "  </tbody>\n",
       "</table>\n",
       "</div>"
      ],
      "text/plain": [
       "     Name   age  city     tp    day   shi   enj shi.1   game   ack\n",
       "0   Akhil    23   hyd    mov    sle   clo   ear   aft    vic   yes\n",
       "1   Akash    34   hyd    goo    eat   sum   eve   aft    san    no\n",
       "2    Anil    45   hyd    mic    pla   win   aft   nig    fre    no\n",
       "3  mahesh    56   sac    ker    vin   rai   nig   mor    pub   yes\n",
       "4    arun   viz   fof   danc   domc   mor   nig   pun    not   yes\n",
       "5  nikhil    23   sec    ker    sle   clo   nig   aft    san    no\n",
       "6    Uday    45   upl    dan    slo   win   aft   nig   sane    no\n",
       "7    Ajay    33   ban    pup   play   eve   eve   eve    pub   yes\n",
       "8     cha    44   blw    cat    sic   mor   nig   psu    nok    no\n",
       "9    pash    77   dub    spi    oks   eve   nug   ojl   nlpo   yes"
      ]
     },
     "execution_count": 122,
     "metadata": {},
     "output_type": "execute_result"
    }
   ],
   "source": [
    "df"
   ]
  },
  {
   "cell_type": "code",
   "execution_count": 123,
   "id": "80e0ec72",
   "metadata": {},
   "outputs": [
    {
     "data": {
      "text/plain": [
       "Name     nikhil\n",
       "age          23\n",
       "city        sec\n",
       "tp          ker\n",
       "day         sle\n",
       "shi         clo\n",
       "enj         nig\n",
       "shi.1       aft\n",
       "game        san\n",
       "ack          no\n",
       "Name: 5, dtype: object"
      ]
     },
     "execution_count": 123,
     "metadata": {},
     "output_type": "execute_result"
    }
   ],
   "source": [
    "df.loc[5]"
   ]
  },
  {
   "cell_type": "code",
   "execution_count": 85,
   "id": "2dd6ae0c",
   "metadata": {},
   "outputs": [
    {
     "data": {
      "text/plain": [
       "Name      Akhil\n",
       " age         23\n",
       " city       hyd\n",
       " tp         mov\n",
       " day        sle\n",
       " shi        clo\n",
       " enj        ear\n",
       " shi.1      aft\n",
       " game       vic\n",
       " ack        yes\n",
       "Name: 0, dtype: object"
      ]
     },
     "execution_count": 85,
     "metadata": {},
     "output_type": "execute_result"
    }
   ],
   "source": [
    "df.iloc[0]"
   ]
  },
  {
   "cell_type": "code",
   "execution_count": 124,
   "id": "ce9f4fb9",
   "metadata": {},
   "outputs": [
    {
     "name": "stderr",
     "output_type": "stream",
     "text": [
      "/tmp/ipykernel_3112/3151294202.py:1: FutureWarning: Series.__getitem__ treating keys as positions is deprecated. In a future version, integer keys will always be treated as labels (consistent with DataFrame behavior). To access a value by position, use `ser.iloc[pos]`\n",
      "  df.loc[2][8]\n"
     ]
    },
    {
     "data": {
      "text/plain": [
       "' fre'"
      ]
     },
     "execution_count": 124,
     "metadata": {},
     "output_type": "execute_result"
    }
   ],
   "source": [
    "df.loc[2][8]"
   ]
  },
  {
   "cell_type": "code",
   "execution_count": 93,
   "id": "c0f3cd5e",
   "metadata": {},
   "outputs": [
    {
     "data": {
      "text/plain": [
       "'Akash'"
      ]
     },
     "execution_count": 93,
     "metadata": {},
     "output_type": "execute_result"
    }
   ],
   "source": [
    "df.at[1,'Name']"
   ]
  },
  {
   "cell_type": "code",
   "execution_count": 125,
   "id": "1c09d17f",
   "metadata": {},
   "outputs": [
    {
     "data": {
      "text/plain": [
       "' 34'"
      ]
     },
     "execution_count": 125,
     "metadata": {},
     "output_type": "execute_result"
    }
   ],
   "source": [
    "df.iat[1,1]"
   ]
  },
  {
   "cell_type": "code",
   "execution_count": 97,
   "id": "896fe5f7",
   "metadata": {},
   "outputs": [
    {
     "data": {
      "text/plain": [
       "Name      Akhil\n",
       " age         23\n",
       " city       hyd\n",
       " tp         mov\n",
       " day        sle\n",
       " shi        clo\n",
       " enj        ear\n",
       " shi.1      aft\n",
       " game       vic\n",
       " ack        yes\n",
       "Name: 0, dtype: object"
      ]
     },
     "execution_count": 97,
     "metadata": {},
     "output_type": "execute_result"
    }
   ],
   "source": [
    "df.iloc[0]"
   ]
  },
  {
   "cell_type": "code",
   "execution_count": null,
   "id": "cfc58604",
   "metadata": {},
   "outputs": [],
   "source": [
    "df['salary']=[25,34,2,3,4,5,5,5,34,12]  # add a new column data"
   ]
  },
  {
   "cell_type": "code",
   "execution_count": 127,
   "id": "e848d12a",
   "metadata": {},
   "outputs": [
    {
     "data": {
      "text/html": [
       "<div>\n",
       "<style scoped>\n",
       "    .dataframe tbody tr th:only-of-type {\n",
       "        vertical-align: middle;\n",
       "    }\n",
       "\n",
       "    .dataframe tbody tr th {\n",
       "        vertical-align: top;\n",
       "    }\n",
       "\n",
       "    .dataframe thead th {\n",
       "        text-align: right;\n",
       "    }\n",
       "</style>\n",
       "<table border=\"1\" class=\"dataframe\">\n",
       "  <thead>\n",
       "    <tr style=\"text-align: right;\">\n",
       "      <th></th>\n",
       "      <th>Name</th>\n",
       "      <th>age</th>\n",
       "      <th>city</th>\n",
       "      <th>tp</th>\n",
       "      <th>day</th>\n",
       "      <th>shi</th>\n",
       "      <th>enj</th>\n",
       "      <th>shi.1</th>\n",
       "      <th>game</th>\n",
       "      <th>ack</th>\n",
       "      <th>salary</th>\n",
       "    </tr>\n",
       "  </thead>\n",
       "  <tbody>\n",
       "    <tr>\n",
       "      <th>0</th>\n",
       "      <td>Akhil</td>\n",
       "      <td>23</td>\n",
       "      <td>hyd</td>\n",
       "      <td>mov</td>\n",
       "      <td>sle</td>\n",
       "      <td>clo</td>\n",
       "      <td>ear</td>\n",
       "      <td>aft</td>\n",
       "      <td>vic</td>\n",
       "      <td>yes</td>\n",
       "      <td>25</td>\n",
       "    </tr>\n",
       "    <tr>\n",
       "      <th>1</th>\n",
       "      <td>Akash</td>\n",
       "      <td>34</td>\n",
       "      <td>hyd</td>\n",
       "      <td>goo</td>\n",
       "      <td>eat</td>\n",
       "      <td>sum</td>\n",
       "      <td>eve</td>\n",
       "      <td>aft</td>\n",
       "      <td>san</td>\n",
       "      <td>no</td>\n",
       "      <td>34</td>\n",
       "    </tr>\n",
       "    <tr>\n",
       "      <th>2</th>\n",
       "      <td>Anil</td>\n",
       "      <td>45</td>\n",
       "      <td>hyd</td>\n",
       "      <td>mic</td>\n",
       "      <td>pla</td>\n",
       "      <td>win</td>\n",
       "      <td>aft</td>\n",
       "      <td>nig</td>\n",
       "      <td>fre</td>\n",
       "      <td>no</td>\n",
       "      <td>2</td>\n",
       "    </tr>\n",
       "    <tr>\n",
       "      <th>3</th>\n",
       "      <td>mahesh</td>\n",
       "      <td>56</td>\n",
       "      <td>sac</td>\n",
       "      <td>ker</td>\n",
       "      <td>vin</td>\n",
       "      <td>rai</td>\n",
       "      <td>nig</td>\n",
       "      <td>mor</td>\n",
       "      <td>pub</td>\n",
       "      <td>yes</td>\n",
       "      <td>3</td>\n",
       "    </tr>\n",
       "    <tr>\n",
       "      <th>4</th>\n",
       "      <td>arun</td>\n",
       "      <td>viz</td>\n",
       "      <td>fof</td>\n",
       "      <td>danc</td>\n",
       "      <td>domc</td>\n",
       "      <td>mor</td>\n",
       "      <td>nig</td>\n",
       "      <td>pun</td>\n",
       "      <td>not</td>\n",
       "      <td>yes</td>\n",
       "      <td>4</td>\n",
       "    </tr>\n",
       "    <tr>\n",
       "      <th>5</th>\n",
       "      <td>nikhil</td>\n",
       "      <td>23</td>\n",
       "      <td>sec</td>\n",
       "      <td>ker</td>\n",
       "      <td>sle</td>\n",
       "      <td>clo</td>\n",
       "      <td>nig</td>\n",
       "      <td>aft</td>\n",
       "      <td>san</td>\n",
       "      <td>no</td>\n",
       "      <td>5</td>\n",
       "    </tr>\n",
       "    <tr>\n",
       "      <th>6</th>\n",
       "      <td>Uday</td>\n",
       "      <td>45</td>\n",
       "      <td>upl</td>\n",
       "      <td>dan</td>\n",
       "      <td>slo</td>\n",
       "      <td>win</td>\n",
       "      <td>aft</td>\n",
       "      <td>nig</td>\n",
       "      <td>sane</td>\n",
       "      <td>no</td>\n",
       "      <td>5</td>\n",
       "    </tr>\n",
       "    <tr>\n",
       "      <th>7</th>\n",
       "      <td>Ajay</td>\n",
       "      <td>33</td>\n",
       "      <td>ban</td>\n",
       "      <td>pup</td>\n",
       "      <td>play</td>\n",
       "      <td>eve</td>\n",
       "      <td>eve</td>\n",
       "      <td>eve</td>\n",
       "      <td>pub</td>\n",
       "      <td>yes</td>\n",
       "      <td>5</td>\n",
       "    </tr>\n",
       "    <tr>\n",
       "      <th>8</th>\n",
       "      <td>cha</td>\n",
       "      <td>44</td>\n",
       "      <td>blw</td>\n",
       "      <td>cat</td>\n",
       "      <td>sic</td>\n",
       "      <td>mor</td>\n",
       "      <td>nig</td>\n",
       "      <td>psu</td>\n",
       "      <td>nok</td>\n",
       "      <td>no</td>\n",
       "      <td>34</td>\n",
       "    </tr>\n",
       "    <tr>\n",
       "      <th>9</th>\n",
       "      <td>pash</td>\n",
       "      <td>77</td>\n",
       "      <td>dub</td>\n",
       "      <td>spi</td>\n",
       "      <td>oks</td>\n",
       "      <td>eve</td>\n",
       "      <td>nug</td>\n",
       "      <td>ojl</td>\n",
       "      <td>nlpo</td>\n",
       "      <td>yes</td>\n",
       "      <td>12</td>\n",
       "    </tr>\n",
       "  </tbody>\n",
       "</table>\n",
       "</div>"
      ],
      "text/plain": [
       "     Name   age  city     tp    day   shi   enj shi.1   game   ack  salary\n",
       "0   Akhil    23   hyd    mov    sle   clo   ear   aft    vic   yes      25\n",
       "1   Akash    34   hyd    goo    eat   sum   eve   aft    san    no      34\n",
       "2    Anil    45   hyd    mic    pla   win   aft   nig    fre    no       2\n",
       "3  mahesh    56   sac    ker    vin   rai   nig   mor    pub   yes       3\n",
       "4    arun   viz   fof   danc   domc   mor   nig   pun    not   yes       4\n",
       "5  nikhil    23   sec    ker    sle   clo   nig   aft    san    no       5\n",
       "6    Uday    45   upl    dan    slo   win   aft   nig   sane    no       5\n",
       "7    Ajay    33   ban    pup   play   eve   eve   eve    pub   yes       5\n",
       "8     cha    44   blw    cat    sic   mor   nig   psu    nok    no      34\n",
       "9    pash    77   dub    spi    oks   eve   nug   ojl   nlpo   yes      12"
      ]
     },
     "execution_count": 127,
     "metadata": {},
     "output_type": "execute_result"
    }
   ],
   "source": [
    "df"
   ]
  },
  {
   "cell_type": "code",
   "execution_count": null,
   "id": "0c22ae25",
   "metadata": {},
   "outputs": [],
   "source": [
    "df.drop('Name', axis=1, inplace=True)   # remove a column data, permanent operation using inplace='true' and axia=1 means column value."
   ]
  },
  {
   "cell_type": "code",
   "execution_count": 130,
   "id": "294d3d0f",
   "metadata": {},
   "outputs": [],
   "source": [
    "df['Name']=['Akhil','Akash','Anil','mahesh','arun','nikhil','Uday','Ajay','cha','pash']"
   ]
  },
  {
   "cell_type": "code",
   "execution_count": 131,
   "id": "ce7c7563",
   "metadata": {},
   "outputs": [
    {
     "data": {
      "text/html": [
       "<div>\n",
       "<style scoped>\n",
       "    .dataframe tbody tr th:only-of-type {\n",
       "        vertical-align: middle;\n",
       "    }\n",
       "\n",
       "    .dataframe tbody tr th {\n",
       "        vertical-align: top;\n",
       "    }\n",
       "\n",
       "    .dataframe thead th {\n",
       "        text-align: right;\n",
       "    }\n",
       "</style>\n",
       "<table border=\"1\" class=\"dataframe\">\n",
       "  <thead>\n",
       "    <tr style=\"text-align: right;\">\n",
       "      <th></th>\n",
       "      <th>age</th>\n",
       "      <th>city</th>\n",
       "      <th>tp</th>\n",
       "      <th>day</th>\n",
       "      <th>shi</th>\n",
       "      <th>enj</th>\n",
       "      <th>shi.1</th>\n",
       "      <th>game</th>\n",
       "      <th>ack</th>\n",
       "      <th>salary</th>\n",
       "      <th>Name</th>\n",
       "    </tr>\n",
       "  </thead>\n",
       "  <tbody>\n",
       "    <tr>\n",
       "      <th>0</th>\n",
       "      <td>23</td>\n",
       "      <td>hyd</td>\n",
       "      <td>mov</td>\n",
       "      <td>sle</td>\n",
       "      <td>clo</td>\n",
       "      <td>ear</td>\n",
       "      <td>aft</td>\n",
       "      <td>vic</td>\n",
       "      <td>yes</td>\n",
       "      <td>25</td>\n",
       "      <td>Akhil</td>\n",
       "    </tr>\n",
       "    <tr>\n",
       "      <th>1</th>\n",
       "      <td>34</td>\n",
       "      <td>hyd</td>\n",
       "      <td>goo</td>\n",
       "      <td>eat</td>\n",
       "      <td>sum</td>\n",
       "      <td>eve</td>\n",
       "      <td>aft</td>\n",
       "      <td>san</td>\n",
       "      <td>no</td>\n",
       "      <td>34</td>\n",
       "      <td>Akash</td>\n",
       "    </tr>\n",
       "    <tr>\n",
       "      <th>2</th>\n",
       "      <td>45</td>\n",
       "      <td>hyd</td>\n",
       "      <td>mic</td>\n",
       "      <td>pla</td>\n",
       "      <td>win</td>\n",
       "      <td>aft</td>\n",
       "      <td>nig</td>\n",
       "      <td>fre</td>\n",
       "      <td>no</td>\n",
       "      <td>2</td>\n",
       "      <td>Anil</td>\n",
       "    </tr>\n",
       "    <tr>\n",
       "      <th>3</th>\n",
       "      <td>56</td>\n",
       "      <td>sac</td>\n",
       "      <td>ker</td>\n",
       "      <td>vin</td>\n",
       "      <td>rai</td>\n",
       "      <td>nig</td>\n",
       "      <td>mor</td>\n",
       "      <td>pub</td>\n",
       "      <td>yes</td>\n",
       "      <td>3</td>\n",
       "      <td>mahesh</td>\n",
       "    </tr>\n",
       "    <tr>\n",
       "      <th>4</th>\n",
       "      <td>viz</td>\n",
       "      <td>fof</td>\n",
       "      <td>danc</td>\n",
       "      <td>domc</td>\n",
       "      <td>mor</td>\n",
       "      <td>nig</td>\n",
       "      <td>pun</td>\n",
       "      <td>not</td>\n",
       "      <td>yes</td>\n",
       "      <td>4</td>\n",
       "      <td>arun</td>\n",
       "    </tr>\n",
       "    <tr>\n",
       "      <th>5</th>\n",
       "      <td>23</td>\n",
       "      <td>sec</td>\n",
       "      <td>ker</td>\n",
       "      <td>sle</td>\n",
       "      <td>clo</td>\n",
       "      <td>nig</td>\n",
       "      <td>aft</td>\n",
       "      <td>san</td>\n",
       "      <td>no</td>\n",
       "      <td>5</td>\n",
       "      <td>nikhil</td>\n",
       "    </tr>\n",
       "    <tr>\n",
       "      <th>6</th>\n",
       "      <td>45</td>\n",
       "      <td>upl</td>\n",
       "      <td>dan</td>\n",
       "      <td>slo</td>\n",
       "      <td>win</td>\n",
       "      <td>aft</td>\n",
       "      <td>nig</td>\n",
       "      <td>sane</td>\n",
       "      <td>no</td>\n",
       "      <td>5</td>\n",
       "      <td>Uday</td>\n",
       "    </tr>\n",
       "    <tr>\n",
       "      <th>7</th>\n",
       "      <td>33</td>\n",
       "      <td>ban</td>\n",
       "      <td>pup</td>\n",
       "      <td>play</td>\n",
       "      <td>eve</td>\n",
       "      <td>eve</td>\n",
       "      <td>eve</td>\n",
       "      <td>pub</td>\n",
       "      <td>yes</td>\n",
       "      <td>5</td>\n",
       "      <td>Ajay</td>\n",
       "    </tr>\n",
       "    <tr>\n",
       "      <th>8</th>\n",
       "      <td>44</td>\n",
       "      <td>blw</td>\n",
       "      <td>cat</td>\n",
       "      <td>sic</td>\n",
       "      <td>mor</td>\n",
       "      <td>nig</td>\n",
       "      <td>psu</td>\n",
       "      <td>nok</td>\n",
       "      <td>no</td>\n",
       "      <td>34</td>\n",
       "      <td>cha</td>\n",
       "    </tr>\n",
       "    <tr>\n",
       "      <th>9</th>\n",
       "      <td>77</td>\n",
       "      <td>dub</td>\n",
       "      <td>spi</td>\n",
       "      <td>oks</td>\n",
       "      <td>eve</td>\n",
       "      <td>nug</td>\n",
       "      <td>ojl</td>\n",
       "      <td>nlpo</td>\n",
       "      <td>yes</td>\n",
       "      <td>12</td>\n",
       "      <td>pash</td>\n",
       "    </tr>\n",
       "  </tbody>\n",
       "</table>\n",
       "</div>"
      ],
      "text/plain": [
       "    age  city     tp    day   shi   enj shi.1   game   ack  salary    Name\n",
       "0    23   hyd    mov    sle   clo   ear   aft    vic   yes      25   Akhil\n",
       "1    34   hyd    goo    eat   sum   eve   aft    san    no      34   Akash\n",
       "2    45   hyd    mic    pla   win   aft   nig    fre    no       2    Anil\n",
       "3    56   sac    ker    vin   rai   nig   mor    pub   yes       3  mahesh\n",
       "4   viz   fof   danc   domc   mor   nig   pun    not   yes       4    arun\n",
       "5    23   sec    ker    sle   clo   nig   aft    san    no       5  nikhil\n",
       "6    45   upl    dan    slo   win   aft   nig   sane    no       5    Uday\n",
       "7    33   ban    pup   play   eve   eve   eve    pub   yes       5    Ajay\n",
       "8    44   blw    cat    sic   mor   nig   psu    nok    no      34     cha\n",
       "9    77   dub    spi    oks   eve   nug   ojl   nlpo   yes      12    pash"
      ]
     },
     "execution_count": 131,
     "metadata": {},
     "output_type": "execute_result"
    }
   ],
   "source": [
    "df"
   ]
  },
  {
   "cell_type": "code",
   "execution_count": 137,
   "id": "f6ba9fe6",
   "metadata": {},
   "outputs": [
    {
     "data": {
      "text/plain": [
       "' eat'"
      ]
     },
     "execution_count": 137,
     "metadata": {},
     "output_type": "execute_result"
    }
   ],
   "source": [
    "df.at[1,'day']"
   ]
  },
  {
   "cell_type": "code",
   "execution_count": null,
   "id": "030ff88f",
   "metadata": {},
   "outputs": [
    {
     "data": {
      "text/plain": [
       "0      vic\n",
       "1      san\n",
       "2      fre\n",
       "3      pub\n",
       "4      not\n",
       "5      san\n",
       "6     sane\n",
       "7      pub\n",
       "8      nok\n",
       "9     nlpo\n",
       "Name: game, dtype: object"
      ]
     },
     "execution_count": 141,
     "metadata": {},
     "output_type": "execute_result"
    }
   ],
   "source": [
    "df['game']  # removing the column data using the columnd name"
   ]
  },
  {
   "cell_type": "code",
   "execution_count": null,
   "id": "85d52220",
   "metadata": {},
   "outputs": [
    {
     "data": {
      "text/plain": [
       "age           23\n",
       "city         sec\n",
       "tp           ker\n",
       "day          sle\n",
       "shi          clo\n",
       "enj          nig\n",
       "shi.1        aft\n",
       "game         san\n",
       "ack           no\n",
       "salary         5\n",
       "Name      nikhil\n",
       "Name: 5, dtype: object"
      ]
     },
     "execution_count": 139,
     "metadata": {},
     "output_type": "execute_result"
    }
   ],
   "source": [
    "df.loc[5] # removing row data"
   ]
  },
  {
   "cell_type": "code",
   "execution_count": 140,
   "id": "9f44f90d",
   "metadata": {},
   "outputs": [
    {
     "data": {
      "text/plain": [
       "age          45\n",
       "city        upl\n",
       "tp          dan\n",
       "day         slo\n",
       "shi         win\n",
       "enj         aft\n",
       "shi.1       nig\n",
       "game       sane\n",
       "ack          no\n",
       "salary        5\n",
       "Name       Uday\n",
       "Name: 6, dtype: object"
      ]
     },
     "execution_count": 140,
     "metadata": {},
     "output_type": "execute_result"
    }
   ],
   "source": [
    "df.iloc[6] # removing row data using the index location concept"
   ]
  },
  {
   "cell_type": "code",
   "execution_count": null,
   "id": "38bfc4c6",
   "metadata": {},
   "outputs": [
    {
     "data": {
      "text/plain": [
       "Index(['age', 'city', 'tp', 'day', 'shi', 'enj', 'shi.1', 'game', 'ack',\n",
       "       'salary', 'Name'],\n",
       "      dtype='object')"
      ]
     },
     "execution_count": 142,
     "metadata": {},
     "output_type": "execute_result"
    }
   ],
   "source": [
    "df.columns  # access all columns"
   ]
  },
  {
   "cell_type": "code",
   "execution_count": null,
   "id": "ab12707b",
   "metadata": {},
   "outputs": [
    {
     "name": "stderr",
     "output_type": "stream",
     "text": [
      "/tmp/ipykernel_3112/910228526.py:1: FutureWarning: Series.__getitem__ treating keys as positions is deprecated. In a future version, integer keys will always be treated as labels (consistent with DataFrame behavior). To access a value by position, use `ser.iloc[pos]`\n",
      "  df.iloc[4][5]\n"
     ]
    },
    {
     "data": {
      "text/plain": [
       "' nig'"
      ]
     },
     "execution_count": 143,
     "metadata": {},
     "output_type": "execute_result"
    }
   ],
   "source": [
    "df.iloc[4][5]   # accessing a specific element from the data"
   ]
  },
  {
   "cell_type": "code",
   "execution_count": 150,
   "id": "31d99e5b",
   "metadata": {},
   "outputs": [
    {
     "data": {
      "text/plain": [
       "<bound method NDFrame.describe of     age  city     tp    day   shi   enj shi.1   game   ack  salary    Name\n",
       "0    23   hyd    mov    sle   clo   ear   aft    vic   yes      25   Akhil\n",
       "1    34   hyd    goo    eat   sum   eve   aft    san    no      34   Akash\n",
       "2    45   hyd    mic    pla   win   aft   nig    fre    no       2    Anil\n",
       "3    56   sac    ker    vin   rai   nig   mor    pub   yes       3  mahesh\n",
       "4   viz   fof   danc   domc   mor   nig   pun    not   yes       4    arun\n",
       "5    23   sec    ker    sle   clo   nig   aft    san    no       5  nikhil\n",
       "6    45   upl    dan    slo   win   aft   nig   sane    no       5    Uday\n",
       "7    33   ban    pup   play   eve   eve   eve    pub   yes       5    Ajay\n",
       "8    44   blw    cat    sic   mor   nig   psu    nok    no      34     cha\n",
       "9    77   dub    spi    oks   eve   nug   ojl   nlpo   yes      12    pash>"
      ]
     },
     "execution_count": 150,
     "metadata": {},
     "output_type": "execute_result"
    }
   ],
   "source": [
    "df.describe\n"
   ]
  },
  {
   "cell_type": "code",
   "execution_count": 169,
   "id": "cae4eba5",
   "metadata": {},
   "outputs": [
    {
     "name": "stdout",
     "output_type": "stream",
     "text": [
      "{'name': 'Akhil', 'age': 25, 'City': 'Hyd', 'Org': 'MNC'}\n",
      "name    Akhil\n",
      "age        25\n",
      "City      Hyd\n",
      "Org       MNC\n",
      "dtype: object\n",
      "4\n",
      "#########################\n",
      "name    Akhil\n",
      "age        25\n",
      "dtype: object\n",
      "#########################\n",
      "City    Hyd\n",
      "Org     MNC\n",
      "dtype: object\n",
      "#########################\n"
     ]
    }
   ],
   "source": [
    "# Code to check the data frame length and half of the data frame should be printed first and second half of dataframe in next.\n",
    "\n",
    "data = {'name': 'Akhil', 'age':25, 'City': 'Hyd','Org': 'MNC'}\n",
    "\n",
    "import pandas as pd\n",
    "new_data =pd.Series(data)\n",
    "\n",
    "print(data)\n",
    "print(new_data)\n",
    "length = len(new_data)\n",
    "print(length)\n",
    "div = int(length/2)\n",
    "print('#########################')\n",
    "print(new_data.iloc[0: div])\n",
    "print('#########################')\n",
    "\n",
    "print(new_data.iloc[div:])\n",
    "print('#########################')\n"
   ]
  },
  {
   "cell_type": "code",
   "execution_count": 5,
   "id": "c1e7b75d",
   "metadata": {},
   "outputs": [
    {
     "data": {
      "text/html": [
       "<div>\n",
       "<style scoped>\n",
       "    .dataframe tbody tr th:only-of-type {\n",
       "        vertical-align: middle;\n",
       "    }\n",
       "\n",
       "    .dataframe tbody tr th {\n",
       "        vertical-align: top;\n",
       "    }\n",
       "\n",
       "    .dataframe thead th {\n",
       "        text-align: right;\n",
       "    }\n",
       "</style>\n",
       "<table border=\"1\" class=\"dataframe\">\n",
       "  <thead>\n",
       "    <tr style=\"text-align: right;\">\n",
       "      <th></th>\n",
       "      <th>Name</th>\n",
       "      <th>age</th>\n",
       "      <th>city</th>\n",
       "      <th>tp</th>\n",
       "      <th>day</th>\n",
       "      <th>shi</th>\n",
       "      <th>enj</th>\n",
       "      <th>shi.1</th>\n",
       "      <th>game</th>\n",
       "      <th>ack</th>\n",
       "    </tr>\n",
       "  </thead>\n",
       "  <tbody>\n",
       "    <tr>\n",
       "      <th>0</th>\n",
       "      <td>Akhil</td>\n",
       "      <td>23</td>\n",
       "      <td>hyd</td>\n",
       "      <td>mov</td>\n",
       "      <td>sle</td>\n",
       "      <td>clo</td>\n",
       "      <td>ear</td>\n",
       "      <td>aft</td>\n",
       "      <td>vic</td>\n",
       "      <td>yes</td>\n",
       "    </tr>\n",
       "    <tr>\n",
       "      <th>1</th>\n",
       "      <td>Akash</td>\n",
       "      <td>34</td>\n",
       "      <td>hyd</td>\n",
       "      <td>goo</td>\n",
       "      <td>eat</td>\n",
       "      <td>sum</td>\n",
       "      <td>eve</td>\n",
       "      <td>aft</td>\n",
       "      <td>san</td>\n",
       "      <td>no</td>\n",
       "    </tr>\n",
       "    <tr>\n",
       "      <th>2</th>\n",
       "      <td>Anil</td>\n",
       "      <td>45</td>\n",
       "      <td>hyd</td>\n",
       "      <td>mic</td>\n",
       "      <td>pla</td>\n",
       "      <td>win</td>\n",
       "      <td>aft</td>\n",
       "      <td>nig</td>\n",
       "      <td>fre</td>\n",
       "      <td>no</td>\n",
       "    </tr>\n",
       "    <tr>\n",
       "      <th>3</th>\n",
       "      <td>mahesh</td>\n",
       "      <td>56</td>\n",
       "      <td>sac</td>\n",
       "      <td>ker</td>\n",
       "      <td>vin</td>\n",
       "      <td>rai</td>\n",
       "      <td>nig</td>\n",
       "      <td>mor</td>\n",
       "      <td>pub</td>\n",
       "      <td>yes</td>\n",
       "    </tr>\n",
       "    <tr>\n",
       "      <th>4</th>\n",
       "      <td>arun</td>\n",
       "      <td>viz</td>\n",
       "      <td>fof</td>\n",
       "      <td>danc</td>\n",
       "      <td>domc</td>\n",
       "      <td>mor</td>\n",
       "      <td>nig</td>\n",
       "      <td>pun</td>\n",
       "      <td>not</td>\n",
       "      <td>yes</td>\n",
       "    </tr>\n",
       "    <tr>\n",
       "      <th>5</th>\n",
       "      <td>nikhil</td>\n",
       "      <td>23</td>\n",
       "      <td>sec</td>\n",
       "      <td>ker</td>\n",
       "      <td>sle</td>\n",
       "      <td>clo</td>\n",
       "      <td>nig</td>\n",
       "      <td>aft</td>\n",
       "      <td>san</td>\n",
       "      <td>no</td>\n",
       "    </tr>\n",
       "    <tr>\n",
       "      <th>6</th>\n",
       "      <td>Uday</td>\n",
       "      <td>45</td>\n",
       "      <td>upl</td>\n",
       "      <td>dan</td>\n",
       "      <td>slo</td>\n",
       "      <td>win</td>\n",
       "      <td>aft</td>\n",
       "      <td>nig</td>\n",
       "      <td>sane</td>\n",
       "      <td>no</td>\n",
       "    </tr>\n",
       "    <tr>\n",
       "      <th>7</th>\n",
       "      <td>Ajay</td>\n",
       "      <td>33</td>\n",
       "      <td>ban</td>\n",
       "      <td>pup</td>\n",
       "      <td>play</td>\n",
       "      <td>eve</td>\n",
       "      <td>eve</td>\n",
       "      <td>eve</td>\n",
       "      <td>pub</td>\n",
       "      <td>yes</td>\n",
       "    </tr>\n",
       "    <tr>\n",
       "      <th>8</th>\n",
       "      <td>cha</td>\n",
       "      <td>44</td>\n",
       "      <td>blw</td>\n",
       "      <td>cat</td>\n",
       "      <td>sic</td>\n",
       "      <td>mor</td>\n",
       "      <td>nig</td>\n",
       "      <td>psu</td>\n",
       "      <td>nok</td>\n",
       "      <td>no</td>\n",
       "    </tr>\n",
       "    <tr>\n",
       "      <th>9</th>\n",
       "      <td>pash</td>\n",
       "      <td>77</td>\n",
       "      <td>dub</td>\n",
       "      <td>spi</td>\n",
       "      <td>oks</td>\n",
       "      <td>eve</td>\n",
       "      <td>nug</td>\n",
       "      <td>ojl</td>\n",
       "      <td>nlpo</td>\n",
       "      <td>yes</td>\n",
       "    </tr>\n",
       "  </tbody>\n",
       "</table>\n",
       "</div>"
      ],
      "text/plain": [
       "     Name   age  city     tp    day   shi   enj shi.1   game   ack\n",
       "0   Akhil    23   hyd    mov    sle   clo   ear   aft    vic   yes\n",
       "1   Akash    34   hyd    goo    eat   sum   eve   aft    san    no\n",
       "2    Anil    45   hyd    mic    pla   win   aft   nig    fre    no\n",
       "3  mahesh    56   sac    ker    vin   rai   nig   mor    pub   yes\n",
       "4    arun   viz   fof   danc   domc   mor   nig   pun    not   yes\n",
       "5  nikhil    23   sec    ker    sle   clo   nig   aft    san    no\n",
       "6    Uday    45   upl    dan    slo   win   aft   nig   sane    no\n",
       "7    Ajay    33   ban    pup   play   eve   eve   eve    pub   yes\n",
       "8     cha    44   blw    cat    sic   mor   nig   psu    nok    no\n",
       "9    pash    77   dub    spi    oks   eve   nug   ojl   nlpo   yes"
      ]
     },
     "execution_count": 5,
     "metadata": {},
     "output_type": "execute_result"
    }
   ],
   "source": [
    "df\n"
   ]
  },
  {
   "cell_type": "code",
   "execution_count": 6,
   "id": "2b1f851b",
   "metadata": {},
   "outputs": [
    {
     "data": {
      "text/html": [
       "<div>\n",
       "<style scoped>\n",
       "    .dataframe tbody tr th:only-of-type {\n",
       "        vertical-align: middle;\n",
       "    }\n",
       "\n",
       "    .dataframe tbody tr th {\n",
       "        vertical-align: top;\n",
       "    }\n",
       "\n",
       "    .dataframe thead th {\n",
       "        text-align: right;\n",
       "    }\n",
       "</style>\n",
       "<table border=\"1\" class=\"dataframe\">\n",
       "  <thead>\n",
       "    <tr style=\"text-align: right;\">\n",
       "      <th></th>\n",
       "      <th>Name</th>\n",
       "      <th>age</th>\n",
       "      <th>city</th>\n",
       "      <th>tp</th>\n",
       "      <th>day</th>\n",
       "      <th>shi</th>\n",
       "      <th>enj</th>\n",
       "      <th>shi.1</th>\n",
       "      <th>game</th>\n",
       "      <th>ack</th>\n",
       "    </tr>\n",
       "  </thead>\n",
       "  <tbody>\n",
       "    <tr>\n",
       "      <th>0</th>\n",
       "      <td>False</td>\n",
       "      <td>False</td>\n",
       "      <td>False</td>\n",
       "      <td>False</td>\n",
       "      <td>False</td>\n",
       "      <td>False</td>\n",
       "      <td>False</td>\n",
       "      <td>False</td>\n",
       "      <td>False</td>\n",
       "      <td>False</td>\n",
       "    </tr>\n",
       "    <tr>\n",
       "      <th>1</th>\n",
       "      <td>False</td>\n",
       "      <td>False</td>\n",
       "      <td>False</td>\n",
       "      <td>False</td>\n",
       "      <td>False</td>\n",
       "      <td>False</td>\n",
       "      <td>False</td>\n",
       "      <td>False</td>\n",
       "      <td>False</td>\n",
       "      <td>False</td>\n",
       "    </tr>\n",
       "    <tr>\n",
       "      <th>2</th>\n",
       "      <td>False</td>\n",
       "      <td>False</td>\n",
       "      <td>False</td>\n",
       "      <td>False</td>\n",
       "      <td>False</td>\n",
       "      <td>False</td>\n",
       "      <td>False</td>\n",
       "      <td>False</td>\n",
       "      <td>False</td>\n",
       "      <td>False</td>\n",
       "    </tr>\n",
       "    <tr>\n",
       "      <th>3</th>\n",
       "      <td>False</td>\n",
       "      <td>False</td>\n",
       "      <td>False</td>\n",
       "      <td>False</td>\n",
       "      <td>False</td>\n",
       "      <td>False</td>\n",
       "      <td>False</td>\n",
       "      <td>False</td>\n",
       "      <td>False</td>\n",
       "      <td>False</td>\n",
       "    </tr>\n",
       "    <tr>\n",
       "      <th>4</th>\n",
       "      <td>False</td>\n",
       "      <td>False</td>\n",
       "      <td>False</td>\n",
       "      <td>False</td>\n",
       "      <td>False</td>\n",
       "      <td>False</td>\n",
       "      <td>False</td>\n",
       "      <td>False</td>\n",
       "      <td>False</td>\n",
       "      <td>False</td>\n",
       "    </tr>\n",
       "    <tr>\n",
       "      <th>5</th>\n",
       "      <td>False</td>\n",
       "      <td>False</td>\n",
       "      <td>False</td>\n",
       "      <td>False</td>\n",
       "      <td>False</td>\n",
       "      <td>False</td>\n",
       "      <td>False</td>\n",
       "      <td>False</td>\n",
       "      <td>False</td>\n",
       "      <td>False</td>\n",
       "    </tr>\n",
       "    <tr>\n",
       "      <th>6</th>\n",
       "      <td>False</td>\n",
       "      <td>False</td>\n",
       "      <td>False</td>\n",
       "      <td>False</td>\n",
       "      <td>False</td>\n",
       "      <td>False</td>\n",
       "      <td>False</td>\n",
       "      <td>False</td>\n",
       "      <td>False</td>\n",
       "      <td>False</td>\n",
       "    </tr>\n",
       "    <tr>\n",
       "      <th>7</th>\n",
       "      <td>False</td>\n",
       "      <td>False</td>\n",
       "      <td>False</td>\n",
       "      <td>False</td>\n",
       "      <td>False</td>\n",
       "      <td>False</td>\n",
       "      <td>False</td>\n",
       "      <td>False</td>\n",
       "      <td>False</td>\n",
       "      <td>False</td>\n",
       "    </tr>\n",
       "    <tr>\n",
       "      <th>8</th>\n",
       "      <td>False</td>\n",
       "      <td>False</td>\n",
       "      <td>False</td>\n",
       "      <td>False</td>\n",
       "      <td>False</td>\n",
       "      <td>False</td>\n",
       "      <td>False</td>\n",
       "      <td>False</td>\n",
       "      <td>False</td>\n",
       "      <td>False</td>\n",
       "    </tr>\n",
       "    <tr>\n",
       "      <th>9</th>\n",
       "      <td>False</td>\n",
       "      <td>False</td>\n",
       "      <td>False</td>\n",
       "      <td>False</td>\n",
       "      <td>False</td>\n",
       "      <td>False</td>\n",
       "      <td>False</td>\n",
       "      <td>False</td>\n",
       "      <td>False</td>\n",
       "      <td>False</td>\n",
       "    </tr>\n",
       "  </tbody>\n",
       "</table>\n",
       "</div>"
      ],
      "text/plain": [
       "    Name    age   city     tp    day    shi    enj  shi.1   game    ack\n",
       "0  False  False  False  False  False  False  False  False  False  False\n",
       "1  False  False  False  False  False  False  False  False  False  False\n",
       "2  False  False  False  False  False  False  False  False  False  False\n",
       "3  False  False  False  False  False  False  False  False  False  False\n",
       "4  False  False  False  False  False  False  False  False  False  False\n",
       "5  False  False  False  False  False  False  False  False  False  False\n",
       "6  False  False  False  False  False  False  False  False  False  False\n",
       "7  False  False  False  False  False  False  False  False  False  False\n",
       "8  False  False  False  False  False  False  False  False  False  False\n",
       "9  False  False  False  False  False  False  False  False  False  False"
      ]
     },
     "execution_count": 6,
     "metadata": {},
     "output_type": "execute_result"
    }
   ],
   "source": [
    "df.isnull()\n"
   ]
  },
  {
   "cell_type": "code",
   "execution_count": 7,
   "id": "b37d62d4",
   "metadata": {},
   "outputs": [
    {
     "data": {
      "text/html": [
       "<div>\n",
       "<style scoped>\n",
       "    .dataframe tbody tr th:only-of-type {\n",
       "        vertical-align: middle;\n",
       "    }\n",
       "\n",
       "    .dataframe tbody tr th {\n",
       "        vertical-align: top;\n",
       "    }\n",
       "\n",
       "    .dataframe thead th {\n",
       "        text-align: right;\n",
       "    }\n",
       "</style>\n",
       "<table border=\"1\" class=\"dataframe\">\n",
       "  <thead>\n",
       "    <tr style=\"text-align: right;\">\n",
       "      <th></th>\n",
       "      <th>Name</th>\n",
       "      <th>age</th>\n",
       "      <th>city</th>\n",
       "      <th>tp</th>\n",
       "      <th>day</th>\n",
       "      <th>shi</th>\n",
       "      <th>enj</th>\n",
       "      <th>shi.1</th>\n",
       "      <th>game</th>\n",
       "      <th>ack</th>\n",
       "    </tr>\n",
       "  </thead>\n",
       "  <tbody>\n",
       "    <tr>\n",
       "      <th>0</th>\n",
       "      <td>NaN</td>\n",
       "      <td>NaN</td>\n",
       "      <td>NaN</td>\n",
       "      <td>NaN</td>\n",
       "      <td>NaN</td>\n",
       "      <td>NaN</td>\n",
       "      <td>NaN</td>\n",
       "      <td>NaN</td>\n",
       "      <td>NaN</td>\n",
       "      <td>NaN</td>\n",
       "    </tr>\n",
       "    <tr>\n",
       "      <th>1</th>\n",
       "      <td>NaN</td>\n",
       "      <td>NaN</td>\n",
       "      <td>NaN</td>\n",
       "      <td>NaN</td>\n",
       "      <td>NaN</td>\n",
       "      <td>NaN</td>\n",
       "      <td>NaN</td>\n",
       "      <td>NaN</td>\n",
       "      <td>NaN</td>\n",
       "      <td>NaN</td>\n",
       "    </tr>\n",
       "    <tr>\n",
       "      <th>2</th>\n",
       "      <td>NaN</td>\n",
       "      <td>NaN</td>\n",
       "      <td>NaN</td>\n",
       "      <td>NaN</td>\n",
       "      <td>NaN</td>\n",
       "      <td>NaN</td>\n",
       "      <td>NaN</td>\n",
       "      <td>NaN</td>\n",
       "      <td>NaN</td>\n",
       "      <td>NaN</td>\n",
       "    </tr>\n",
       "    <tr>\n",
       "      <th>3</th>\n",
       "      <td>NaN</td>\n",
       "      <td>NaN</td>\n",
       "      <td>NaN</td>\n",
       "      <td>NaN</td>\n",
       "      <td>NaN</td>\n",
       "      <td>NaN</td>\n",
       "      <td>NaN</td>\n",
       "      <td>NaN</td>\n",
       "      <td>NaN</td>\n",
       "      <td>NaN</td>\n",
       "    </tr>\n",
       "    <tr>\n",
       "      <th>4</th>\n",
       "      <td>NaN</td>\n",
       "      <td>NaN</td>\n",
       "      <td>NaN</td>\n",
       "      <td>NaN</td>\n",
       "      <td>NaN</td>\n",
       "      <td>NaN</td>\n",
       "      <td>NaN</td>\n",
       "      <td>NaN</td>\n",
       "      <td>NaN</td>\n",
       "      <td>NaN</td>\n",
       "    </tr>\n",
       "    <tr>\n",
       "      <th>5</th>\n",
       "      <td>NaN</td>\n",
       "      <td>NaN</td>\n",
       "      <td>NaN</td>\n",
       "      <td>NaN</td>\n",
       "      <td>NaN</td>\n",
       "      <td>NaN</td>\n",
       "      <td>NaN</td>\n",
       "      <td>NaN</td>\n",
       "      <td>NaN</td>\n",
       "      <td>NaN</td>\n",
       "    </tr>\n",
       "    <tr>\n",
       "      <th>6</th>\n",
       "      <td>NaN</td>\n",
       "      <td>NaN</td>\n",
       "      <td>NaN</td>\n",
       "      <td>NaN</td>\n",
       "      <td>NaN</td>\n",
       "      <td>NaN</td>\n",
       "      <td>NaN</td>\n",
       "      <td>NaN</td>\n",
       "      <td>NaN</td>\n",
       "      <td>NaN</td>\n",
       "    </tr>\n",
       "    <tr>\n",
       "      <th>7</th>\n",
       "      <td>NaN</td>\n",
       "      <td>NaN</td>\n",
       "      <td>NaN</td>\n",
       "      <td>NaN</td>\n",
       "      <td>NaN</td>\n",
       "      <td>NaN</td>\n",
       "      <td>NaN</td>\n",
       "      <td>NaN</td>\n",
       "      <td>NaN</td>\n",
       "      <td>NaN</td>\n",
       "    </tr>\n",
       "    <tr>\n",
       "      <th>8</th>\n",
       "      <td>NaN</td>\n",
       "      <td>NaN</td>\n",
       "      <td>NaN</td>\n",
       "      <td>NaN</td>\n",
       "      <td>NaN</td>\n",
       "      <td>NaN</td>\n",
       "      <td>NaN</td>\n",
       "      <td>NaN</td>\n",
       "      <td>NaN</td>\n",
       "      <td>NaN</td>\n",
       "    </tr>\n",
       "    <tr>\n",
       "      <th>9</th>\n",
       "      <td>NaN</td>\n",
       "      <td>NaN</td>\n",
       "      <td>NaN</td>\n",
       "      <td>NaN</td>\n",
       "      <td>NaN</td>\n",
       "      <td>NaN</td>\n",
       "      <td>NaN</td>\n",
       "      <td>NaN</td>\n",
       "      <td>NaN</td>\n",
       "      <td>NaN</td>\n",
       "    </tr>\n",
       "  </tbody>\n",
       "</table>\n",
       "</div>"
      ],
      "text/plain": [
       "  Name  age city   tp  day  shi  enj shi.1 game  ack\n",
       "0  NaN  NaN  NaN  NaN  NaN  NaN  NaN   NaN  NaN  NaN\n",
       "1  NaN  NaN  NaN  NaN  NaN  NaN  NaN   NaN  NaN  NaN\n",
       "2  NaN  NaN  NaN  NaN  NaN  NaN  NaN   NaN  NaN  NaN\n",
       "3  NaN  NaN  NaN  NaN  NaN  NaN  NaN   NaN  NaN  NaN\n",
       "4  NaN  NaN  NaN  NaN  NaN  NaN  NaN   NaN  NaN  NaN\n",
       "5  NaN  NaN  NaN  NaN  NaN  NaN  NaN   NaN  NaN  NaN\n",
       "6  NaN  NaN  NaN  NaN  NaN  NaN  NaN   NaN  NaN  NaN\n",
       "7  NaN  NaN  NaN  NaN  NaN  NaN  NaN   NaN  NaN  NaN\n",
       "8  NaN  NaN  NaN  NaN  NaN  NaN  NaN   NaN  NaN  NaN\n",
       "9  NaN  NaN  NaN  NaN  NaN  NaN  NaN   NaN  NaN  NaN"
      ]
     },
     "execution_count": 7,
     "metadata": {},
     "output_type": "execute_result"
    }
   ],
   "source": [
    "df[df.isnull()]"
   ]
  },
  {
   "cell_type": "code",
   "execution_count": 9,
   "id": "a8cce39b",
   "metadata": {},
   "outputs": [
    {
     "data": {
      "text/plain": [
       "Name     False\n",
       "age      False\n",
       "city     False\n",
       "tp       False\n",
       "day      False\n",
       "shi      False\n",
       "enj      False\n",
       "shi.1    False\n",
       "game     False\n",
       "ack      False\n",
       "dtype: bool"
      ]
     },
     "execution_count": 9,
     "metadata": {},
     "output_type": "execute_result"
    }
   ],
   "source": [
    "df.isnull().any()"
   ]
  },
  {
   "cell_type": "code",
   "execution_count": 4,
   "id": "3391b57f",
   "metadata": {},
   "outputs": [
    {
     "name": "stdout",
     "output_type": "stream",
     "text": [
      "     Name   age Unnamed: 2     tp    day   shi   enj shi.1   game   ack\n",
      "0   Akhil    23        hyd    NaN    sle   clo   ear   aft    vic   yes\n",
      "1   Akash    34        hyd    goo    NaN   sum   eve   aft    san    no\n",
      "2    Anil    45        hyd    mic    pla   win   aft   nig    fre    no\n",
      "3  mahesh    56        sac    ker    NaN   rai   nig   mor    pub   yes\n",
      "4    arun   viz        fof   danc   domc   mor   nig   pun    not   yes\n",
      "5  nikhil    23        sec    ker    NaN   clo   nig   aft    san    no\n",
      "6    Uday    45        upl    NaN    slo   win   aft   nig   sane    no\n",
      "7    Ajay    33        NaN    pup   play   eve   eve   eve    pub   yes\n",
      "8     cha   NaN        blw    cat    sic   mor   nig   psu    nok    no\n",
      "9    pash    77        dub    NaN    oks   eve   nug   ojl   nlpo   yes\n"
     ]
    }
   ],
   "source": [
    "import pandas as pd\n",
    "df1 = pd.read_csv('sample1.csv')\n",
    "print(df1)"
   ]
  },
  {
   "cell_type": "code",
   "execution_count": 24,
   "id": "daa577f2",
   "metadata": {},
   "outputs": [
    {
     "data": {
      "text/html": [
       "<div>\n",
       "<style scoped>\n",
       "    .dataframe tbody tr th:only-of-type {\n",
       "        vertical-align: middle;\n",
       "    }\n",
       "\n",
       "    .dataframe tbody tr th {\n",
       "        vertical-align: top;\n",
       "    }\n",
       "\n",
       "    .dataframe thead th {\n",
       "        text-align: right;\n",
       "    }\n",
       "</style>\n",
       "<table border=\"1\" class=\"dataframe\">\n",
       "  <thead>\n",
       "    <tr style=\"text-align: right;\">\n",
       "      <th></th>\n",
       "      <th>Name</th>\n",
       "      <th>age</th>\n",
       "      <th>Unnamed: 2</th>\n",
       "      <th>tp</th>\n",
       "      <th>day</th>\n",
       "      <th>shi</th>\n",
       "      <th>enj</th>\n",
       "      <th>shi.1</th>\n",
       "      <th>game</th>\n",
       "      <th>ack</th>\n",
       "    </tr>\n",
       "  </thead>\n",
       "  <tbody>\n",
       "    <tr>\n",
       "      <th>0</th>\n",
       "      <td>False</td>\n",
       "      <td>False</td>\n",
       "      <td>False</td>\n",
       "      <td>True</td>\n",
       "      <td>False</td>\n",
       "      <td>False</td>\n",
       "      <td>False</td>\n",
       "      <td>False</td>\n",
       "      <td>False</td>\n",
       "      <td>False</td>\n",
       "    </tr>\n",
       "    <tr>\n",
       "      <th>1</th>\n",
       "      <td>False</td>\n",
       "      <td>False</td>\n",
       "      <td>False</td>\n",
       "      <td>False</td>\n",
       "      <td>True</td>\n",
       "      <td>False</td>\n",
       "      <td>False</td>\n",
       "      <td>False</td>\n",
       "      <td>False</td>\n",
       "      <td>False</td>\n",
       "    </tr>\n",
       "    <tr>\n",
       "      <th>2</th>\n",
       "      <td>False</td>\n",
       "      <td>False</td>\n",
       "      <td>False</td>\n",
       "      <td>False</td>\n",
       "      <td>False</td>\n",
       "      <td>False</td>\n",
       "      <td>False</td>\n",
       "      <td>False</td>\n",
       "      <td>False</td>\n",
       "      <td>False</td>\n",
       "    </tr>\n",
       "    <tr>\n",
       "      <th>3</th>\n",
       "      <td>False</td>\n",
       "      <td>False</td>\n",
       "      <td>False</td>\n",
       "      <td>False</td>\n",
       "      <td>True</td>\n",
       "      <td>False</td>\n",
       "      <td>False</td>\n",
       "      <td>False</td>\n",
       "      <td>False</td>\n",
       "      <td>False</td>\n",
       "    </tr>\n",
       "    <tr>\n",
       "      <th>4</th>\n",
       "      <td>False</td>\n",
       "      <td>False</td>\n",
       "      <td>False</td>\n",
       "      <td>False</td>\n",
       "      <td>False</td>\n",
       "      <td>False</td>\n",
       "      <td>False</td>\n",
       "      <td>False</td>\n",
       "      <td>False</td>\n",
       "      <td>False</td>\n",
       "    </tr>\n",
       "    <tr>\n",
       "      <th>5</th>\n",
       "      <td>False</td>\n",
       "      <td>False</td>\n",
       "      <td>False</td>\n",
       "      <td>False</td>\n",
       "      <td>True</td>\n",
       "      <td>False</td>\n",
       "      <td>False</td>\n",
       "      <td>False</td>\n",
       "      <td>False</td>\n",
       "      <td>False</td>\n",
       "    </tr>\n",
       "    <tr>\n",
       "      <th>6</th>\n",
       "      <td>False</td>\n",
       "      <td>False</td>\n",
       "      <td>False</td>\n",
       "      <td>True</td>\n",
       "      <td>False</td>\n",
       "      <td>False</td>\n",
       "      <td>False</td>\n",
       "      <td>False</td>\n",
       "      <td>False</td>\n",
       "      <td>False</td>\n",
       "    </tr>\n",
       "    <tr>\n",
       "      <th>7</th>\n",
       "      <td>False</td>\n",
       "      <td>False</td>\n",
       "      <td>True</td>\n",
       "      <td>False</td>\n",
       "      <td>False</td>\n",
       "      <td>False</td>\n",
       "      <td>False</td>\n",
       "      <td>False</td>\n",
       "      <td>False</td>\n",
       "      <td>False</td>\n",
       "    </tr>\n",
       "    <tr>\n",
       "      <th>8</th>\n",
       "      <td>False</td>\n",
       "      <td>True</td>\n",
       "      <td>False</td>\n",
       "      <td>False</td>\n",
       "      <td>False</td>\n",
       "      <td>False</td>\n",
       "      <td>False</td>\n",
       "      <td>False</td>\n",
       "      <td>False</td>\n",
       "      <td>False</td>\n",
       "    </tr>\n",
       "    <tr>\n",
       "      <th>9</th>\n",
       "      <td>False</td>\n",
       "      <td>False</td>\n",
       "      <td>False</td>\n",
       "      <td>True</td>\n",
       "      <td>False</td>\n",
       "      <td>False</td>\n",
       "      <td>False</td>\n",
       "      <td>False</td>\n",
       "      <td>False</td>\n",
       "      <td>False</td>\n",
       "    </tr>\n",
       "  </tbody>\n",
       "</table>\n",
       "</div>"
      ],
      "text/plain": [
       "    Name    age  Unnamed: 2     tp    day    shi    enj  shi.1   game    ack\n",
       "0  False  False       False   True  False  False  False  False  False  False\n",
       "1  False  False       False  False   True  False  False  False  False  False\n",
       "2  False  False       False  False  False  False  False  False  False  False\n",
       "3  False  False       False  False   True  False  False  False  False  False\n",
       "4  False  False       False  False  False  False  False  False  False  False\n",
       "5  False  False       False  False   True  False  False  False  False  False\n",
       "6  False  False       False   True  False  False  False  False  False  False\n",
       "7  False  False        True  False  False  False  False  False  False  False\n",
       "8  False   True       False  False  False  False  False  False  False  False\n",
       "9  False  False       False   True  False  False  False  False  False  False"
      ]
     },
     "execution_count": 24,
     "metadata": {},
     "output_type": "execute_result"
    }
   ],
   "source": [
    "df1.isnull()\n"
   ]
  },
  {
   "cell_type": "code",
   "execution_count": 25,
   "id": "14d5cb6b",
   "metadata": {},
   "outputs": [
    {
     "data": {
      "text/html": [
       "<div>\n",
       "<style scoped>\n",
       "    .dataframe tbody tr th:only-of-type {\n",
       "        vertical-align: middle;\n",
       "    }\n",
       "\n",
       "    .dataframe tbody tr th {\n",
       "        vertical-align: top;\n",
       "    }\n",
       "\n",
       "    .dataframe thead th {\n",
       "        text-align: right;\n",
       "    }\n",
       "</style>\n",
       "<table border=\"1\" class=\"dataframe\">\n",
       "  <thead>\n",
       "    <tr style=\"text-align: right;\">\n",
       "      <th></th>\n",
       "      <th>Name</th>\n",
       "      <th>age</th>\n",
       "      <th>Unnamed: 2</th>\n",
       "      <th>tp</th>\n",
       "      <th>day</th>\n",
       "      <th>shi</th>\n",
       "      <th>enj</th>\n",
       "      <th>shi.1</th>\n",
       "      <th>game</th>\n",
       "      <th>ack</th>\n",
       "    </tr>\n",
       "  </thead>\n",
       "  <tbody>\n",
       "    <tr>\n",
       "      <th>0</th>\n",
       "      <td>NaN</td>\n",
       "      <td>NaN</td>\n",
       "      <td>NaN</td>\n",
       "      <td>NaN</td>\n",
       "      <td>NaN</td>\n",
       "      <td>NaN</td>\n",
       "      <td>NaN</td>\n",
       "      <td>NaN</td>\n",
       "      <td>NaN</td>\n",
       "      <td>NaN</td>\n",
       "    </tr>\n",
       "    <tr>\n",
       "      <th>1</th>\n",
       "      <td>NaN</td>\n",
       "      <td>NaN</td>\n",
       "      <td>NaN</td>\n",
       "      <td>NaN</td>\n",
       "      <td>NaN</td>\n",
       "      <td>NaN</td>\n",
       "      <td>NaN</td>\n",
       "      <td>NaN</td>\n",
       "      <td>NaN</td>\n",
       "      <td>NaN</td>\n",
       "    </tr>\n",
       "    <tr>\n",
       "      <th>2</th>\n",
       "      <td>NaN</td>\n",
       "      <td>NaN</td>\n",
       "      <td>NaN</td>\n",
       "      <td>NaN</td>\n",
       "      <td>NaN</td>\n",
       "      <td>NaN</td>\n",
       "      <td>NaN</td>\n",
       "      <td>NaN</td>\n",
       "      <td>NaN</td>\n",
       "      <td>NaN</td>\n",
       "    </tr>\n",
       "    <tr>\n",
       "      <th>3</th>\n",
       "      <td>NaN</td>\n",
       "      <td>NaN</td>\n",
       "      <td>NaN</td>\n",
       "      <td>NaN</td>\n",
       "      <td>NaN</td>\n",
       "      <td>NaN</td>\n",
       "      <td>NaN</td>\n",
       "      <td>NaN</td>\n",
       "      <td>NaN</td>\n",
       "      <td>NaN</td>\n",
       "    </tr>\n",
       "    <tr>\n",
       "      <th>4</th>\n",
       "      <td>NaN</td>\n",
       "      <td>NaN</td>\n",
       "      <td>NaN</td>\n",
       "      <td>NaN</td>\n",
       "      <td>NaN</td>\n",
       "      <td>NaN</td>\n",
       "      <td>NaN</td>\n",
       "      <td>NaN</td>\n",
       "      <td>NaN</td>\n",
       "      <td>NaN</td>\n",
       "    </tr>\n",
       "    <tr>\n",
       "      <th>5</th>\n",
       "      <td>NaN</td>\n",
       "      <td>NaN</td>\n",
       "      <td>NaN</td>\n",
       "      <td>NaN</td>\n",
       "      <td>NaN</td>\n",
       "      <td>NaN</td>\n",
       "      <td>NaN</td>\n",
       "      <td>NaN</td>\n",
       "      <td>NaN</td>\n",
       "      <td>NaN</td>\n",
       "    </tr>\n",
       "    <tr>\n",
       "      <th>6</th>\n",
       "      <td>NaN</td>\n",
       "      <td>NaN</td>\n",
       "      <td>NaN</td>\n",
       "      <td>NaN</td>\n",
       "      <td>NaN</td>\n",
       "      <td>NaN</td>\n",
       "      <td>NaN</td>\n",
       "      <td>NaN</td>\n",
       "      <td>NaN</td>\n",
       "      <td>NaN</td>\n",
       "    </tr>\n",
       "    <tr>\n",
       "      <th>7</th>\n",
       "      <td>NaN</td>\n",
       "      <td>NaN</td>\n",
       "      <td>NaN</td>\n",
       "      <td>NaN</td>\n",
       "      <td>NaN</td>\n",
       "      <td>NaN</td>\n",
       "      <td>NaN</td>\n",
       "      <td>NaN</td>\n",
       "      <td>NaN</td>\n",
       "      <td>NaN</td>\n",
       "    </tr>\n",
       "    <tr>\n",
       "      <th>8</th>\n",
       "      <td>NaN</td>\n",
       "      <td>NaN</td>\n",
       "      <td>NaN</td>\n",
       "      <td>NaN</td>\n",
       "      <td>NaN</td>\n",
       "      <td>NaN</td>\n",
       "      <td>NaN</td>\n",
       "      <td>NaN</td>\n",
       "      <td>NaN</td>\n",
       "      <td>NaN</td>\n",
       "    </tr>\n",
       "    <tr>\n",
       "      <th>9</th>\n",
       "      <td>NaN</td>\n",
       "      <td>NaN</td>\n",
       "      <td>NaN</td>\n",
       "      <td>NaN</td>\n",
       "      <td>NaN</td>\n",
       "      <td>NaN</td>\n",
       "      <td>NaN</td>\n",
       "      <td>NaN</td>\n",
       "      <td>NaN</td>\n",
       "      <td>NaN</td>\n",
       "    </tr>\n",
       "  </tbody>\n",
       "</table>\n",
       "</div>"
      ],
      "text/plain": [
       "  Name  age Unnamed: 2   tp  day  shi  enj shi.1 game  ack\n",
       "0  NaN  NaN        NaN  NaN  NaN  NaN  NaN   NaN  NaN  NaN\n",
       "1  NaN  NaN        NaN  NaN  NaN  NaN  NaN   NaN  NaN  NaN\n",
       "2  NaN  NaN        NaN  NaN  NaN  NaN  NaN   NaN  NaN  NaN\n",
       "3  NaN  NaN        NaN  NaN  NaN  NaN  NaN   NaN  NaN  NaN\n",
       "4  NaN  NaN        NaN  NaN  NaN  NaN  NaN   NaN  NaN  NaN\n",
       "5  NaN  NaN        NaN  NaN  NaN  NaN  NaN   NaN  NaN  NaN\n",
       "6  NaN  NaN        NaN  NaN  NaN  NaN  NaN   NaN  NaN  NaN\n",
       "7  NaN  NaN        NaN  NaN  NaN  NaN  NaN   NaN  NaN  NaN\n",
       "8  NaN  NaN        NaN  NaN  NaN  NaN  NaN   NaN  NaN  NaN\n",
       "9  NaN  NaN        NaN  NaN  NaN  NaN  NaN   NaN  NaN  NaN"
      ]
     },
     "execution_count": 25,
     "metadata": {},
     "output_type": "execute_result"
    }
   ],
   "source": [
    "df1[df1.isnull()]"
   ]
  },
  {
   "cell_type": "code",
   "execution_count": 26,
   "id": "91403b82",
   "metadata": {},
   "outputs": [
    {
     "data": {
      "text/plain": [
       "Name          False\n",
       "age            True\n",
       "Unnamed: 2     True\n",
       "tp             True\n",
       "day            True\n",
       "shi           False\n",
       "enj           False\n",
       "shi.1         False\n",
       "game          False\n",
       "ack           False\n",
       "dtype: bool"
      ]
     },
     "execution_count": 26,
     "metadata": {},
     "output_type": "execute_result"
    }
   ],
   "source": [
    "df1.isnull().any()"
   ]
  },
  {
   "cell_type": "code",
   "execution_count": 27,
   "id": "4b74f5c4",
   "metadata": {},
   "outputs": [
    {
     "data": {
      "text/plain": [
       "Name          0\n",
       "age           1\n",
       "Unnamed: 2    1\n",
       "tp            3\n",
       "day           3\n",
       "shi           0\n",
       "enj           0\n",
       "shi.1         0\n",
       "game          0\n",
       "ack           0\n",
       "dtype: int64"
      ]
     },
     "execution_count": 27,
     "metadata": {},
     "output_type": "execute_result"
    }
   ],
   "source": [
    "df1.isnull().sum()"
   ]
  },
  {
   "cell_type": "code",
   "execution_count": 7,
   "id": "ac39efbf",
   "metadata": {},
   "outputs": [
    {
     "data": {
      "text/html": [
       "<div>\n",
       "<style scoped>\n",
       "    .dataframe tbody tr th:only-of-type {\n",
       "        vertical-align: middle;\n",
       "    }\n",
       "\n",
       "    .dataframe tbody tr th {\n",
       "        vertical-align: top;\n",
       "    }\n",
       "\n",
       "    .dataframe thead th {\n",
       "        text-align: right;\n",
       "    }\n",
       "</style>\n",
       "<table border=\"1\" class=\"dataframe\">\n",
       "  <thead>\n",
       "    <tr style=\"text-align: right;\">\n",
       "      <th></th>\n",
       "      <th>Name</th>\n",
       "      <th>age</th>\n",
       "      <th>Unnamed: 2</th>\n",
       "      <th>tp</th>\n",
       "      <th>day</th>\n",
       "      <th>shi</th>\n",
       "      <th>enj</th>\n",
       "      <th>shi.1</th>\n",
       "      <th>game</th>\n",
       "      <th>ack</th>\n",
       "    </tr>\n",
       "  </thead>\n",
       "  <tbody>\n",
       "    <tr>\n",
       "      <th>0</th>\n",
       "      <td>Akhil</td>\n",
       "      <td>23</td>\n",
       "      <td>hyd</td>\n",
       "      <td>0</td>\n",
       "      <td>sle</td>\n",
       "      <td>clo</td>\n",
       "      <td>ear</td>\n",
       "      <td>aft</td>\n",
       "      <td>vic</td>\n",
       "      <td>yes</td>\n",
       "    </tr>\n",
       "    <tr>\n",
       "      <th>1</th>\n",
       "      <td>Akash</td>\n",
       "      <td>34</td>\n",
       "      <td>hyd</td>\n",
       "      <td>goo</td>\n",
       "      <td>0</td>\n",
       "      <td>sum</td>\n",
       "      <td>eve</td>\n",
       "      <td>aft</td>\n",
       "      <td>san</td>\n",
       "      <td>no</td>\n",
       "    </tr>\n",
       "    <tr>\n",
       "      <th>2</th>\n",
       "      <td>Anil</td>\n",
       "      <td>45</td>\n",
       "      <td>hyd</td>\n",
       "      <td>mic</td>\n",
       "      <td>pla</td>\n",
       "      <td>win</td>\n",
       "      <td>aft</td>\n",
       "      <td>nig</td>\n",
       "      <td>fre</td>\n",
       "      <td>no</td>\n",
       "    </tr>\n",
       "    <tr>\n",
       "      <th>3</th>\n",
       "      <td>mahesh</td>\n",
       "      <td>56</td>\n",
       "      <td>sac</td>\n",
       "      <td>ker</td>\n",
       "      <td>0</td>\n",
       "      <td>rai</td>\n",
       "      <td>nig</td>\n",
       "      <td>mor</td>\n",
       "      <td>pub</td>\n",
       "      <td>yes</td>\n",
       "    </tr>\n",
       "    <tr>\n",
       "      <th>4</th>\n",
       "      <td>arun</td>\n",
       "      <td>viz</td>\n",
       "      <td>fof</td>\n",
       "      <td>danc</td>\n",
       "      <td>domc</td>\n",
       "      <td>mor</td>\n",
       "      <td>nig</td>\n",
       "      <td>pun</td>\n",
       "      <td>not</td>\n",
       "      <td>yes</td>\n",
       "    </tr>\n",
       "    <tr>\n",
       "      <th>5</th>\n",
       "      <td>nikhil</td>\n",
       "      <td>23</td>\n",
       "      <td>sec</td>\n",
       "      <td>ker</td>\n",
       "      <td>0</td>\n",
       "      <td>clo</td>\n",
       "      <td>nig</td>\n",
       "      <td>aft</td>\n",
       "      <td>san</td>\n",
       "      <td>no</td>\n",
       "    </tr>\n",
       "    <tr>\n",
       "      <th>6</th>\n",
       "      <td>Uday</td>\n",
       "      <td>45</td>\n",
       "      <td>upl</td>\n",
       "      <td>0</td>\n",
       "      <td>slo</td>\n",
       "      <td>win</td>\n",
       "      <td>aft</td>\n",
       "      <td>nig</td>\n",
       "      <td>sane</td>\n",
       "      <td>no</td>\n",
       "    </tr>\n",
       "    <tr>\n",
       "      <th>7</th>\n",
       "      <td>Ajay</td>\n",
       "      <td>33</td>\n",
       "      <td>0</td>\n",
       "      <td>pup</td>\n",
       "      <td>play</td>\n",
       "      <td>eve</td>\n",
       "      <td>eve</td>\n",
       "      <td>eve</td>\n",
       "      <td>pub</td>\n",
       "      <td>yes</td>\n",
       "    </tr>\n",
       "    <tr>\n",
       "      <th>8</th>\n",
       "      <td>cha</td>\n",
       "      <td>0</td>\n",
       "      <td>blw</td>\n",
       "      <td>cat</td>\n",
       "      <td>sic</td>\n",
       "      <td>mor</td>\n",
       "      <td>nig</td>\n",
       "      <td>psu</td>\n",
       "      <td>nok</td>\n",
       "      <td>no</td>\n",
       "    </tr>\n",
       "    <tr>\n",
       "      <th>9</th>\n",
       "      <td>pash</td>\n",
       "      <td>77</td>\n",
       "      <td>dub</td>\n",
       "      <td>0</td>\n",
       "      <td>oks</td>\n",
       "      <td>eve</td>\n",
       "      <td>nug</td>\n",
       "      <td>ojl</td>\n",
       "      <td>nlpo</td>\n",
       "      <td>yes</td>\n",
       "    </tr>\n",
       "  </tbody>\n",
       "</table>\n",
       "</div>"
      ],
      "text/plain": [
       "     Name   age Unnamed: 2     tp    day   shi   enj shi.1   game   ack\n",
       "0   Akhil    23        hyd      0    sle   clo   ear   aft    vic   yes\n",
       "1   Akash    34        hyd    goo      0   sum   eve   aft    san    no\n",
       "2    Anil    45        hyd    mic    pla   win   aft   nig    fre    no\n",
       "3  mahesh    56        sac    ker      0   rai   nig   mor    pub   yes\n",
       "4    arun   viz        fof   danc   domc   mor   nig   pun    not   yes\n",
       "5  nikhil    23        sec    ker      0   clo   nig   aft    san    no\n",
       "6    Uday    45        upl      0    slo   win   aft   nig   sane    no\n",
       "7    Ajay    33          0    pup   play   eve   eve   eve    pub   yes\n",
       "8     cha     0        blw    cat    sic   mor   nig   psu    nok    no\n",
       "9    pash    77        dub      0    oks   eve   nug   ojl   nlpo   yes"
      ]
     },
     "execution_count": 7,
     "metadata": {},
     "output_type": "execute_result"
    }
   ],
   "source": [
    "df1.fillna(0)"
   ]
  },
  {
   "cell_type": "code",
   "execution_count": 31,
   "id": "a8a32068",
   "metadata": {},
   "outputs": [
    {
     "data": {
      "text/html": [
       "<div>\n",
       "<style scoped>\n",
       "    .dataframe tbody tr th:only-of-type {\n",
       "        vertical-align: middle;\n",
       "    }\n",
       "\n",
       "    .dataframe tbody tr th {\n",
       "        vertical-align: top;\n",
       "    }\n",
       "\n",
       "    .dataframe thead th {\n",
       "        text-align: right;\n",
       "    }\n",
       "</style>\n",
       "<table border=\"1\" class=\"dataframe\">\n",
       "  <thead>\n",
       "    <tr style=\"text-align: right;\">\n",
       "      <th></th>\n",
       "      <th>Name</th>\n",
       "      <th>age</th>\n",
       "      <th>Unnamed: 2</th>\n",
       "      <th>tp</th>\n",
       "      <th>day</th>\n",
       "      <th>shi</th>\n",
       "      <th>enj</th>\n",
       "      <th>shi.1</th>\n",
       "      <th>game</th>\n",
       "      <th>ack</th>\n",
       "    </tr>\n",
       "  </thead>\n",
       "  <tbody>\n",
       "    <tr>\n",
       "      <th>0</th>\n",
       "      <td>Akhil</td>\n",
       "      <td>23</td>\n",
       "      <td>hyd</td>\n",
       "      <td>NaN</td>\n",
       "      <td>sle</td>\n",
       "      <td>clo</td>\n",
       "      <td>ear</td>\n",
       "      <td>aft</td>\n",
       "      <td>vic</td>\n",
       "      <td>yes</td>\n",
       "    </tr>\n",
       "    <tr>\n",
       "      <th>1</th>\n",
       "      <td>Akash</td>\n",
       "      <td>34</td>\n",
       "      <td>hyd</td>\n",
       "      <td>goo</td>\n",
       "      <td>NaN</td>\n",
       "      <td>sum</td>\n",
       "      <td>eve</td>\n",
       "      <td>aft</td>\n",
       "      <td>san</td>\n",
       "      <td>no</td>\n",
       "    </tr>\n",
       "    <tr>\n",
       "      <th>2</th>\n",
       "      <td>Anil</td>\n",
       "      <td>45</td>\n",
       "      <td>hyd</td>\n",
       "      <td>mic</td>\n",
       "      <td>pla</td>\n",
       "      <td>win</td>\n",
       "      <td>aft</td>\n",
       "      <td>nig</td>\n",
       "      <td>fre</td>\n",
       "      <td>no</td>\n",
       "    </tr>\n",
       "    <tr>\n",
       "      <th>3</th>\n",
       "      <td>mahesh</td>\n",
       "      <td>56</td>\n",
       "      <td>sac</td>\n",
       "      <td>ker</td>\n",
       "      <td>NaN</td>\n",
       "      <td>rai</td>\n",
       "      <td>nig</td>\n",
       "      <td>mor</td>\n",
       "      <td>pub</td>\n",
       "      <td>yes</td>\n",
       "    </tr>\n",
       "    <tr>\n",
       "      <th>4</th>\n",
       "      <td>arun</td>\n",
       "      <td>viz</td>\n",
       "      <td>fof</td>\n",
       "      <td>danc</td>\n",
       "      <td>domc</td>\n",
       "      <td>mor</td>\n",
       "      <td>nig</td>\n",
       "      <td>pun</td>\n",
       "      <td>not</td>\n",
       "      <td>yes</td>\n",
       "    </tr>\n",
       "    <tr>\n",
       "      <th>5</th>\n",
       "      <td>nikhil</td>\n",
       "      <td>23</td>\n",
       "      <td>sec</td>\n",
       "      <td>ker</td>\n",
       "      <td>NaN</td>\n",
       "      <td>clo</td>\n",
       "      <td>nig</td>\n",
       "      <td>aft</td>\n",
       "      <td>san</td>\n",
       "      <td>no</td>\n",
       "    </tr>\n",
       "    <tr>\n",
       "      <th>6</th>\n",
       "      <td>Uday</td>\n",
       "      <td>45</td>\n",
       "      <td>upl</td>\n",
       "      <td>NaN</td>\n",
       "      <td>slo</td>\n",
       "      <td>win</td>\n",
       "      <td>aft</td>\n",
       "      <td>nig</td>\n",
       "      <td>sane</td>\n",
       "      <td>no</td>\n",
       "    </tr>\n",
       "    <tr>\n",
       "      <th>7</th>\n",
       "      <td>Ajay</td>\n",
       "      <td>33</td>\n",
       "      <td>NaN</td>\n",
       "      <td>pup</td>\n",
       "      <td>play</td>\n",
       "      <td>eve</td>\n",
       "      <td>eve</td>\n",
       "      <td>eve</td>\n",
       "      <td>pub</td>\n",
       "      <td>yes</td>\n",
       "    </tr>\n",
       "    <tr>\n",
       "      <th>8</th>\n",
       "      <td>cha</td>\n",
       "      <td>NaN</td>\n",
       "      <td>blw</td>\n",
       "      <td>cat</td>\n",
       "      <td>sic</td>\n",
       "      <td>mor</td>\n",
       "      <td>nig</td>\n",
       "      <td>psu</td>\n",
       "      <td>nok</td>\n",
       "      <td>no</td>\n",
       "    </tr>\n",
       "    <tr>\n",
       "      <th>9</th>\n",
       "      <td>pash</td>\n",
       "      <td>77</td>\n",
       "      <td>dub</td>\n",
       "      <td>NaN</td>\n",
       "      <td>oks</td>\n",
       "      <td>eve</td>\n",
       "      <td>nug</td>\n",
       "      <td>ojl</td>\n",
       "      <td>nlpo</td>\n",
       "      <td>yes</td>\n",
       "    </tr>\n",
       "  </tbody>\n",
       "</table>\n",
       "</div>"
      ],
      "text/plain": [
       "     Name   age Unnamed: 2     tp    day   shi   enj shi.1   game   ack\n",
       "0   Akhil    23        hyd    NaN    sle   clo   ear   aft    vic   yes\n",
       "1   Akash    34        hyd    goo    NaN   sum   eve   aft    san    no\n",
       "2    Anil    45        hyd    mic    pla   win   aft   nig    fre    no\n",
       "3  mahesh    56        sac    ker    NaN   rai   nig   mor    pub   yes\n",
       "4    arun   viz        fof   danc   domc   mor   nig   pun    not   yes\n",
       "5  nikhil    23        sec    ker    NaN   clo   nig   aft    san    no\n",
       "6    Uday    45        upl    NaN    slo   win   aft   nig   sane    no\n",
       "7    Ajay    33        NaN    pup   play   eve   eve   eve    pub   yes\n",
       "8     cha   NaN        blw    cat    sic   mor   nig   psu    nok    no\n",
       "9    pash    77        dub    NaN    oks   eve   nug   ojl   nlpo   yes"
      ]
     },
     "execution_count": 31,
     "metadata": {},
     "output_type": "execute_result"
    }
   ],
   "source": [
    "df1"
   ]
  },
  {
   "cell_type": "code",
   "execution_count": 35,
   "id": "2e85acf5",
   "metadata": {},
   "outputs": [
    {
     "data": {
      "text/plain": [
       "0      23\n",
       "1      34\n",
       "2      45\n",
       "3      56\n",
       "4     viz\n",
       "5      23\n",
       "6      45\n",
       "7      33\n",
       "8     NaN\n",
       "9      77\n",
       "Name: age, dtype: object"
      ]
     },
     "execution_count": 35,
     "metadata": {},
     "output_type": "execute_result"
    }
   ],
   "source": [
    "df1['age'] "
   ]
  },
  {
   "cell_type": "code",
   "execution_count": 6,
   "id": "b789ca71",
   "metadata": {},
   "outputs": [
    {
     "ename": "TypeError",
     "evalue": "can only concatenate str (not \"int\") to str",
     "output_type": "error",
     "traceback": [
      "\u001b[31m---------------------------------------------------------------------------\u001b[39m",
      "\u001b[31mTypeError\u001b[39m                                 Traceback (most recent call last)",
      "\u001b[36mCell\u001b[39m\u001b[36m \u001b[39m\u001b[32mIn[6]\u001b[39m\u001b[32m, line 1\u001b[39m\n\u001b[32m----> \u001b[39m\u001b[32m1\u001b[39m \u001b[43mdf1\u001b[49m\u001b[43m.\u001b[49m\u001b[43mmean\u001b[49m\u001b[43m(\u001b[49m\u001b[43m)\u001b[49m\n",
      "\u001b[36mFile \u001b[39m\u001b[32m~/.local/lib/python3.12/site-packages/pandas/core/frame.py:11693\u001b[39m, in \u001b[36mDataFrame.mean\u001b[39m\u001b[34m(self, axis, skipna, numeric_only, **kwargs)\u001b[39m\n\u001b[32m  11685\u001b[39m \u001b[38;5;129m@doc\u001b[39m(make_doc(\u001b[33m\"\u001b[39m\u001b[33mmean\u001b[39m\u001b[33m\"\u001b[39m, ndim=\u001b[32m2\u001b[39m))\n\u001b[32m  11686\u001b[39m \u001b[38;5;28;01mdef\u001b[39;00m\u001b[38;5;250m \u001b[39m\u001b[34mmean\u001b[39m(\n\u001b[32m  11687\u001b[39m     \u001b[38;5;28mself\u001b[39m,\n\u001b[32m   (...)\u001b[39m\u001b[32m  11691\u001b[39m     **kwargs,\n\u001b[32m  11692\u001b[39m ):\n\u001b[32m> \u001b[39m\u001b[32m11693\u001b[39m     result = \u001b[38;5;28;43msuper\u001b[39;49m\u001b[43m(\u001b[49m\u001b[43m)\u001b[49m\u001b[43m.\u001b[49m\u001b[43mmean\u001b[49m\u001b[43m(\u001b[49m\u001b[43maxis\u001b[49m\u001b[43m,\u001b[49m\u001b[43m \u001b[49m\u001b[43mskipna\u001b[49m\u001b[43m,\u001b[49m\u001b[43m \u001b[49m\u001b[43mnumeric_only\u001b[49m\u001b[43m,\u001b[49m\u001b[43m \u001b[49m\u001b[43m*\u001b[49m\u001b[43m*\u001b[49m\u001b[43mkwargs\u001b[49m\u001b[43m)\u001b[49m\n\u001b[32m  11694\u001b[39m     \u001b[38;5;28;01mif\u001b[39;00m \u001b[38;5;28misinstance\u001b[39m(result, Series):\n\u001b[32m  11695\u001b[39m         result = result.__finalize__(\u001b[38;5;28mself\u001b[39m, method=\u001b[33m\"\u001b[39m\u001b[33mmean\u001b[39m\u001b[33m\"\u001b[39m)\n",
      "\u001b[36mFile \u001b[39m\u001b[32m~/.local/lib/python3.12/site-packages/pandas/core/generic.py:12420\u001b[39m, in \u001b[36mNDFrame.mean\u001b[39m\u001b[34m(self, axis, skipna, numeric_only, **kwargs)\u001b[39m\n\u001b[32m  12413\u001b[39m \u001b[38;5;28;01mdef\u001b[39;00m\u001b[38;5;250m \u001b[39m\u001b[34mmean\u001b[39m(\n\u001b[32m  12414\u001b[39m     \u001b[38;5;28mself\u001b[39m,\n\u001b[32m  12415\u001b[39m     axis: Axis | \u001b[38;5;28;01mNone\u001b[39;00m = \u001b[32m0\u001b[39m,\n\u001b[32m   (...)\u001b[39m\u001b[32m  12418\u001b[39m     **kwargs,\n\u001b[32m  12419\u001b[39m ) -> Series | \u001b[38;5;28mfloat\u001b[39m:\n\u001b[32m> \u001b[39m\u001b[32m12420\u001b[39m     \u001b[38;5;28;01mreturn\u001b[39;00m \u001b[38;5;28;43mself\u001b[39;49m\u001b[43m.\u001b[49m\u001b[43m_stat_function\u001b[49m\u001b[43m(\u001b[49m\n\u001b[32m  12421\u001b[39m \u001b[43m        \u001b[49m\u001b[33;43m\"\u001b[39;49m\u001b[33;43mmean\u001b[39;49m\u001b[33;43m\"\u001b[39;49m\u001b[43m,\u001b[49m\u001b[43m \u001b[49m\u001b[43mnanops\u001b[49m\u001b[43m.\u001b[49m\u001b[43mnanmean\u001b[49m\u001b[43m,\u001b[49m\u001b[43m \u001b[49m\u001b[43maxis\u001b[49m\u001b[43m,\u001b[49m\u001b[43m \u001b[49m\u001b[43mskipna\u001b[49m\u001b[43m,\u001b[49m\u001b[43m \u001b[49m\u001b[43mnumeric_only\u001b[49m\u001b[43m,\u001b[49m\u001b[43m \u001b[49m\u001b[43m*\u001b[49m\u001b[43m*\u001b[49m\u001b[43mkwargs\u001b[49m\n\u001b[32m  12422\u001b[39m \u001b[43m    \u001b[49m\u001b[43m)\u001b[49m\n",
      "\u001b[36mFile \u001b[39m\u001b[32m~/.local/lib/python3.12/site-packages/pandas/core/generic.py:12377\u001b[39m, in \u001b[36mNDFrame._stat_function\u001b[39m\u001b[34m(self, name, func, axis, skipna, numeric_only, **kwargs)\u001b[39m\n\u001b[32m  12373\u001b[39m nv.validate_func(name, (), kwargs)\n\u001b[32m  12375\u001b[39m validate_bool_kwarg(skipna, \u001b[33m\"\u001b[39m\u001b[33mskipna\u001b[39m\u001b[33m\"\u001b[39m, none_allowed=\u001b[38;5;28;01mFalse\u001b[39;00m)\n\u001b[32m> \u001b[39m\u001b[32m12377\u001b[39m \u001b[38;5;28;01mreturn\u001b[39;00m \u001b[38;5;28;43mself\u001b[39;49m\u001b[43m.\u001b[49m\u001b[43m_reduce\u001b[49m\u001b[43m(\u001b[49m\n\u001b[32m  12378\u001b[39m \u001b[43m    \u001b[49m\u001b[43mfunc\u001b[49m\u001b[43m,\u001b[49m\u001b[43m \u001b[49m\u001b[43mname\u001b[49m\u001b[43m=\u001b[49m\u001b[43mname\u001b[49m\u001b[43m,\u001b[49m\u001b[43m \u001b[49m\u001b[43maxis\u001b[49m\u001b[43m=\u001b[49m\u001b[43maxis\u001b[49m\u001b[43m,\u001b[49m\u001b[43m \u001b[49m\u001b[43mskipna\u001b[49m\u001b[43m=\u001b[49m\u001b[43mskipna\u001b[49m\u001b[43m,\u001b[49m\u001b[43m \u001b[49m\u001b[43mnumeric_only\u001b[49m\u001b[43m=\u001b[49m\u001b[43mnumeric_only\u001b[49m\n\u001b[32m  12379\u001b[39m \u001b[43m\u001b[49m\u001b[43m)\u001b[49m\n",
      "\u001b[36mFile \u001b[39m\u001b[32m~/.local/lib/python3.12/site-packages/pandas/core/frame.py:11562\u001b[39m, in \u001b[36mDataFrame._reduce\u001b[39m\u001b[34m(self, op, name, axis, skipna, numeric_only, filter_type, **kwds)\u001b[39m\n\u001b[32m  11558\u001b[39m     df = df.T\n\u001b[32m  11560\u001b[39m \u001b[38;5;66;03m# After possibly _get_data and transposing, we are now in the\u001b[39;00m\n\u001b[32m  11561\u001b[39m \u001b[38;5;66;03m#  simple case where we can use BlockManager.reduce\u001b[39;00m\n\u001b[32m> \u001b[39m\u001b[32m11562\u001b[39m res = \u001b[43mdf\u001b[49m\u001b[43m.\u001b[49m\u001b[43m_mgr\u001b[49m\u001b[43m.\u001b[49m\u001b[43mreduce\u001b[49m\u001b[43m(\u001b[49m\u001b[43mblk_func\u001b[49m\u001b[43m)\u001b[49m\n\u001b[32m  11563\u001b[39m out = df._constructor_from_mgr(res, axes=res.axes).iloc[\u001b[32m0\u001b[39m]\n\u001b[32m  11564\u001b[39m \u001b[38;5;28;01mif\u001b[39;00m out_dtype \u001b[38;5;129;01mis\u001b[39;00m \u001b[38;5;129;01mnot\u001b[39;00m \u001b[38;5;28;01mNone\u001b[39;00m \u001b[38;5;129;01mand\u001b[39;00m out.dtype != \u001b[33m\"\u001b[39m\u001b[33mboolean\u001b[39m\u001b[33m\"\u001b[39m:\n",
      "\u001b[36mFile \u001b[39m\u001b[32m~/.local/lib/python3.12/site-packages/pandas/core/internals/managers.py:1500\u001b[39m, in \u001b[36mBlockManager.reduce\u001b[39m\u001b[34m(self, func)\u001b[39m\n\u001b[32m   1498\u001b[39m res_blocks: \u001b[38;5;28mlist\u001b[39m[Block] = []\n\u001b[32m   1499\u001b[39m \u001b[38;5;28;01mfor\u001b[39;00m blk \u001b[38;5;129;01min\u001b[39;00m \u001b[38;5;28mself\u001b[39m.blocks:\n\u001b[32m-> \u001b[39m\u001b[32m1500\u001b[39m     nbs = \u001b[43mblk\u001b[49m\u001b[43m.\u001b[49m\u001b[43mreduce\u001b[49m\u001b[43m(\u001b[49m\u001b[43mfunc\u001b[49m\u001b[43m)\u001b[49m\n\u001b[32m   1501\u001b[39m     res_blocks.extend(nbs)\n\u001b[32m   1503\u001b[39m index = Index([\u001b[38;5;28;01mNone\u001b[39;00m])  \u001b[38;5;66;03m# placeholder\u001b[39;00m\n",
      "\u001b[36mFile \u001b[39m\u001b[32m~/.local/lib/python3.12/site-packages/pandas/core/internals/blocks.py:404\u001b[39m, in \u001b[36mBlock.reduce\u001b[39m\u001b[34m(self, func)\u001b[39m\n\u001b[32m    398\u001b[39m \u001b[38;5;129m@final\u001b[39m\n\u001b[32m    399\u001b[39m \u001b[38;5;28;01mdef\u001b[39;00m\u001b[38;5;250m \u001b[39m\u001b[34mreduce\u001b[39m(\u001b[38;5;28mself\u001b[39m, func) -> \u001b[38;5;28mlist\u001b[39m[Block]:\n\u001b[32m    400\u001b[39m     \u001b[38;5;66;03m# We will apply the function and reshape the result into a single-row\u001b[39;00m\n\u001b[32m    401\u001b[39m     \u001b[38;5;66;03m#  Block with the same mgr_locs; squeezing will be done at a higher level\u001b[39;00m\n\u001b[32m    402\u001b[39m     \u001b[38;5;28;01massert\u001b[39;00m \u001b[38;5;28mself\u001b[39m.ndim == \u001b[32m2\u001b[39m\n\u001b[32m--> \u001b[39m\u001b[32m404\u001b[39m     result = \u001b[43mfunc\u001b[49m\u001b[43m(\u001b[49m\u001b[38;5;28;43mself\u001b[39;49m\u001b[43m.\u001b[49m\u001b[43mvalues\u001b[49m\u001b[43m)\u001b[49m\n\u001b[32m    406\u001b[39m     \u001b[38;5;28;01mif\u001b[39;00m \u001b[38;5;28mself\u001b[39m.values.ndim == \u001b[32m1\u001b[39m:\n\u001b[32m    407\u001b[39m         res_values = result\n",
      "\u001b[36mFile \u001b[39m\u001b[32m~/.local/lib/python3.12/site-packages/pandas/core/frame.py:11481\u001b[39m, in \u001b[36mDataFrame._reduce.<locals>.blk_func\u001b[39m\u001b[34m(values, axis)\u001b[39m\n\u001b[32m  11479\u001b[39m         \u001b[38;5;28;01mreturn\u001b[39;00m np.array([result])\n\u001b[32m  11480\u001b[39m \u001b[38;5;28;01melse\u001b[39;00m:\n\u001b[32m> \u001b[39m\u001b[32m11481\u001b[39m     \u001b[38;5;28;01mreturn\u001b[39;00m \u001b[43mop\u001b[49m\u001b[43m(\u001b[49m\u001b[43mvalues\u001b[49m\u001b[43m,\u001b[49m\u001b[43m \u001b[49m\u001b[43maxis\u001b[49m\u001b[43m=\u001b[49m\u001b[43maxis\u001b[49m\u001b[43m,\u001b[49m\u001b[43m \u001b[49m\u001b[43mskipna\u001b[49m\u001b[43m=\u001b[49m\u001b[43mskipna\u001b[49m\u001b[43m,\u001b[49m\u001b[43m \u001b[49m\u001b[43m*\u001b[49m\u001b[43m*\u001b[49m\u001b[43mkwds\u001b[49m\u001b[43m)\u001b[49m\n",
      "\u001b[36mFile \u001b[39m\u001b[32m~/.local/lib/python3.12/site-packages/pandas/core/nanops.py:147\u001b[39m, in \u001b[36mbottleneck_switch.__call__.<locals>.f\u001b[39m\u001b[34m(values, axis, skipna, **kwds)\u001b[39m\n\u001b[32m    145\u001b[39m         result = alt(values, axis=axis, skipna=skipna, **kwds)\n\u001b[32m    146\u001b[39m \u001b[38;5;28;01melse\u001b[39;00m:\n\u001b[32m--> \u001b[39m\u001b[32m147\u001b[39m     result = \u001b[43malt\u001b[49m\u001b[43m(\u001b[49m\u001b[43mvalues\u001b[49m\u001b[43m,\u001b[49m\u001b[43m \u001b[49m\u001b[43maxis\u001b[49m\u001b[43m=\u001b[49m\u001b[43maxis\u001b[49m\u001b[43m,\u001b[49m\u001b[43m \u001b[49m\u001b[43mskipna\u001b[49m\u001b[43m=\u001b[49m\u001b[43mskipna\u001b[49m\u001b[43m,\u001b[49m\u001b[43m \u001b[49m\u001b[43m*\u001b[49m\u001b[43m*\u001b[49m\u001b[43mkwds\u001b[49m\u001b[43m)\u001b[49m\n\u001b[32m    149\u001b[39m \u001b[38;5;28;01mreturn\u001b[39;00m result\n",
      "\u001b[36mFile \u001b[39m\u001b[32m~/.local/lib/python3.12/site-packages/pandas/core/nanops.py:404\u001b[39m, in \u001b[36m_datetimelike_compat.<locals>.new_func\u001b[39m\u001b[34m(values, axis, skipna, mask, **kwargs)\u001b[39m\n\u001b[32m    401\u001b[39m \u001b[38;5;28;01mif\u001b[39;00m datetimelike \u001b[38;5;129;01mand\u001b[39;00m mask \u001b[38;5;129;01mis\u001b[39;00m \u001b[38;5;28;01mNone\u001b[39;00m:\n\u001b[32m    402\u001b[39m     mask = isna(values)\n\u001b[32m--> \u001b[39m\u001b[32m404\u001b[39m result = \u001b[43mfunc\u001b[49m\u001b[43m(\u001b[49m\u001b[43mvalues\u001b[49m\u001b[43m,\u001b[49m\u001b[43m \u001b[49m\u001b[43maxis\u001b[49m\u001b[43m=\u001b[49m\u001b[43maxis\u001b[49m\u001b[43m,\u001b[49m\u001b[43m \u001b[49m\u001b[43mskipna\u001b[49m\u001b[43m=\u001b[49m\u001b[43mskipna\u001b[49m\u001b[43m,\u001b[49m\u001b[43m \u001b[49m\u001b[43mmask\u001b[49m\u001b[43m=\u001b[49m\u001b[43mmask\u001b[49m\u001b[43m,\u001b[49m\u001b[43m \u001b[49m\u001b[43m*\u001b[49m\u001b[43m*\u001b[49m\u001b[43mkwargs\u001b[49m\u001b[43m)\u001b[49m\n\u001b[32m    406\u001b[39m \u001b[38;5;28;01mif\u001b[39;00m datetimelike:\n\u001b[32m    407\u001b[39m     result = _wrap_results(result, orig_values.dtype, fill_value=iNaT)\n",
      "\u001b[36mFile \u001b[39m\u001b[32m~/.local/lib/python3.12/site-packages/pandas/core/nanops.py:719\u001b[39m, in \u001b[36mnanmean\u001b[39m\u001b[34m(values, axis, skipna, mask)\u001b[39m\n\u001b[32m    716\u001b[39m     dtype_count = dtype\n\u001b[32m    718\u001b[39m count = _get_counts(values.shape, mask, axis, dtype=dtype_count)\n\u001b[32m--> \u001b[39m\u001b[32m719\u001b[39m the_sum = \u001b[43mvalues\u001b[49m\u001b[43m.\u001b[49m\u001b[43msum\u001b[49m\u001b[43m(\u001b[49m\u001b[43maxis\u001b[49m\u001b[43m,\u001b[49m\u001b[43m \u001b[49m\u001b[43mdtype\u001b[49m\u001b[43m=\u001b[49m\u001b[43mdtype_sum\u001b[49m\u001b[43m)\u001b[49m\n\u001b[32m    720\u001b[39m the_sum = _ensure_numeric(the_sum)\n\u001b[32m    722\u001b[39m \u001b[38;5;28;01mif\u001b[39;00m axis \u001b[38;5;129;01mis\u001b[39;00m \u001b[38;5;129;01mnot\u001b[39;00m \u001b[38;5;28;01mNone\u001b[39;00m \u001b[38;5;129;01mand\u001b[39;00m \u001b[38;5;28mgetattr\u001b[39m(the_sum, \u001b[33m\"\u001b[39m\u001b[33mndim\u001b[39m\u001b[33m\"\u001b[39m, \u001b[38;5;28;01mFalse\u001b[39;00m):\n",
      "\u001b[36mFile \u001b[39m\u001b[32m~/.local/lib/python3.12/site-packages/numpy/_core/_methods.py:52\u001b[39m, in \u001b[36m_sum\u001b[39m\u001b[34m(a, axis, dtype, out, keepdims, initial, where)\u001b[39m\n\u001b[32m     50\u001b[39m \u001b[38;5;28;01mdef\u001b[39;00m\u001b[38;5;250m \u001b[39m\u001b[34m_sum\u001b[39m(a, axis=\u001b[38;5;28;01mNone\u001b[39;00m, dtype=\u001b[38;5;28;01mNone\u001b[39;00m, out=\u001b[38;5;28;01mNone\u001b[39;00m, keepdims=\u001b[38;5;28;01mFalse\u001b[39;00m,\n\u001b[32m     51\u001b[39m          initial=_NoValue, where=\u001b[38;5;28;01mTrue\u001b[39;00m):\n\u001b[32m---> \u001b[39m\u001b[32m52\u001b[39m     \u001b[38;5;28;01mreturn\u001b[39;00m \u001b[43mumr_sum\u001b[49m\u001b[43m(\u001b[49m\u001b[43ma\u001b[49m\u001b[43m,\u001b[49m\u001b[43m \u001b[49m\u001b[43maxis\u001b[49m\u001b[43m,\u001b[49m\u001b[43m \u001b[49m\u001b[43mdtype\u001b[49m\u001b[43m,\u001b[49m\u001b[43m \u001b[49m\u001b[43mout\u001b[49m\u001b[43m,\u001b[49m\u001b[43m \u001b[49m\u001b[43mkeepdims\u001b[49m\u001b[43m,\u001b[49m\u001b[43m \u001b[49m\u001b[43minitial\u001b[49m\u001b[43m,\u001b[49m\u001b[43m \u001b[49m\u001b[43mwhere\u001b[49m\u001b[43m)\u001b[49m\n",
      "\u001b[31mTypeError\u001b[39m: can only concatenate str (not \"int\") to str"
     ]
    }
   ],
   "source": [
    "df1.mean()"
   ]
  },
  {
   "cell_type": "code",
   "execution_count": 38,
   "id": "30ae6b96",
   "metadata": {},
   "outputs": [],
   "source": [
    "df1['salary']= [100,23,43,34,35,67,67,89,89,45]\n"
   ]
  },
  {
   "cell_type": "code",
   "execution_count": 8,
   "id": "f8c789da",
   "metadata": {},
   "outputs": [
    {
     "data": {
      "text/html": [
       "<div>\n",
       "<style scoped>\n",
       "    .dataframe tbody tr th:only-of-type {\n",
       "        vertical-align: middle;\n",
       "    }\n",
       "\n",
       "    .dataframe tbody tr th {\n",
       "        vertical-align: top;\n",
       "    }\n",
       "\n",
       "    .dataframe thead th {\n",
       "        text-align: right;\n",
       "    }\n",
       "</style>\n",
       "<table border=\"1\" class=\"dataframe\">\n",
       "  <thead>\n",
       "    <tr style=\"text-align: right;\">\n",
       "      <th></th>\n",
       "      <th>Name</th>\n",
       "      <th>age</th>\n",
       "      <th>Unnamed: 2</th>\n",
       "      <th>tp</th>\n",
       "      <th>day</th>\n",
       "      <th>shi</th>\n",
       "      <th>enj</th>\n",
       "      <th>shi.1</th>\n",
       "      <th>game</th>\n",
       "      <th>ack</th>\n",
       "    </tr>\n",
       "  </thead>\n",
       "  <tbody>\n",
       "    <tr>\n",
       "      <th>0</th>\n",
       "      <td>Akhil</td>\n",
       "      <td>23</td>\n",
       "      <td>hyd</td>\n",
       "      <td>NaN</td>\n",
       "      <td>sle</td>\n",
       "      <td>clo</td>\n",
       "      <td>ear</td>\n",
       "      <td>aft</td>\n",
       "      <td>vic</td>\n",
       "      <td>yes</td>\n",
       "    </tr>\n",
       "    <tr>\n",
       "      <th>1</th>\n",
       "      <td>Akash</td>\n",
       "      <td>34</td>\n",
       "      <td>hyd</td>\n",
       "      <td>goo</td>\n",
       "      <td>NaN</td>\n",
       "      <td>sum</td>\n",
       "      <td>eve</td>\n",
       "      <td>aft</td>\n",
       "      <td>san</td>\n",
       "      <td>no</td>\n",
       "    </tr>\n",
       "    <tr>\n",
       "      <th>2</th>\n",
       "      <td>Anil</td>\n",
       "      <td>45</td>\n",
       "      <td>hyd</td>\n",
       "      <td>mic</td>\n",
       "      <td>pla</td>\n",
       "      <td>win</td>\n",
       "      <td>aft</td>\n",
       "      <td>nig</td>\n",
       "      <td>fre</td>\n",
       "      <td>no</td>\n",
       "    </tr>\n",
       "    <tr>\n",
       "      <th>3</th>\n",
       "      <td>mahesh</td>\n",
       "      <td>56</td>\n",
       "      <td>sac</td>\n",
       "      <td>ker</td>\n",
       "      <td>NaN</td>\n",
       "      <td>rai</td>\n",
       "      <td>nig</td>\n",
       "      <td>mor</td>\n",
       "      <td>pub</td>\n",
       "      <td>yes</td>\n",
       "    </tr>\n",
       "    <tr>\n",
       "      <th>4</th>\n",
       "      <td>arun</td>\n",
       "      <td>viz</td>\n",
       "      <td>fof</td>\n",
       "      <td>danc</td>\n",
       "      <td>domc</td>\n",
       "      <td>mor</td>\n",
       "      <td>nig</td>\n",
       "      <td>pun</td>\n",
       "      <td>not</td>\n",
       "      <td>yes</td>\n",
       "    </tr>\n",
       "    <tr>\n",
       "      <th>5</th>\n",
       "      <td>nikhil</td>\n",
       "      <td>23</td>\n",
       "      <td>sec</td>\n",
       "      <td>ker</td>\n",
       "      <td>NaN</td>\n",
       "      <td>clo</td>\n",
       "      <td>nig</td>\n",
       "      <td>aft</td>\n",
       "      <td>san</td>\n",
       "      <td>no</td>\n",
       "    </tr>\n",
       "    <tr>\n",
       "      <th>6</th>\n",
       "      <td>Uday</td>\n",
       "      <td>45</td>\n",
       "      <td>upl</td>\n",
       "      <td>NaN</td>\n",
       "      <td>slo</td>\n",
       "      <td>win</td>\n",
       "      <td>aft</td>\n",
       "      <td>nig</td>\n",
       "      <td>sane</td>\n",
       "      <td>no</td>\n",
       "    </tr>\n",
       "    <tr>\n",
       "      <th>7</th>\n",
       "      <td>Ajay</td>\n",
       "      <td>33</td>\n",
       "      <td>NaN</td>\n",
       "      <td>pup</td>\n",
       "      <td>play</td>\n",
       "      <td>eve</td>\n",
       "      <td>eve</td>\n",
       "      <td>eve</td>\n",
       "      <td>pub</td>\n",
       "      <td>yes</td>\n",
       "    </tr>\n",
       "    <tr>\n",
       "      <th>8</th>\n",
       "      <td>cha</td>\n",
       "      <td>NaN</td>\n",
       "      <td>blw</td>\n",
       "      <td>cat</td>\n",
       "      <td>sic</td>\n",
       "      <td>mor</td>\n",
       "      <td>nig</td>\n",
       "      <td>psu</td>\n",
       "      <td>nok</td>\n",
       "      <td>no</td>\n",
       "    </tr>\n",
       "    <tr>\n",
       "      <th>9</th>\n",
       "      <td>pash</td>\n",
       "      <td>77</td>\n",
       "      <td>dub</td>\n",
       "      <td>NaN</td>\n",
       "      <td>oks</td>\n",
       "      <td>eve</td>\n",
       "      <td>nug</td>\n",
       "      <td>ojl</td>\n",
       "      <td>nlpo</td>\n",
       "      <td>yes</td>\n",
       "    </tr>\n",
       "  </tbody>\n",
       "</table>\n",
       "</div>"
      ],
      "text/plain": [
       "     Name   age Unnamed: 2     tp    day   shi   enj shi.1   game   ack\n",
       "0   Akhil    23        hyd    NaN    sle   clo   ear   aft    vic   yes\n",
       "1   Akash    34        hyd    goo    NaN   sum   eve   aft    san    no\n",
       "2    Anil    45        hyd    mic    pla   win   aft   nig    fre    no\n",
       "3  mahesh    56        sac    ker    NaN   rai   nig   mor    pub   yes\n",
       "4    arun   viz        fof   danc   domc   mor   nig   pun    not   yes\n",
       "5  nikhil    23        sec    ker    NaN   clo   nig   aft    san    no\n",
       "6    Uday    45        upl    NaN    slo   win   aft   nig   sane    no\n",
       "7    Ajay    33        NaN    pup   play   eve   eve   eve    pub   yes\n",
       "8     cha   NaN        blw    cat    sic   mor   nig   psu    nok    no\n",
       "9    pash    77        dub    NaN    oks   eve   nug   ojl   nlpo   yes"
      ]
     },
     "execution_count": 8,
     "metadata": {},
     "output_type": "execute_result"
    }
   ],
   "source": [
    "df1"
   ]
  },
  {
   "cell_type": "code",
   "execution_count": 45,
   "id": "655ca02c",
   "metadata": {},
   "outputs": [
    {
     "name": "stdout",
     "output_type": "stream",
     "text": [
      "  key  value\n",
      "0   A      1\n",
      "1   B      2\n",
      "2   C      3\n",
      "  key  value\n",
      "0   A      4\n",
      "1   B      5\n",
      "2   D      6\n",
      "############\n"
     ]
    },
    {
     "data": {
      "text/html": [
       "<div>\n",
       "<style scoped>\n",
       "    .dataframe tbody tr th:only-of-type {\n",
       "        vertical-align: middle;\n",
       "    }\n",
       "\n",
       "    .dataframe tbody tr th {\n",
       "        vertical-align: top;\n",
       "    }\n",
       "\n",
       "    .dataframe thead th {\n",
       "        text-align: right;\n",
       "    }\n",
       "</style>\n",
       "<table border=\"1\" class=\"dataframe\">\n",
       "  <thead>\n",
       "    <tr style=\"text-align: right;\">\n",
       "      <th></th>\n",
       "      <th>key</th>\n",
       "      <th>value_x</th>\n",
       "      <th>value_y</th>\n",
       "    </tr>\n",
       "  </thead>\n",
       "  <tbody>\n",
       "    <tr>\n",
       "      <th>0</th>\n",
       "      <td>A</td>\n",
       "      <td>1</td>\n",
       "      <td>4</td>\n",
       "    </tr>\n",
       "    <tr>\n",
       "      <th>1</th>\n",
       "      <td>B</td>\n",
       "      <td>2</td>\n",
       "      <td>5</td>\n",
       "    </tr>\n",
       "  </tbody>\n",
       "</table>\n",
       "</div>"
      ],
      "text/plain": [
       "  key  value_x  value_y\n",
       "0   A        1        4\n",
       "1   B        2        5"
      ]
     },
     "execution_count": 45,
     "metadata": {},
     "output_type": "execute_result"
    }
   ],
   "source": [
    "df3 = pd.DataFrame({'key':['A','B','C'],'value':[1,2,3]})\n",
    "print(df3)\n",
    "df4 = pd.DataFrame({'key':['A','B','D'],'value':[4,5,6]})\n",
    "print(df4)\n",
    "print('############')\n",
    "pd.merge(df3, df4, on='key', how='inner' )\n"
   ]
  },
  {
   "cell_type": "code",
   "execution_count": 46,
   "id": "74273056",
   "metadata": {},
   "outputs": [
    {
     "data": {
      "text/html": [
       "<div>\n",
       "<style scoped>\n",
       "    .dataframe tbody tr th:only-of-type {\n",
       "        vertical-align: middle;\n",
       "    }\n",
       "\n",
       "    .dataframe tbody tr th {\n",
       "        vertical-align: top;\n",
       "    }\n",
       "\n",
       "    .dataframe thead th {\n",
       "        text-align: right;\n",
       "    }\n",
       "</style>\n",
       "<table border=\"1\" class=\"dataframe\">\n",
       "  <thead>\n",
       "    <tr style=\"text-align: right;\">\n",
       "      <th></th>\n",
       "      <th>key</th>\n",
       "      <th>value_x</th>\n",
       "      <th>value_y</th>\n",
       "    </tr>\n",
       "  </thead>\n",
       "  <tbody>\n",
       "    <tr>\n",
       "      <th>0</th>\n",
       "      <td>A</td>\n",
       "      <td>1.0</td>\n",
       "      <td>4.0</td>\n",
       "    </tr>\n",
       "    <tr>\n",
       "      <th>1</th>\n",
       "      <td>B</td>\n",
       "      <td>2.0</td>\n",
       "      <td>5.0</td>\n",
       "    </tr>\n",
       "    <tr>\n",
       "      <th>2</th>\n",
       "      <td>C</td>\n",
       "      <td>3.0</td>\n",
       "      <td>NaN</td>\n",
       "    </tr>\n",
       "    <tr>\n",
       "      <th>3</th>\n",
       "      <td>D</td>\n",
       "      <td>NaN</td>\n",
       "      <td>6.0</td>\n",
       "    </tr>\n",
       "  </tbody>\n",
       "</table>\n",
       "</div>"
      ],
      "text/plain": [
       "  key  value_x  value_y\n",
       "0   A      1.0      4.0\n",
       "1   B      2.0      5.0\n",
       "2   C      3.0      NaN\n",
       "3   D      NaN      6.0"
      ]
     },
     "execution_count": 46,
     "metadata": {},
     "output_type": "execute_result"
    }
   ],
   "source": [
    "pd.merge(df3, df4, on='key', how='outer' )"
   ]
  },
  {
   "cell_type": "code",
   "execution_count": 47,
   "id": "b43f18e8",
   "metadata": {},
   "outputs": [
    {
     "data": {
      "text/html": [
       "<div>\n",
       "<style scoped>\n",
       "    .dataframe tbody tr th:only-of-type {\n",
       "        vertical-align: middle;\n",
       "    }\n",
       "\n",
       "    .dataframe tbody tr th {\n",
       "        vertical-align: top;\n",
       "    }\n",
       "\n",
       "    .dataframe thead th {\n",
       "        text-align: right;\n",
       "    }\n",
       "</style>\n",
       "<table border=\"1\" class=\"dataframe\">\n",
       "  <thead>\n",
       "    <tr style=\"text-align: right;\">\n",
       "      <th></th>\n",
       "      <th>key</th>\n",
       "      <th>value_x</th>\n",
       "      <th>value_y</th>\n",
       "    </tr>\n",
       "  </thead>\n",
       "  <tbody>\n",
       "    <tr>\n",
       "      <th>0</th>\n",
       "      <td>A</td>\n",
       "      <td>1</td>\n",
       "      <td>4.0</td>\n",
       "    </tr>\n",
       "    <tr>\n",
       "      <th>1</th>\n",
       "      <td>B</td>\n",
       "      <td>2</td>\n",
       "      <td>5.0</td>\n",
       "    </tr>\n",
       "    <tr>\n",
       "      <th>2</th>\n",
       "      <td>C</td>\n",
       "      <td>3</td>\n",
       "      <td>NaN</td>\n",
       "    </tr>\n",
       "  </tbody>\n",
       "</table>\n",
       "</div>"
      ],
      "text/plain": [
       "  key  value_x  value_y\n",
       "0   A        1      4.0\n",
       "1   B        2      5.0\n",
       "2   C        3      NaN"
      ]
     },
     "execution_count": 47,
     "metadata": {},
     "output_type": "execute_result"
    }
   ],
   "source": [
    "pd.merge(df3, df4, on='key', how='left' )"
   ]
  },
  {
   "cell_type": "code",
   "execution_count": 49,
   "id": "c334bdd4",
   "metadata": {},
   "outputs": [
    {
     "data": {
      "text/html": [
       "<div>\n",
       "<style scoped>\n",
       "    .dataframe tbody tr th:only-of-type {\n",
       "        vertical-align: middle;\n",
       "    }\n",
       "\n",
       "    .dataframe tbody tr th {\n",
       "        vertical-align: top;\n",
       "    }\n",
       "\n",
       "    .dataframe thead th {\n",
       "        text-align: right;\n",
       "    }\n",
       "</style>\n",
       "<table border=\"1\" class=\"dataframe\">\n",
       "  <thead>\n",
       "    <tr style=\"text-align: right;\">\n",
       "      <th></th>\n",
       "      <th>key</th>\n",
       "      <th>value_x</th>\n",
       "      <th>value_y</th>\n",
       "    </tr>\n",
       "  </thead>\n",
       "  <tbody>\n",
       "    <tr>\n",
       "      <th>0</th>\n",
       "      <td>A</td>\n",
       "      <td>1.0</td>\n",
       "      <td>4</td>\n",
       "    </tr>\n",
       "    <tr>\n",
       "      <th>1</th>\n",
       "      <td>B</td>\n",
       "      <td>2.0</td>\n",
       "      <td>5</td>\n",
       "    </tr>\n",
       "    <tr>\n",
       "      <th>2</th>\n",
       "      <td>D</td>\n",
       "      <td>NaN</td>\n",
       "      <td>6</td>\n",
       "    </tr>\n",
       "  </tbody>\n",
       "</table>\n",
       "</div>"
      ],
      "text/plain": [
       "  key  value_x  value_y\n",
       "0   A      1.0        4\n",
       "1   B      2.0        5\n",
       "2   D      NaN        6"
      ]
     },
     "execution_count": 49,
     "metadata": {},
     "output_type": "execute_result"
    }
   ],
   "source": [
    "pd.merge(df3, df4, on='key', how='right' )"
   ]
  },
  {
   "cell_type": "code",
   "execution_count": 51,
   "id": "97d01b17",
   "metadata": {},
   "outputs": [
    {
     "data": {
      "text/html": [
       "<div>\n",
       "<style scoped>\n",
       "    .dataframe tbody tr th:only-of-type {\n",
       "        vertical-align: middle;\n",
       "    }\n",
       "\n",
       "    .dataframe tbody tr th {\n",
       "        vertical-align: top;\n",
       "    }\n",
       "\n",
       "    .dataframe thead th {\n",
       "        text-align: right;\n",
       "    }\n",
       "</style>\n",
       "<table border=\"1\" class=\"dataframe\">\n",
       "  <thead>\n",
       "    <tr style=\"text-align: right;\">\n",
       "      <th></th>\n",
       "      <th>key_x</th>\n",
       "      <th>value</th>\n",
       "      <th>key_y</th>\n",
       "    </tr>\n",
       "  </thead>\n",
       "  <tbody>\n",
       "    <tr>\n",
       "      <th>0</th>\n",
       "      <td>A</td>\n",
       "      <td>1</td>\n",
       "      <td>NaN</td>\n",
       "    </tr>\n",
       "    <tr>\n",
       "      <th>1</th>\n",
       "      <td>B</td>\n",
       "      <td>2</td>\n",
       "      <td>NaN</td>\n",
       "    </tr>\n",
       "    <tr>\n",
       "      <th>2</th>\n",
       "      <td>C</td>\n",
       "      <td>3</td>\n",
       "      <td>NaN</td>\n",
       "    </tr>\n",
       "    <tr>\n",
       "      <th>3</th>\n",
       "      <td>NaN</td>\n",
       "      <td>4</td>\n",
       "      <td>A</td>\n",
       "    </tr>\n",
       "    <tr>\n",
       "      <th>4</th>\n",
       "      <td>NaN</td>\n",
       "      <td>5</td>\n",
       "      <td>B</td>\n",
       "    </tr>\n",
       "    <tr>\n",
       "      <th>5</th>\n",
       "      <td>NaN</td>\n",
       "      <td>6</td>\n",
       "      <td>D</td>\n",
       "    </tr>\n",
       "  </tbody>\n",
       "</table>\n",
       "</div>"
      ],
      "text/plain": [
       "  key_x  value key_y\n",
       "0     A      1   NaN\n",
       "1     B      2   NaN\n",
       "2     C      3   NaN\n",
       "3   NaN      4     A\n",
       "4   NaN      5     B\n",
       "5   NaN      6     D"
      ]
     },
     "execution_count": 51,
     "metadata": {},
     "output_type": "execute_result"
    }
   ],
   "source": [
    "pd.merge(df3, df4, on='value', how='outer' )"
   ]
  },
  {
   "cell_type": "code",
   "execution_count": 52,
   "id": "844a6882",
   "metadata": {},
   "outputs": [
    {
     "data": {
      "text/html": [
       "<div>\n",
       "<style scoped>\n",
       "    .dataframe tbody tr th:only-of-type {\n",
       "        vertical-align: middle;\n",
       "    }\n",
       "\n",
       "    .dataframe tbody tr th {\n",
       "        vertical-align: top;\n",
       "    }\n",
       "\n",
       "    .dataframe thead th {\n",
       "        text-align: right;\n",
       "    }\n",
       "</style>\n",
       "<table border=\"1\" class=\"dataframe\">\n",
       "  <thead>\n",
       "    <tr style=\"text-align: right;\">\n",
       "      <th></th>\n",
       "      <th>key</th>\n",
       "      <th>value_x</th>\n",
       "      <th>value_y</th>\n",
       "    </tr>\n",
       "  </thead>\n",
       "  <tbody>\n",
       "    <tr>\n",
       "      <th>0</th>\n",
       "      <td>A</td>\n",
       "      <td>1</td>\n",
       "      <td>4.0</td>\n",
       "    </tr>\n",
       "    <tr>\n",
       "      <th>1</th>\n",
       "      <td>B</td>\n",
       "      <td>2</td>\n",
       "      <td>5.0</td>\n",
       "    </tr>\n",
       "    <tr>\n",
       "      <th>2</th>\n",
       "      <td>C</td>\n",
       "      <td>3</td>\n",
       "      <td>NaN</td>\n",
       "    </tr>\n",
       "  </tbody>\n",
       "</table>\n",
       "</div>"
      ],
      "text/plain": [
       "  key  value_x  value_y\n",
       "0   A        1      4.0\n",
       "1   B        2      5.0\n",
       "2   C        3      NaN"
      ]
     },
     "execution_count": 52,
     "metadata": {},
     "output_type": "execute_result"
    }
   ],
   "source": [
    "pd.merge(df3, df4, on='key', how='left' )"
   ]
  },
  {
   "cell_type": "code",
   "execution_count": 53,
   "id": "ea58c526",
   "metadata": {},
   "outputs": [
    {
     "data": {
      "text/html": [
       "<div>\n",
       "<style scoped>\n",
       "    .dataframe tbody tr th:only-of-type {\n",
       "        vertical-align: middle;\n",
       "    }\n",
       "\n",
       "    .dataframe tbody tr th {\n",
       "        vertical-align: top;\n",
       "    }\n",
       "\n",
       "    .dataframe thead th {\n",
       "        text-align: right;\n",
       "    }\n",
       "</style>\n",
       "<table border=\"1\" class=\"dataframe\">\n",
       "  <thead>\n",
       "    <tr style=\"text-align: right;\">\n",
       "      <th></th>\n",
       "      <th>key</th>\n",
       "      <th>value_x</th>\n",
       "      <th>value_y</th>\n",
       "    </tr>\n",
       "  </thead>\n",
       "  <tbody>\n",
       "    <tr>\n",
       "      <th>0</th>\n",
       "      <td>A</td>\n",
       "      <td>1.0</td>\n",
       "      <td>4</td>\n",
       "    </tr>\n",
       "    <tr>\n",
       "      <th>1</th>\n",
       "      <td>B</td>\n",
       "      <td>2.0</td>\n",
       "      <td>5</td>\n",
       "    </tr>\n",
       "    <tr>\n",
       "      <th>2</th>\n",
       "      <td>D</td>\n",
       "      <td>NaN</td>\n",
       "      <td>6</td>\n",
       "    </tr>\n",
       "  </tbody>\n",
       "</table>\n",
       "</div>"
      ],
      "text/plain": [
       "  key  value_x  value_y\n",
       "0   A      1.0        4\n",
       "1   B      2.0        5\n",
       "2   D      NaN        6"
      ]
     },
     "execution_count": 53,
     "metadata": {},
     "output_type": "execute_result"
    }
   ],
   "source": [
    "pd.merge(df3, df4, on='key', how='right' )"
   ]
  },
  {
   "cell_type": "code",
   "execution_count": 9,
   "id": "d89a1d5a",
   "metadata": {},
   "outputs": [
    {
     "data": {
      "text/html": [
       "<div>\n",
       "<style scoped>\n",
       "    .dataframe tbody tr th:only-of-type {\n",
       "        vertical-align: middle;\n",
       "    }\n",
       "\n",
       "    .dataframe tbody tr th {\n",
       "        vertical-align: top;\n",
       "    }\n",
       "\n",
       "    .dataframe thead th {\n",
       "        text-align: right;\n",
       "    }\n",
       "</style>\n",
       "<table border=\"1\" class=\"dataframe\">\n",
       "  <thead>\n",
       "    <tr style=\"text-align: right;\">\n",
       "      <th></th>\n",
       "      <th>Name</th>\n",
       "      <th>age</th>\n",
       "      <th>Unnamed: 2</th>\n",
       "      <th>tp</th>\n",
       "      <th>day</th>\n",
       "      <th>shi</th>\n",
       "      <th>enj</th>\n",
       "      <th>shi.1</th>\n",
       "      <th>game</th>\n",
       "      <th>ack</th>\n",
       "    </tr>\n",
       "  </thead>\n",
       "  <tbody>\n",
       "    <tr>\n",
       "      <th>0</th>\n",
       "      <td>Akhil</td>\n",
       "      <td>23</td>\n",
       "      <td>hyd</td>\n",
       "      <td>NaN</td>\n",
       "      <td>sle</td>\n",
       "      <td>clo</td>\n",
       "      <td>ear</td>\n",
       "      <td>aft</td>\n",
       "      <td>vic</td>\n",
       "      <td>yes</td>\n",
       "    </tr>\n",
       "    <tr>\n",
       "      <th>1</th>\n",
       "      <td>Akash</td>\n",
       "      <td>34</td>\n",
       "      <td>hyd</td>\n",
       "      <td>goo</td>\n",
       "      <td>NaN</td>\n",
       "      <td>sum</td>\n",
       "      <td>eve</td>\n",
       "      <td>aft</td>\n",
       "      <td>san</td>\n",
       "      <td>no</td>\n",
       "    </tr>\n",
       "    <tr>\n",
       "      <th>2</th>\n",
       "      <td>Anil</td>\n",
       "      <td>45</td>\n",
       "      <td>hyd</td>\n",
       "      <td>mic</td>\n",
       "      <td>pla</td>\n",
       "      <td>win</td>\n",
       "      <td>aft</td>\n",
       "      <td>nig</td>\n",
       "      <td>fre</td>\n",
       "      <td>no</td>\n",
       "    </tr>\n",
       "    <tr>\n",
       "      <th>3</th>\n",
       "      <td>mahesh</td>\n",
       "      <td>56</td>\n",
       "      <td>sac</td>\n",
       "      <td>ker</td>\n",
       "      <td>NaN</td>\n",
       "      <td>rai</td>\n",
       "      <td>nig</td>\n",
       "      <td>mor</td>\n",
       "      <td>pub</td>\n",
       "      <td>yes</td>\n",
       "    </tr>\n",
       "    <tr>\n",
       "      <th>4</th>\n",
       "      <td>arun</td>\n",
       "      <td>viz</td>\n",
       "      <td>fof</td>\n",
       "      <td>danc</td>\n",
       "      <td>domc</td>\n",
       "      <td>mor</td>\n",
       "      <td>nig</td>\n",
       "      <td>pun</td>\n",
       "      <td>not</td>\n",
       "      <td>yes</td>\n",
       "    </tr>\n",
       "    <tr>\n",
       "      <th>5</th>\n",
       "      <td>nikhil</td>\n",
       "      <td>23</td>\n",
       "      <td>sec</td>\n",
       "      <td>ker</td>\n",
       "      <td>NaN</td>\n",
       "      <td>clo</td>\n",
       "      <td>nig</td>\n",
       "      <td>aft</td>\n",
       "      <td>san</td>\n",
       "      <td>no</td>\n",
       "    </tr>\n",
       "    <tr>\n",
       "      <th>6</th>\n",
       "      <td>Uday</td>\n",
       "      <td>45</td>\n",
       "      <td>upl</td>\n",
       "      <td>NaN</td>\n",
       "      <td>slo</td>\n",
       "      <td>win</td>\n",
       "      <td>aft</td>\n",
       "      <td>nig</td>\n",
       "      <td>sane</td>\n",
       "      <td>no</td>\n",
       "    </tr>\n",
       "    <tr>\n",
       "      <th>7</th>\n",
       "      <td>Ajay</td>\n",
       "      <td>33</td>\n",
       "      <td>NaN</td>\n",
       "      <td>pup</td>\n",
       "      <td>play</td>\n",
       "      <td>eve</td>\n",
       "      <td>eve</td>\n",
       "      <td>eve</td>\n",
       "      <td>pub</td>\n",
       "      <td>yes</td>\n",
       "    </tr>\n",
       "    <tr>\n",
       "      <th>8</th>\n",
       "      <td>cha</td>\n",
       "      <td>NaN</td>\n",
       "      <td>blw</td>\n",
       "      <td>cat</td>\n",
       "      <td>sic</td>\n",
       "      <td>mor</td>\n",
       "      <td>nig</td>\n",
       "      <td>psu</td>\n",
       "      <td>nok</td>\n",
       "      <td>no</td>\n",
       "    </tr>\n",
       "    <tr>\n",
       "      <th>9</th>\n",
       "      <td>pash</td>\n",
       "      <td>77</td>\n",
       "      <td>dub</td>\n",
       "      <td>NaN</td>\n",
       "      <td>oks</td>\n",
       "      <td>eve</td>\n",
       "      <td>nug</td>\n",
       "      <td>ojl</td>\n",
       "      <td>nlpo</td>\n",
       "      <td>yes</td>\n",
       "    </tr>\n",
       "  </tbody>\n",
       "</table>\n",
       "</div>"
      ],
      "text/plain": [
       "     Name   age Unnamed: 2     tp    day   shi   enj shi.1   game   ack\n",
       "0   Akhil    23        hyd    NaN    sle   clo   ear   aft    vic   yes\n",
       "1   Akash    34        hyd    goo    NaN   sum   eve   aft    san    no\n",
       "2    Anil    45        hyd    mic    pla   win   aft   nig    fre    no\n",
       "3  mahesh    56        sac    ker    NaN   rai   nig   mor    pub   yes\n",
       "4    arun   viz        fof   danc   domc   mor   nig   pun    not   yes\n",
       "5  nikhil    23        sec    ker    NaN   clo   nig   aft    san    no\n",
       "6    Uday    45        upl    NaN    slo   win   aft   nig   sane    no\n",
       "7    Ajay    33        NaN    pup   play   eve   eve   eve    pub   yes\n",
       "8     cha   NaN        blw    cat    sic   mor   nig   psu    nok    no\n",
       "9    pash    77        dub    NaN    oks   eve   nug   ojl   nlpo   yes"
      ]
     },
     "execution_count": 9,
     "metadata": {},
     "output_type": "execute_result"
    }
   ],
   "source": [
    "df1\n"
   ]
  },
  {
   "cell_type": "code",
   "execution_count": 10,
   "id": "41bcb799",
   "metadata": {},
   "outputs": [
    {
     "name": "stdout",
     "output_type": "stream",
     "text": [
      "     Name  age Unnamed: 2    tp   day   shi   enj shi.1  game   ack\n",
      "0   Akhil   23        hyd   NaN   sle   clo   ear   aft   vic   yes\n",
      "1   Akash   34        hyd   goo   NaN   sum   eve   aft   san    no\n",
      "2    Anil   45        hyd   mic   pla   win   aft   nig   fre    no\n",
      "3  mahesh   56        sac   ker   NaN   rai   nig   mor   pub   yes\n"
     ]
    }
   ],
   "source": [
    "\n",
    "df5= df1.head(4)\n",
    "print(df5)"
   ]
  },
  {
   "cell_type": "code",
   "execution_count": 11,
   "id": "0eef8e33",
   "metadata": {},
   "outputs": [
    {
     "name": "stderr",
     "output_type": "stream",
     "text": [
      "/tmp/ipykernel_3974/3604455354.py:1: SettingWithCopyWarning: \n",
      "A value is trying to be set on a copy of a slice from a DataFrame.\n",
      "Try using .loc[row_indexer,col_indexer] = value instead\n",
      "\n",
      "See the caveats in the documentation: https://pandas.pydata.org/pandas-docs/stable/user_guide/indexing.html#returning-a-view-versus-a-copy\n",
      "  df5['new_Age'] = df5['age'].astype(int)\n"
     ]
    }
   ],
   "source": [
    "df5['new_Age'] = df5['age'].astype(int)"
   ]
  },
  {
   "cell_type": "code",
   "execution_count": 12,
   "id": "491cea33",
   "metadata": {},
   "outputs": [
    {
     "data": {
      "text/html": [
       "<div>\n",
       "<style scoped>\n",
       "    .dataframe tbody tr th:only-of-type {\n",
       "        vertical-align: middle;\n",
       "    }\n",
       "\n",
       "    .dataframe tbody tr th {\n",
       "        vertical-align: top;\n",
       "    }\n",
       "\n",
       "    .dataframe thead th {\n",
       "        text-align: right;\n",
       "    }\n",
       "</style>\n",
       "<table border=\"1\" class=\"dataframe\">\n",
       "  <thead>\n",
       "    <tr style=\"text-align: right;\">\n",
       "      <th></th>\n",
       "      <th>Name</th>\n",
       "      <th>age</th>\n",
       "      <th>Unnamed: 2</th>\n",
       "      <th>tp</th>\n",
       "      <th>day</th>\n",
       "      <th>shi</th>\n",
       "      <th>enj</th>\n",
       "      <th>shi.1</th>\n",
       "      <th>game</th>\n",
       "      <th>ack</th>\n",
       "      <th>new_Age</th>\n",
       "    </tr>\n",
       "  </thead>\n",
       "  <tbody>\n",
       "    <tr>\n",
       "      <th>0</th>\n",
       "      <td>Akhil</td>\n",
       "      <td>23</td>\n",
       "      <td>hyd</td>\n",
       "      <td>NaN</td>\n",
       "      <td>sle</td>\n",
       "      <td>clo</td>\n",
       "      <td>ear</td>\n",
       "      <td>aft</td>\n",
       "      <td>vic</td>\n",
       "      <td>yes</td>\n",
       "      <td>23</td>\n",
       "    </tr>\n",
       "    <tr>\n",
       "      <th>1</th>\n",
       "      <td>Akash</td>\n",
       "      <td>34</td>\n",
       "      <td>hyd</td>\n",
       "      <td>goo</td>\n",
       "      <td>NaN</td>\n",
       "      <td>sum</td>\n",
       "      <td>eve</td>\n",
       "      <td>aft</td>\n",
       "      <td>san</td>\n",
       "      <td>no</td>\n",
       "      <td>34</td>\n",
       "    </tr>\n",
       "    <tr>\n",
       "      <th>2</th>\n",
       "      <td>Anil</td>\n",
       "      <td>45</td>\n",
       "      <td>hyd</td>\n",
       "      <td>mic</td>\n",
       "      <td>pla</td>\n",
       "      <td>win</td>\n",
       "      <td>aft</td>\n",
       "      <td>nig</td>\n",
       "      <td>fre</td>\n",
       "      <td>no</td>\n",
       "      <td>45</td>\n",
       "    </tr>\n",
       "    <tr>\n",
       "      <th>3</th>\n",
       "      <td>mahesh</td>\n",
       "      <td>56</td>\n",
       "      <td>sac</td>\n",
       "      <td>ker</td>\n",
       "      <td>NaN</td>\n",
       "      <td>rai</td>\n",
       "      <td>nig</td>\n",
       "      <td>mor</td>\n",
       "      <td>pub</td>\n",
       "      <td>yes</td>\n",
       "      <td>56</td>\n",
       "    </tr>\n",
       "  </tbody>\n",
       "</table>\n",
       "</div>"
      ],
      "text/plain": [
       "     Name  age Unnamed: 2    tp   day   shi   enj shi.1  game   ack  new_Age\n",
       "0   Akhil   23        hyd   NaN   sle   clo   ear   aft   vic   yes       23\n",
       "1   Akash   34        hyd   goo   NaN   sum   eve   aft   san    no       34\n",
       "2    Anil   45        hyd   mic   pla   win   aft   nig   fre    no       45\n",
       "3  mahesh   56        sac   ker   NaN   rai   nig   mor   pub   yes       56"
      ]
     },
     "execution_count": 12,
     "metadata": {},
     "output_type": "execute_result"
    }
   ],
   "source": [
    "df5"
   ]
  },
  {
   "cell_type": "code",
   "execution_count": 18,
   "id": "ea974845",
   "metadata": {},
   "outputs": [
    {
     "data": {
      "text/plain": [
       "np.float64(14.200938936093861)"
      ]
     },
     "execution_count": 18,
     "metadata": {},
     "output_type": "execute_result"
    }
   ],
   "source": [
    "df5['new_Age'].std()"
   ]
  },
  {
   "cell_type": "code",
   "execution_count": 16,
   "id": "72d0a241",
   "metadata": {},
   "outputs": [
    {
     "name": "stderr",
     "output_type": "stream",
     "text": [
      "/tmp/ipykernel_3974/3879891613.py:1: SettingWithCopyWarning: \n",
      "A value is trying to be set on a copy of a slice from a DataFrame.\n",
      "Try using .loc[row_indexer,col_indexer] = value instead\n",
      "\n",
      "See the caveats in the documentation: https://pandas.pydata.org/pandas-docs/stable/user_guide/indexing.html#returning-a-view-versus-a-copy\n",
      "  df5['new_Age'] = df5['new_Age']+10\n"
     ]
    }
   ],
   "source": [
    "df5['new_Age'] = df5['new_Age']+10\n"
   ]
  },
  {
   "cell_type": "code",
   "execution_count": 17,
   "id": "63a1430f",
   "metadata": {},
   "outputs": [
    {
     "data": {
      "text/html": [
       "<div>\n",
       "<style scoped>\n",
       "    .dataframe tbody tr th:only-of-type {\n",
       "        vertical-align: middle;\n",
       "    }\n",
       "\n",
       "    .dataframe tbody tr th {\n",
       "        vertical-align: top;\n",
       "    }\n",
       "\n",
       "    .dataframe thead th {\n",
       "        text-align: right;\n",
       "    }\n",
       "</style>\n",
       "<table border=\"1\" class=\"dataframe\">\n",
       "  <thead>\n",
       "    <tr style=\"text-align: right;\">\n",
       "      <th></th>\n",
       "      <th>Name</th>\n",
       "      <th>age</th>\n",
       "      <th>Unnamed: 2</th>\n",
       "      <th>tp</th>\n",
       "      <th>day</th>\n",
       "      <th>shi</th>\n",
       "      <th>enj</th>\n",
       "      <th>shi.1</th>\n",
       "      <th>game</th>\n",
       "      <th>ack</th>\n",
       "      <th>new_Age</th>\n",
       "    </tr>\n",
       "  </thead>\n",
       "  <tbody>\n",
       "    <tr>\n",
       "      <th>0</th>\n",
       "      <td>Akhil</td>\n",
       "      <td>23</td>\n",
       "      <td>hyd</td>\n",
       "      <td>NaN</td>\n",
       "      <td>sle</td>\n",
       "      <td>clo</td>\n",
       "      <td>ear</td>\n",
       "      <td>aft</td>\n",
       "      <td>vic</td>\n",
       "      <td>yes</td>\n",
       "      <td>33</td>\n",
       "    </tr>\n",
       "    <tr>\n",
       "      <th>1</th>\n",
       "      <td>Akash</td>\n",
       "      <td>34</td>\n",
       "      <td>hyd</td>\n",
       "      <td>goo</td>\n",
       "      <td>NaN</td>\n",
       "      <td>sum</td>\n",
       "      <td>eve</td>\n",
       "      <td>aft</td>\n",
       "      <td>san</td>\n",
       "      <td>no</td>\n",
       "      <td>44</td>\n",
       "    </tr>\n",
       "    <tr>\n",
       "      <th>2</th>\n",
       "      <td>Anil</td>\n",
       "      <td>45</td>\n",
       "      <td>hyd</td>\n",
       "      <td>mic</td>\n",
       "      <td>pla</td>\n",
       "      <td>win</td>\n",
       "      <td>aft</td>\n",
       "      <td>nig</td>\n",
       "      <td>fre</td>\n",
       "      <td>no</td>\n",
       "      <td>55</td>\n",
       "    </tr>\n",
       "    <tr>\n",
       "      <th>3</th>\n",
       "      <td>mahesh</td>\n",
       "      <td>56</td>\n",
       "      <td>sac</td>\n",
       "      <td>ker</td>\n",
       "      <td>NaN</td>\n",
       "      <td>rai</td>\n",
       "      <td>nig</td>\n",
       "      <td>mor</td>\n",
       "      <td>pub</td>\n",
       "      <td>yes</td>\n",
       "      <td>66</td>\n",
       "    </tr>\n",
       "  </tbody>\n",
       "</table>\n",
       "</div>"
      ],
      "text/plain": [
       "     Name  age Unnamed: 2    tp   day   shi   enj shi.1  game   ack  new_Age\n",
       "0   Akhil   23        hyd   NaN   sle   clo   ear   aft   vic   yes       33\n",
       "1   Akash   34        hyd   goo   NaN   sum   eve   aft   san    no       44\n",
       "2    Anil   45        hyd   mic   pla   win   aft   nig   fre    no       55\n",
       "3  mahesh   56        sac   ker   NaN   rai   nig   mor   pub   yes       66"
      ]
     },
     "execution_count": 17,
     "metadata": {},
     "output_type": "execute_result"
    }
   ],
   "source": [
    "df5"
   ]
  },
  {
   "cell_type": "code",
   "execution_count": 19,
   "id": "619dcde7",
   "metadata": {},
   "outputs": [
    {
     "name": "stderr",
     "output_type": "stream",
     "text": [
      "/tmp/ipykernel_3974/1966652202.py:1: SettingWithCopyWarning: \n",
      "A value is trying to be set on a copy of a slice from a DataFrame.\n",
      "Try using .loc[row_indexer,col_indexer] = value instead\n",
      "\n",
      "See the caveats in the documentation: https://pandas.pydata.org/pandas-docs/stable/user_guide/indexing.html#returning-a-view-versus-a-copy\n",
      "  df5['new_Age']=df5['new_Age'].apply(lambda x:x*5)\n"
     ]
    }
   ],
   "source": [
    "df5['new_Age']=df5['new_Age'].apply(lambda x:x*5)"
   ]
  },
  {
   "cell_type": "code",
   "execution_count": 20,
   "id": "57f2a62c",
   "metadata": {},
   "outputs": [
    {
     "name": "stdout",
     "output_type": "stream",
     "text": [
      "     Name  age Unnamed: 2    tp   day   shi   enj shi.1  game   ack  new_Age\n",
      "0   Akhil   23        hyd   NaN   sle   clo   ear   aft   vic   yes      165\n",
      "1   Akash   34        hyd   goo   NaN   sum   eve   aft   san    no      220\n",
      "2    Anil   45        hyd   mic   pla   win   aft   nig   fre    no      275\n",
      "3  mahesh   56        sac   ker   NaN   rai   nig   mor   pub   yes      330\n"
     ]
    }
   ],
   "source": [
    "print(df5)"
   ]
  },
  {
   "cell_type": "code",
   "execution_count": 28,
   "id": "cb09a2b5",
   "metadata": {},
   "outputs": [
    {
     "ename": "HTTPError",
     "evalue": "HTTP Error 404: Not Found",
     "output_type": "error",
     "traceback": [
      "\u001b[31m---------------------------------------------------------------------------\u001b[39m",
      "\u001b[31mHTTPError\u001b[39m                                 Traceback (most recent call last)",
      "\u001b[36mCell\u001b[39m\u001b[36m \u001b[39m\u001b[32mIn[28]\u001b[39m\u001b[32m, line 2\u001b[39m\n\u001b[32m      1\u001b[39m \u001b[38;5;28;01mimport\u001b[39;00m\u001b[38;5;250m \u001b[39m\u001b[34;01mpandas\u001b[39;00m\u001b[38;5;250m \u001b[39m\u001b[38;5;28;01mas\u001b[39;00m\u001b[38;5;250m \u001b[39m\u001b[34;01mpd\u001b[39;00m\n\u001b[32m----> \u001b[39m\u001b[32m2\u001b[39m inter =\u001b[43mpd\u001b[49m\u001b[43m.\u001b[49m\u001b[43mread_csv\u001b[49m\u001b[43m(\u001b[49m\u001b[33;43m'\u001b[39;49m\u001b[33;43mhttps://archive.ics.uci.edu/ml/machine-learning-database/wine/wine.data\u001b[39;49m\u001b[33;43m'\u001b[39;49m\u001b[43m)\u001b[49m\n\u001b[32m      3\u001b[39m \u001b[38;5;28mprint\u001b[39m(inter)\n",
      "\u001b[36mFile \u001b[39m\u001b[32m~/.local/lib/python3.12/site-packages/pandas/io/parsers/readers.py:1026\u001b[39m, in \u001b[36mread_csv\u001b[39m\u001b[34m(filepath_or_buffer, sep, delimiter, header, names, index_col, usecols, dtype, engine, converters, true_values, false_values, skipinitialspace, skiprows, skipfooter, nrows, na_values, keep_default_na, na_filter, verbose, skip_blank_lines, parse_dates, infer_datetime_format, keep_date_col, date_parser, date_format, dayfirst, cache_dates, iterator, chunksize, compression, thousands, decimal, lineterminator, quotechar, quoting, doublequote, escapechar, comment, encoding, encoding_errors, dialect, on_bad_lines, delim_whitespace, low_memory, memory_map, float_precision, storage_options, dtype_backend)\u001b[39m\n\u001b[32m   1013\u001b[39m kwds_defaults = _refine_defaults_read(\n\u001b[32m   1014\u001b[39m     dialect,\n\u001b[32m   1015\u001b[39m     delimiter,\n\u001b[32m   (...)\u001b[39m\u001b[32m   1022\u001b[39m     dtype_backend=dtype_backend,\n\u001b[32m   1023\u001b[39m )\n\u001b[32m   1024\u001b[39m kwds.update(kwds_defaults)\n\u001b[32m-> \u001b[39m\u001b[32m1026\u001b[39m \u001b[38;5;28;01mreturn\u001b[39;00m \u001b[43m_read\u001b[49m\u001b[43m(\u001b[49m\u001b[43mfilepath_or_buffer\u001b[49m\u001b[43m,\u001b[49m\u001b[43m \u001b[49m\u001b[43mkwds\u001b[49m\u001b[43m)\u001b[49m\n",
      "\u001b[36mFile \u001b[39m\u001b[32m~/.local/lib/python3.12/site-packages/pandas/io/parsers/readers.py:620\u001b[39m, in \u001b[36m_read\u001b[39m\u001b[34m(filepath_or_buffer, kwds)\u001b[39m\n\u001b[32m    617\u001b[39m _validate_names(kwds.get(\u001b[33m\"\u001b[39m\u001b[33mnames\u001b[39m\u001b[33m\"\u001b[39m, \u001b[38;5;28;01mNone\u001b[39;00m))\n\u001b[32m    619\u001b[39m \u001b[38;5;66;03m# Create the parser.\u001b[39;00m\n\u001b[32m--> \u001b[39m\u001b[32m620\u001b[39m parser = \u001b[43mTextFileReader\u001b[49m\u001b[43m(\u001b[49m\u001b[43mfilepath_or_buffer\u001b[49m\u001b[43m,\u001b[49m\u001b[43m \u001b[49m\u001b[43m*\u001b[49m\u001b[43m*\u001b[49m\u001b[43mkwds\u001b[49m\u001b[43m)\u001b[49m\n\u001b[32m    622\u001b[39m \u001b[38;5;28;01mif\u001b[39;00m chunksize \u001b[38;5;129;01mor\u001b[39;00m iterator:\n\u001b[32m    623\u001b[39m     \u001b[38;5;28;01mreturn\u001b[39;00m parser\n",
      "\u001b[36mFile \u001b[39m\u001b[32m~/.local/lib/python3.12/site-packages/pandas/io/parsers/readers.py:1620\u001b[39m, in \u001b[36mTextFileReader.__init__\u001b[39m\u001b[34m(self, f, engine, **kwds)\u001b[39m\n\u001b[32m   1617\u001b[39m     \u001b[38;5;28mself\u001b[39m.options[\u001b[33m\"\u001b[39m\u001b[33mhas_index_names\u001b[39m\u001b[33m\"\u001b[39m] = kwds[\u001b[33m\"\u001b[39m\u001b[33mhas_index_names\u001b[39m\u001b[33m\"\u001b[39m]\n\u001b[32m   1619\u001b[39m \u001b[38;5;28mself\u001b[39m.handles: IOHandles | \u001b[38;5;28;01mNone\u001b[39;00m = \u001b[38;5;28;01mNone\u001b[39;00m\n\u001b[32m-> \u001b[39m\u001b[32m1620\u001b[39m \u001b[38;5;28mself\u001b[39m._engine = \u001b[38;5;28;43mself\u001b[39;49m\u001b[43m.\u001b[49m\u001b[43m_make_engine\u001b[49m\u001b[43m(\u001b[49m\u001b[43mf\u001b[49m\u001b[43m,\u001b[49m\u001b[43m \u001b[49m\u001b[38;5;28;43mself\u001b[39;49m\u001b[43m.\u001b[49m\u001b[43mengine\u001b[49m\u001b[43m)\u001b[49m\n",
      "\u001b[36mFile \u001b[39m\u001b[32m~/.local/lib/python3.12/site-packages/pandas/io/parsers/readers.py:1880\u001b[39m, in \u001b[36mTextFileReader._make_engine\u001b[39m\u001b[34m(self, f, engine)\u001b[39m\n\u001b[32m   1878\u001b[39m     \u001b[38;5;28;01mif\u001b[39;00m \u001b[33m\"\u001b[39m\u001b[33mb\u001b[39m\u001b[33m\"\u001b[39m \u001b[38;5;129;01mnot\u001b[39;00m \u001b[38;5;129;01min\u001b[39;00m mode:\n\u001b[32m   1879\u001b[39m         mode += \u001b[33m\"\u001b[39m\u001b[33mb\u001b[39m\u001b[33m\"\u001b[39m\n\u001b[32m-> \u001b[39m\u001b[32m1880\u001b[39m \u001b[38;5;28mself\u001b[39m.handles = \u001b[43mget_handle\u001b[49m\u001b[43m(\u001b[49m\n\u001b[32m   1881\u001b[39m \u001b[43m    \u001b[49m\u001b[43mf\u001b[49m\u001b[43m,\u001b[49m\n\u001b[32m   1882\u001b[39m \u001b[43m    \u001b[49m\u001b[43mmode\u001b[49m\u001b[43m,\u001b[49m\n\u001b[32m   1883\u001b[39m \u001b[43m    \u001b[49m\u001b[43mencoding\u001b[49m\u001b[43m=\u001b[49m\u001b[38;5;28;43mself\u001b[39;49m\u001b[43m.\u001b[49m\u001b[43moptions\u001b[49m\u001b[43m.\u001b[49m\u001b[43mget\u001b[49m\u001b[43m(\u001b[49m\u001b[33;43m\"\u001b[39;49m\u001b[33;43mencoding\u001b[39;49m\u001b[33;43m\"\u001b[39;49m\u001b[43m,\u001b[49m\u001b[43m \u001b[49m\u001b[38;5;28;43;01mNone\u001b[39;49;00m\u001b[43m)\u001b[49m\u001b[43m,\u001b[49m\n\u001b[32m   1884\u001b[39m \u001b[43m    \u001b[49m\u001b[43mcompression\u001b[49m\u001b[43m=\u001b[49m\u001b[38;5;28;43mself\u001b[39;49m\u001b[43m.\u001b[49m\u001b[43moptions\u001b[49m\u001b[43m.\u001b[49m\u001b[43mget\u001b[49m\u001b[43m(\u001b[49m\u001b[33;43m\"\u001b[39;49m\u001b[33;43mcompression\u001b[39;49m\u001b[33;43m\"\u001b[39;49m\u001b[43m,\u001b[49m\u001b[43m \u001b[49m\u001b[38;5;28;43;01mNone\u001b[39;49;00m\u001b[43m)\u001b[49m\u001b[43m,\u001b[49m\n\u001b[32m   1885\u001b[39m \u001b[43m    \u001b[49m\u001b[43mmemory_map\u001b[49m\u001b[43m=\u001b[49m\u001b[38;5;28;43mself\u001b[39;49m\u001b[43m.\u001b[49m\u001b[43moptions\u001b[49m\u001b[43m.\u001b[49m\u001b[43mget\u001b[49m\u001b[43m(\u001b[49m\u001b[33;43m\"\u001b[39;49m\u001b[33;43mmemory_map\u001b[39;49m\u001b[33;43m\"\u001b[39;49m\u001b[43m,\u001b[49m\u001b[43m \u001b[49m\u001b[38;5;28;43;01mFalse\u001b[39;49;00m\u001b[43m)\u001b[49m\u001b[43m,\u001b[49m\n\u001b[32m   1886\u001b[39m \u001b[43m    \u001b[49m\u001b[43mis_text\u001b[49m\u001b[43m=\u001b[49m\u001b[43mis_text\u001b[49m\u001b[43m,\u001b[49m\n\u001b[32m   1887\u001b[39m \u001b[43m    \u001b[49m\u001b[43merrors\u001b[49m\u001b[43m=\u001b[49m\u001b[38;5;28;43mself\u001b[39;49m\u001b[43m.\u001b[49m\u001b[43moptions\u001b[49m\u001b[43m.\u001b[49m\u001b[43mget\u001b[49m\u001b[43m(\u001b[49m\u001b[33;43m\"\u001b[39;49m\u001b[33;43mencoding_errors\u001b[39;49m\u001b[33;43m\"\u001b[39;49m\u001b[43m,\u001b[49m\u001b[43m \u001b[49m\u001b[33;43m\"\u001b[39;49m\u001b[33;43mstrict\u001b[39;49m\u001b[33;43m\"\u001b[39;49m\u001b[43m)\u001b[49m\u001b[43m,\u001b[49m\n\u001b[32m   1888\u001b[39m \u001b[43m    \u001b[49m\u001b[43mstorage_options\u001b[49m\u001b[43m=\u001b[49m\u001b[38;5;28;43mself\u001b[39;49m\u001b[43m.\u001b[49m\u001b[43moptions\u001b[49m\u001b[43m.\u001b[49m\u001b[43mget\u001b[49m\u001b[43m(\u001b[49m\u001b[33;43m\"\u001b[39;49m\u001b[33;43mstorage_options\u001b[39;49m\u001b[33;43m\"\u001b[39;49m\u001b[43m,\u001b[49m\u001b[43m \u001b[49m\u001b[38;5;28;43;01mNone\u001b[39;49;00m\u001b[43m)\u001b[49m\u001b[43m,\u001b[49m\n\u001b[32m   1889\u001b[39m \u001b[43m\u001b[49m\u001b[43m)\u001b[49m\n\u001b[32m   1890\u001b[39m \u001b[38;5;28;01massert\u001b[39;00m \u001b[38;5;28mself\u001b[39m.handles \u001b[38;5;129;01mis\u001b[39;00m \u001b[38;5;129;01mnot\u001b[39;00m \u001b[38;5;28;01mNone\u001b[39;00m\n\u001b[32m   1891\u001b[39m f = \u001b[38;5;28mself\u001b[39m.handles.handle\n",
      "\u001b[36mFile \u001b[39m\u001b[32m~/.local/lib/python3.12/site-packages/pandas/io/common.py:728\u001b[39m, in \u001b[36mget_handle\u001b[39m\u001b[34m(path_or_buf, mode, encoding, compression, memory_map, is_text, errors, storage_options)\u001b[39m\n\u001b[32m    725\u001b[39m     codecs.lookup_error(errors)\n\u001b[32m    727\u001b[39m \u001b[38;5;66;03m# open URLs\u001b[39;00m\n\u001b[32m--> \u001b[39m\u001b[32m728\u001b[39m ioargs = \u001b[43m_get_filepath_or_buffer\u001b[49m\u001b[43m(\u001b[49m\n\u001b[32m    729\u001b[39m \u001b[43m    \u001b[49m\u001b[43mpath_or_buf\u001b[49m\u001b[43m,\u001b[49m\n\u001b[32m    730\u001b[39m \u001b[43m    \u001b[49m\u001b[43mencoding\u001b[49m\u001b[43m=\u001b[49m\u001b[43mencoding\u001b[49m\u001b[43m,\u001b[49m\n\u001b[32m    731\u001b[39m \u001b[43m    \u001b[49m\u001b[43mcompression\u001b[49m\u001b[43m=\u001b[49m\u001b[43mcompression\u001b[49m\u001b[43m,\u001b[49m\n\u001b[32m    732\u001b[39m \u001b[43m    \u001b[49m\u001b[43mmode\u001b[49m\u001b[43m=\u001b[49m\u001b[43mmode\u001b[49m\u001b[43m,\u001b[49m\n\u001b[32m    733\u001b[39m \u001b[43m    \u001b[49m\u001b[43mstorage_options\u001b[49m\u001b[43m=\u001b[49m\u001b[43mstorage_options\u001b[49m\u001b[43m,\u001b[49m\n\u001b[32m    734\u001b[39m \u001b[43m\u001b[49m\u001b[43m)\u001b[49m\n\u001b[32m    736\u001b[39m handle = ioargs.filepath_or_buffer\n\u001b[32m    737\u001b[39m handles: \u001b[38;5;28mlist\u001b[39m[BaseBuffer]\n",
      "\u001b[36mFile \u001b[39m\u001b[32m~/.local/lib/python3.12/site-packages/pandas/io/common.py:384\u001b[39m, in \u001b[36m_get_filepath_or_buffer\u001b[39m\u001b[34m(filepath_or_buffer, encoding, compression, mode, storage_options)\u001b[39m\n\u001b[32m    382\u001b[39m \u001b[38;5;66;03m# assuming storage_options is to be interpreted as headers\u001b[39;00m\n\u001b[32m    383\u001b[39m req_info = urllib.request.Request(filepath_or_buffer, headers=storage_options)\n\u001b[32m--> \u001b[39m\u001b[32m384\u001b[39m \u001b[38;5;28;01mwith\u001b[39;00m \u001b[43murlopen\u001b[49m\u001b[43m(\u001b[49m\u001b[43mreq_info\u001b[49m\u001b[43m)\u001b[49m \u001b[38;5;28;01mas\u001b[39;00m req:\n\u001b[32m    385\u001b[39m     content_encoding = req.headers.get(\u001b[33m\"\u001b[39m\u001b[33mContent-Encoding\u001b[39m\u001b[33m\"\u001b[39m, \u001b[38;5;28;01mNone\u001b[39;00m)\n\u001b[32m    386\u001b[39m     \u001b[38;5;28;01mif\u001b[39;00m content_encoding == \u001b[33m\"\u001b[39m\u001b[33mgzip\u001b[39m\u001b[33m\"\u001b[39m:\n\u001b[32m    387\u001b[39m         \u001b[38;5;66;03m# Override compression based on Content-Encoding header\u001b[39;00m\n",
      "\u001b[36mFile \u001b[39m\u001b[32m~/.local/lib/python3.12/site-packages/pandas/io/common.py:289\u001b[39m, in \u001b[36murlopen\u001b[39m\u001b[34m(*args, **kwargs)\u001b[39m\n\u001b[32m    283\u001b[39m \u001b[38;5;250m\u001b[39m\u001b[33;03m\"\"\"\u001b[39;00m\n\u001b[32m    284\u001b[39m \u001b[33;03mLazy-import wrapper for stdlib urlopen, as that imports a big chunk of\u001b[39;00m\n\u001b[32m    285\u001b[39m \u001b[33;03mthe stdlib.\u001b[39;00m\n\u001b[32m    286\u001b[39m \u001b[33;03m\"\"\"\u001b[39;00m\n\u001b[32m    287\u001b[39m \u001b[38;5;28;01mimport\u001b[39;00m\u001b[38;5;250m \u001b[39m\u001b[34;01murllib\u001b[39;00m\u001b[34;01m.\u001b[39;00m\u001b[34;01mrequest\u001b[39;00m\n\u001b[32m--> \u001b[39m\u001b[32m289\u001b[39m \u001b[38;5;28;01mreturn\u001b[39;00m \u001b[43murllib\u001b[49m\u001b[43m.\u001b[49m\u001b[43mrequest\u001b[49m\u001b[43m.\u001b[49m\u001b[43murlopen\u001b[49m\u001b[43m(\u001b[49m\u001b[43m*\u001b[49m\u001b[43margs\u001b[49m\u001b[43m,\u001b[49m\u001b[43m \u001b[49m\u001b[43m*\u001b[49m\u001b[43m*\u001b[49m\u001b[43mkwargs\u001b[49m\u001b[43m)\u001b[49m\n",
      "\u001b[36mFile \u001b[39m\u001b[32m/workspaces/ml_learn/venv/lib/python3.12/urllib/request.py:215\u001b[39m, in \u001b[36murlopen\u001b[39m\u001b[34m(url, data, timeout, cafile, capath, cadefault, context)\u001b[39m\n\u001b[32m    213\u001b[39m \u001b[38;5;28;01melse\u001b[39;00m:\n\u001b[32m    214\u001b[39m     opener = _opener\n\u001b[32m--> \u001b[39m\u001b[32m215\u001b[39m \u001b[38;5;28;01mreturn\u001b[39;00m \u001b[43mopener\u001b[49m\u001b[43m.\u001b[49m\u001b[43mopen\u001b[49m\u001b[43m(\u001b[49m\u001b[43murl\u001b[49m\u001b[43m,\u001b[49m\u001b[43m \u001b[49m\u001b[43mdata\u001b[49m\u001b[43m,\u001b[49m\u001b[43m \u001b[49m\u001b[43mtimeout\u001b[49m\u001b[43m)\u001b[49m\n",
      "\u001b[36mFile \u001b[39m\u001b[32m/workspaces/ml_learn/venv/lib/python3.12/urllib/request.py:521\u001b[39m, in \u001b[36mOpenerDirector.open\u001b[39m\u001b[34m(self, fullurl, data, timeout)\u001b[39m\n\u001b[32m    519\u001b[39m \u001b[38;5;28;01mfor\u001b[39;00m processor \u001b[38;5;129;01min\u001b[39;00m \u001b[38;5;28mself\u001b[39m.process_response.get(protocol, []):\n\u001b[32m    520\u001b[39m     meth = \u001b[38;5;28mgetattr\u001b[39m(processor, meth_name)\n\u001b[32m--> \u001b[39m\u001b[32m521\u001b[39m     response = \u001b[43mmeth\u001b[49m\u001b[43m(\u001b[49m\u001b[43mreq\u001b[49m\u001b[43m,\u001b[49m\u001b[43m \u001b[49m\u001b[43mresponse\u001b[49m\u001b[43m)\u001b[49m\n\u001b[32m    523\u001b[39m \u001b[38;5;28;01mreturn\u001b[39;00m response\n",
      "\u001b[36mFile \u001b[39m\u001b[32m/workspaces/ml_learn/venv/lib/python3.12/urllib/request.py:630\u001b[39m, in \u001b[36mHTTPErrorProcessor.http_response\u001b[39m\u001b[34m(self, request, response)\u001b[39m\n\u001b[32m    627\u001b[39m \u001b[38;5;66;03m# According to RFC 2616, \"2xx\" code indicates that the client's\u001b[39;00m\n\u001b[32m    628\u001b[39m \u001b[38;5;66;03m# request was successfully received, understood, and accepted.\u001b[39;00m\n\u001b[32m    629\u001b[39m \u001b[38;5;28;01mif\u001b[39;00m \u001b[38;5;129;01mnot\u001b[39;00m (\u001b[32m200\u001b[39m <= code < \u001b[32m300\u001b[39m):\n\u001b[32m--> \u001b[39m\u001b[32m630\u001b[39m     response = \u001b[38;5;28;43mself\u001b[39;49m\u001b[43m.\u001b[49m\u001b[43mparent\u001b[49m\u001b[43m.\u001b[49m\u001b[43merror\u001b[49m\u001b[43m(\u001b[49m\n\u001b[32m    631\u001b[39m \u001b[43m        \u001b[49m\u001b[33;43m'\u001b[39;49m\u001b[33;43mhttp\u001b[39;49m\u001b[33;43m'\u001b[39;49m\u001b[43m,\u001b[49m\u001b[43m \u001b[49m\u001b[43mrequest\u001b[49m\u001b[43m,\u001b[49m\u001b[43m \u001b[49m\u001b[43mresponse\u001b[49m\u001b[43m,\u001b[49m\u001b[43m \u001b[49m\u001b[43mcode\u001b[49m\u001b[43m,\u001b[49m\u001b[43m \u001b[49m\u001b[43mmsg\u001b[49m\u001b[43m,\u001b[49m\u001b[43m \u001b[49m\u001b[43mhdrs\u001b[49m\u001b[43m)\u001b[49m\n\u001b[32m    633\u001b[39m \u001b[38;5;28;01mreturn\u001b[39;00m response\n",
      "\u001b[36mFile \u001b[39m\u001b[32m/workspaces/ml_learn/venv/lib/python3.12/urllib/request.py:559\u001b[39m, in \u001b[36mOpenerDirector.error\u001b[39m\u001b[34m(self, proto, *args)\u001b[39m\n\u001b[32m    557\u001b[39m \u001b[38;5;28;01mif\u001b[39;00m http_err:\n\u001b[32m    558\u001b[39m     args = (\u001b[38;5;28mdict\u001b[39m, \u001b[33m'\u001b[39m\u001b[33mdefault\u001b[39m\u001b[33m'\u001b[39m, \u001b[33m'\u001b[39m\u001b[33mhttp_error_default\u001b[39m\u001b[33m'\u001b[39m) + orig_args\n\u001b[32m--> \u001b[39m\u001b[32m559\u001b[39m     \u001b[38;5;28;01mreturn\u001b[39;00m \u001b[38;5;28;43mself\u001b[39;49m\u001b[43m.\u001b[49m\u001b[43m_call_chain\u001b[49m\u001b[43m(\u001b[49m\u001b[43m*\u001b[49m\u001b[43margs\u001b[49m\u001b[43m)\u001b[49m\n",
      "\u001b[36mFile \u001b[39m\u001b[32m/workspaces/ml_learn/venv/lib/python3.12/urllib/request.py:492\u001b[39m, in \u001b[36mOpenerDirector._call_chain\u001b[39m\u001b[34m(self, chain, kind, meth_name, *args)\u001b[39m\n\u001b[32m    490\u001b[39m \u001b[38;5;28;01mfor\u001b[39;00m handler \u001b[38;5;129;01min\u001b[39;00m handlers:\n\u001b[32m    491\u001b[39m     func = \u001b[38;5;28mgetattr\u001b[39m(handler, meth_name)\n\u001b[32m--> \u001b[39m\u001b[32m492\u001b[39m     result = \u001b[43mfunc\u001b[49m\u001b[43m(\u001b[49m\u001b[43m*\u001b[49m\u001b[43margs\u001b[49m\u001b[43m)\u001b[49m\n\u001b[32m    493\u001b[39m     \u001b[38;5;28;01mif\u001b[39;00m result \u001b[38;5;129;01mis\u001b[39;00m \u001b[38;5;129;01mnot\u001b[39;00m \u001b[38;5;28;01mNone\u001b[39;00m:\n\u001b[32m    494\u001b[39m         \u001b[38;5;28;01mreturn\u001b[39;00m result\n",
      "\u001b[36mFile \u001b[39m\u001b[32m/workspaces/ml_learn/venv/lib/python3.12/urllib/request.py:639\u001b[39m, in \u001b[36mHTTPDefaultErrorHandler.http_error_default\u001b[39m\u001b[34m(self, req, fp, code, msg, hdrs)\u001b[39m\n\u001b[32m    638\u001b[39m \u001b[38;5;28;01mdef\u001b[39;00m\u001b[38;5;250m \u001b[39m\u001b[34mhttp_error_default\u001b[39m(\u001b[38;5;28mself\u001b[39m, req, fp, code, msg, hdrs):\n\u001b[32m--> \u001b[39m\u001b[32m639\u001b[39m     \u001b[38;5;28;01mraise\u001b[39;00m HTTPError(req.full_url, code, msg, hdrs, fp)\n",
      "\u001b[31mHTTPError\u001b[39m: HTTP Error 404: Not Found"
     ]
    }
   ],
   "source": [
    "import pandas as pd\n",
    "inter =pd.read_csv('https://archive.ics.uci.edu/ml/machine-learning-database/wine/wine.data')\n",
    "print(inter)"
   ]
  },
  {
   "cell_type": "code",
   "execution_count": null,
   "id": "c19a9616",
   "metadata": {},
   "outputs": [
    {
     "name": "stdout",
     "output_type": "stream",
     "text": [
      "[                               Bank Name               City         State  \\\n",
      "0                   Pulaski Savings Bank            Chicago      Illinois   \n",
      "1     The First National Bank of Lindsay            Lindsay      Oklahoma   \n",
      "2  Republic First Bank dba Republic Bank       Philadelphia  Pennsylvania   \n",
      "3                          Citizens Bank           Sac City          Iowa   \n",
      "4               Heartland Tri-State Bank            Elkhart        Kansas   \n",
      "5                    First Republic Bank      San Francisco    California   \n",
      "6                         Signature Bank           New York      New York   \n",
      "7                    Silicon Valley Bank        Santa Clara    California   \n",
      "8                      Almena State Bank             Almena        Kansas   \n",
      "9             First City Bank of Florida  Fort Walton Beach       Florida   \n",
      "\n",
      "    Cert                Acquiring Institution      Closing Date  \\\n",
      "0  28611                      Millennium Bank  January 17, 2025   \n",
      "1   4134   First Bank & Trust Co., Duncan, OK  October 18, 2024   \n",
      "2  27332    Fulton Bank, National Association    April 26, 2024   \n",
      "3   8758            Iowa Trust & Savings Bank  November 3, 2023   \n",
      "4  25851               Dream First Bank, N.A.     July 28, 2023   \n",
      "5  59017            JPMorgan Chase Bank, N.A.       May 1, 2023   \n",
      "6  57053                  Flagstar Bank, N.A.    March 12, 2023   \n",
      "7  24735  First Citizens Bank & Trust Company    March 10, 2023   \n",
      "8  15426                          Equity Bank  October 23, 2020   \n",
      "9  16748            United Fidelity Bank, fsb  October 16, 2020   \n",
      "\n",
      "   Fund  Sort ascending  \n",
      "0                 10548  \n",
      "1                 10547  \n",
      "2                 10546  \n",
      "3                 10545  \n",
      "4                 10544  \n",
      "5                 10543  \n",
      "6                 10540  \n",
      "7                 10539  \n",
      "8                 10538  \n",
      "9                 10537  ]\n"
     ]
    }
   ],
   "source": [
    "url = 'https://www.fdic.gov/bank-failures/failed-bank-list'\n",
    "new_file = pd.read_html(url)\n",
    "print(new_file)\n"
   ]
  },
  {
   "cell_type": "code",
   "execution_count": 39,
   "id": "f3cf8161",
   "metadata": {},
   "outputs": [
    {
     "data": {
      "text/html": [
       "<div>\n",
       "<style scoped>\n",
       "    .dataframe tbody tr th:only-of-type {\n",
       "        vertical-align: middle;\n",
       "    }\n",
       "\n",
       "    .dataframe tbody tr th {\n",
       "        vertical-align: top;\n",
       "    }\n",
       "\n",
       "    .dataframe thead th {\n",
       "        text-align: right;\n",
       "    }\n",
       "</style>\n",
       "<table border=\"1\" class=\"dataframe\">\n",
       "  <thead>\n",
       "    <tr style=\"text-align: right;\">\n",
       "      <th></th>\n",
       "      <th>Bank Name</th>\n",
       "      <th>City</th>\n",
       "      <th>State</th>\n",
       "      <th>Cert</th>\n",
       "      <th>Acquiring Institution</th>\n",
       "      <th>Closing Date</th>\n",
       "      <th>Fund  Sort ascending</th>\n",
       "    </tr>\n",
       "  </thead>\n",
       "  <tbody>\n",
       "    <tr>\n",
       "      <th>0</th>\n",
       "      <td>Pulaski Savings Bank</td>\n",
       "      <td>Chicago</td>\n",
       "      <td>Illinois</td>\n",
       "      <td>28611</td>\n",
       "      <td>Millennium Bank</td>\n",
       "      <td>January 17, 2025</td>\n",
       "      <td>10548</td>\n",
       "    </tr>\n",
       "    <tr>\n",
       "      <th>1</th>\n",
       "      <td>The First National Bank of Lindsay</td>\n",
       "      <td>Lindsay</td>\n",
       "      <td>Oklahoma</td>\n",
       "      <td>4134</td>\n",
       "      <td>First Bank &amp; Trust Co., Duncan, OK</td>\n",
       "      <td>October 18, 2024</td>\n",
       "      <td>10547</td>\n",
       "    </tr>\n",
       "    <tr>\n",
       "      <th>2</th>\n",
       "      <td>Republic First Bank dba Republic Bank</td>\n",
       "      <td>Philadelphia</td>\n",
       "      <td>Pennsylvania</td>\n",
       "      <td>27332</td>\n",
       "      <td>Fulton Bank, National Association</td>\n",
       "      <td>April 26, 2024</td>\n",
       "      <td>10546</td>\n",
       "    </tr>\n",
       "    <tr>\n",
       "      <th>3</th>\n",
       "      <td>Citizens Bank</td>\n",
       "      <td>Sac City</td>\n",
       "      <td>Iowa</td>\n",
       "      <td>8758</td>\n",
       "      <td>Iowa Trust &amp; Savings Bank</td>\n",
       "      <td>November 3, 2023</td>\n",
       "      <td>10545</td>\n",
       "    </tr>\n",
       "    <tr>\n",
       "      <th>4</th>\n",
       "      <td>Heartland Tri-State Bank</td>\n",
       "      <td>Elkhart</td>\n",
       "      <td>Kansas</td>\n",
       "      <td>25851</td>\n",
       "      <td>Dream First Bank, N.A.</td>\n",
       "      <td>July 28, 2023</td>\n",
       "      <td>10544</td>\n",
       "    </tr>\n",
       "    <tr>\n",
       "      <th>5</th>\n",
       "      <td>First Republic Bank</td>\n",
       "      <td>San Francisco</td>\n",
       "      <td>California</td>\n",
       "      <td>59017</td>\n",
       "      <td>JPMorgan Chase Bank, N.A.</td>\n",
       "      <td>May 1, 2023</td>\n",
       "      <td>10543</td>\n",
       "    </tr>\n",
       "    <tr>\n",
       "      <th>6</th>\n",
       "      <td>Signature Bank</td>\n",
       "      <td>New York</td>\n",
       "      <td>New York</td>\n",
       "      <td>57053</td>\n",
       "      <td>Flagstar Bank, N.A.</td>\n",
       "      <td>March 12, 2023</td>\n",
       "      <td>10540</td>\n",
       "    </tr>\n",
       "    <tr>\n",
       "      <th>7</th>\n",
       "      <td>Silicon Valley Bank</td>\n",
       "      <td>Santa Clara</td>\n",
       "      <td>California</td>\n",
       "      <td>24735</td>\n",
       "      <td>First Citizens Bank &amp; Trust Company</td>\n",
       "      <td>March 10, 2023</td>\n",
       "      <td>10539</td>\n",
       "    </tr>\n",
       "    <tr>\n",
       "      <th>8</th>\n",
       "      <td>Almena State Bank</td>\n",
       "      <td>Almena</td>\n",
       "      <td>Kansas</td>\n",
       "      <td>15426</td>\n",
       "      <td>Equity Bank</td>\n",
       "      <td>October 23, 2020</td>\n",
       "      <td>10538</td>\n",
       "    </tr>\n",
       "    <tr>\n",
       "      <th>9</th>\n",
       "      <td>First City Bank of Florida</td>\n",
       "      <td>Fort Walton Beach</td>\n",
       "      <td>Florida</td>\n",
       "      <td>16748</td>\n",
       "      <td>United Fidelity Bank, fsb</td>\n",
       "      <td>October 16, 2020</td>\n",
       "      <td>10537</td>\n",
       "    </tr>\n",
       "  </tbody>\n",
       "</table>\n",
       "</div>"
      ],
      "text/plain": [
       "                               Bank Name               City         State  \\\n",
       "0                   Pulaski Savings Bank            Chicago      Illinois   \n",
       "1     The First National Bank of Lindsay            Lindsay      Oklahoma   \n",
       "2  Republic First Bank dba Republic Bank       Philadelphia  Pennsylvania   \n",
       "3                          Citizens Bank           Sac City          Iowa   \n",
       "4               Heartland Tri-State Bank            Elkhart        Kansas   \n",
       "5                    First Republic Bank      San Francisco    California   \n",
       "6                         Signature Bank           New York      New York   \n",
       "7                    Silicon Valley Bank        Santa Clara    California   \n",
       "8                      Almena State Bank             Almena        Kansas   \n",
       "9             First City Bank of Florida  Fort Walton Beach       Florida   \n",
       "\n",
       "    Cert                Acquiring Institution      Closing Date  \\\n",
       "0  28611                      Millennium Bank  January 17, 2025   \n",
       "1   4134   First Bank & Trust Co., Duncan, OK  October 18, 2024   \n",
       "2  27332    Fulton Bank, National Association    April 26, 2024   \n",
       "3   8758            Iowa Trust & Savings Bank  November 3, 2023   \n",
       "4  25851               Dream First Bank, N.A.     July 28, 2023   \n",
       "5  59017            JPMorgan Chase Bank, N.A.       May 1, 2023   \n",
       "6  57053                  Flagstar Bank, N.A.    March 12, 2023   \n",
       "7  24735  First Citizens Bank & Trust Company    March 10, 2023   \n",
       "8  15426                          Equity Bank  October 23, 2020   \n",
       "9  16748            United Fidelity Bank, fsb  October 16, 2020   \n",
       "\n",
       "   Fund  Sort ascending  \n",
       "0                 10548  \n",
       "1                 10547  \n",
       "2                 10546  \n",
       "3                 10545  \n",
       "4                 10544  \n",
       "5                 10543  \n",
       "6                 10540  \n",
       "7                 10539  \n",
       "8                 10538  \n",
       "9                 10537  "
      ]
     },
     "execution_count": 39,
     "metadata": {},
     "output_type": "execute_result"
    }
   ],
   "source": [
    "new_file[0]\n"
   ]
  },
  {
   "cell_type": "code",
   "execution_count": 46,
   "id": "9025f893",
   "metadata": {},
   "outputs": [
    {
     "data": {
      "text/html": [
       "<div>\n",
       "<style scoped>\n",
       "    .dataframe tbody tr th:only-of-type {\n",
       "        vertical-align: middle;\n",
       "    }\n",
       "\n",
       "    .dataframe tbody tr th {\n",
       "        vertical-align: top;\n",
       "    }\n",
       "\n",
       "    .dataframe thead th {\n",
       "        text-align: right;\n",
       "    }\n",
       "</style>\n",
       "<table border=\"1\" class=\"dataframe\">\n",
       "  <thead>\n",
       "    <tr style=\"text-align: right;\">\n",
       "      <th></th>\n",
       "      <th>Mobile country code</th>\n",
       "      <th>Country</th>\n",
       "      <th>ISO 3166</th>\n",
       "      <th>Mobile network codes</th>\n",
       "      <th>National MNC authority</th>\n",
       "      <th>Remarks</th>\n",
       "    </tr>\n",
       "  </thead>\n",
       "  <tbody>\n",
       "    <tr>\n",
       "      <th>0</th>\n",
       "      <td>289</td>\n",
       "      <td>A Abkhazia</td>\n",
       "      <td>GE-AB</td>\n",
       "      <td>List of mobile network codes in Abkhazia</td>\n",
       "      <td>NaN</td>\n",
       "      <td>MCC is not listed by ITU</td>\n",
       "    </tr>\n",
       "    <tr>\n",
       "      <th>1</th>\n",
       "      <td>412</td>\n",
       "      <td>Afghanistan</td>\n",
       "      <td>AF</td>\n",
       "      <td>List of mobile network codes in Afghanistan</td>\n",
       "      <td>NaN</td>\n",
       "      <td>NaN</td>\n",
       "    </tr>\n",
       "    <tr>\n",
       "      <th>2</th>\n",
       "      <td>276</td>\n",
       "      <td>Albania</td>\n",
       "      <td>AL</td>\n",
       "      <td>List of mobile network codes in Albania</td>\n",
       "      <td>NaN</td>\n",
       "      <td>NaN</td>\n",
       "    </tr>\n",
       "    <tr>\n",
       "      <th>3</th>\n",
       "      <td>603</td>\n",
       "      <td>Algeria</td>\n",
       "      <td>DZ</td>\n",
       "      <td>List of mobile network codes in Algeria</td>\n",
       "      <td>NaN</td>\n",
       "      <td>NaN</td>\n",
       "    </tr>\n",
       "    <tr>\n",
       "      <th>4</th>\n",
       "      <td>544</td>\n",
       "      <td>American Samoa (United States of America)</td>\n",
       "      <td>AS</td>\n",
       "      <td>List of mobile network codes in American Samoa</td>\n",
       "      <td>NaN</td>\n",
       "      <td>NaN</td>\n",
       "    </tr>\n",
       "    <tr>\n",
       "      <th>...</th>\n",
       "      <td>...</td>\n",
       "      <td>...</td>\n",
       "      <td>...</td>\n",
       "      <td>...</td>\n",
       "      <td>...</td>\n",
       "      <td>...</td>\n",
       "    </tr>\n",
       "    <tr>\n",
       "      <th>247</th>\n",
       "      <td>452</td>\n",
       "      <td>Vietnam</td>\n",
       "      <td>VN</td>\n",
       "      <td>List of mobile network codes in the Vietnam</td>\n",
       "      <td>NaN</td>\n",
       "      <td>NaN</td>\n",
       "    </tr>\n",
       "    <tr>\n",
       "      <th>248</th>\n",
       "      <td>543</td>\n",
       "      <td>W Wallis and Futuna</td>\n",
       "      <td>WF</td>\n",
       "      <td>List of mobile network codes in Wallis and Futuna</td>\n",
       "      <td>NaN</td>\n",
       "      <td>NaN</td>\n",
       "    </tr>\n",
       "    <tr>\n",
       "      <th>249</th>\n",
       "      <td>421</td>\n",
       "      <td>Y Yemen</td>\n",
       "      <td>YE</td>\n",
       "      <td>List of mobile network codes in the Yemen</td>\n",
       "      <td>NaN</td>\n",
       "      <td>NaN</td>\n",
       "    </tr>\n",
       "    <tr>\n",
       "      <th>250</th>\n",
       "      <td>645</td>\n",
       "      <td>Z Zambia</td>\n",
       "      <td>ZM</td>\n",
       "      <td>List of mobile network codes in Zambia</td>\n",
       "      <td>NaN</td>\n",
       "      <td>NaN</td>\n",
       "    </tr>\n",
       "    <tr>\n",
       "      <th>251</th>\n",
       "      <td>648</td>\n",
       "      <td>Zimbabwe</td>\n",
       "      <td>ZW</td>\n",
       "      <td>List of mobile network codes in Zimbabwe</td>\n",
       "      <td>NaN</td>\n",
       "      <td>NaN</td>\n",
       "    </tr>\n",
       "  </tbody>\n",
       "</table>\n",
       "<p>252 rows × 6 columns</p>\n",
       "</div>"
      ],
      "text/plain": [
       "     Mobile country code                                    Country ISO 3166  \\\n",
       "0                    289                                 A Abkhazia    GE-AB   \n",
       "1                    412                                Afghanistan       AF   \n",
       "2                    276                                    Albania       AL   \n",
       "3                    603                                    Algeria       DZ   \n",
       "4                    544  American Samoa (United States of America)       AS   \n",
       "..                   ...                                        ...      ...   \n",
       "247                  452                                    Vietnam       VN   \n",
       "248                  543                        W Wallis and Futuna       WF   \n",
       "249                  421                                    Y Yemen       YE   \n",
       "250                  645                                   Z Zambia       ZM   \n",
       "251                  648                                   Zimbabwe       ZW   \n",
       "\n",
       "                                  Mobile network codes National MNC authority  \\\n",
       "0             List of mobile network codes in Abkhazia                    NaN   \n",
       "1          List of mobile network codes in Afghanistan                    NaN   \n",
       "2              List of mobile network codes in Albania                    NaN   \n",
       "3              List of mobile network codes in Algeria                    NaN   \n",
       "4       List of mobile network codes in American Samoa                    NaN   \n",
       "..                                                 ...                    ...   \n",
       "247        List of mobile network codes in the Vietnam                    NaN   \n",
       "248  List of mobile network codes in Wallis and Futuna                    NaN   \n",
       "249          List of mobile network codes in the Yemen                    NaN   \n",
       "250             List of mobile network codes in Zambia                    NaN   \n",
       "251           List of mobile network codes in Zimbabwe                    NaN   \n",
       "\n",
       "                      Remarks  \n",
       "0    MCC is not listed by ITU  \n",
       "1                         NaN  \n",
       "2                         NaN  \n",
       "3                         NaN  \n",
       "4                         NaN  \n",
       "..                        ...  \n",
       "247                       NaN  \n",
       "248                       NaN  \n",
       "249                       NaN  \n",
       "250                       NaN  \n",
       "251                       NaN  \n",
       "\n",
       "[252 rows x 6 columns]"
      ]
     },
     "execution_count": 46,
     "metadata": {},
     "output_type": "execute_result"
    }
   ],
   "source": [
    "url1=\"https://en.wikipedia.org/wiki/Mobile_country_code\"\n",
    "pd.read_html(url1,match='country',header=0)[0]\n"
   ]
  },
  {
   "cell_type": "code",
   "execution_count": 47,
   "id": "9f115d6b",
   "metadata": {},
   "outputs": [
    {
     "name": "stdout",
     "output_type": "stream",
     "text": [
      "Requirement already satisfied: lxml in ./venv/lib/python3.12/site-packages (5.4.0)\n"
     ]
    }
   ],
   "source": [
    "!pip install lxml"
   ]
  },
  {
   "cell_type": "code",
   "execution_count": null,
   "id": "87ea0bf6",
   "metadata": {},
   "outputs": [],
   "source": []
  }
 ],
 "metadata": {
  "kernelspec": {
   "display_name": "Python 3",
   "language": "python",
   "name": "python3"
  },
  "language_info": {
   "codemirror_mode": {
    "name": "ipython",
    "version": 3
   },
   "file_extension": ".py",
   "mimetype": "text/x-python",
   "name": "python",
   "nbconvert_exporter": "python",
   "pygments_lexer": "ipython3",
   "version": "3.12.0"
  }
 },
 "nbformat": 4,
 "nbformat_minor": 5
}
