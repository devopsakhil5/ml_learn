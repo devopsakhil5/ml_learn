{
 "cells": [
  {
   "cell_type": "markdown",
   "id": "c39a96e7",
   "metadata": {},
   "source": [
    "#### Python basic practice like lists, tuples, set, dictonary\n"
   ]
  },
  {
   "cell_type": "markdown",
   "id": "ce713dad",
   "metadata": {},
   "source": [
    "### list "
   ]
  },
  {
   "cell_type": "code",
   "execution_count": 37,
   "id": "980a6a01",
   "metadata": {},
   "outputs": [
    {
     "name": "stdout",
     "output_type": "stream",
     "text": [
      "['Akhil', 'Akash', 'Geetha']\n"
     ]
    }
   ],
   "source": [
    "list1=[\"Akhil\", \"Akash\",\"Geetha\"]\n",
    "print(list1)"
   ]
  },
  {
   "cell_type": "code",
   "execution_count": 38,
   "id": "745ede25",
   "metadata": {},
   "outputs": [
    {
     "name": "stdout",
     "output_type": "stream",
     "text": [
      "['Tejaswi', 'Geetha', 'Akash', 'Akhil', 'Tejaswi']\n"
     ]
    }
   ],
   "source": [
    "list.append(\"Tejaswi\")\n",
    "print(list)"
   ]
  },
  {
   "cell_type": "code",
   "execution_count": 39,
   "id": "8f986e8f",
   "metadata": {},
   "outputs": [
    {
     "name": "stdout",
     "output_type": "stream",
     "text": [
      "['Akhil', 'Akash', 'Geetha', 'Akhil', 'Akash', 'Geetha', 'Akhil', 'Akash', 'Geetha', 'Akhil', 'Akash', 'Geetha', 'Akhil', 'Akash', 'Geetha']\n"
     ]
    }
   ],
   "source": [
    "print(list1*5)"
   ]
  },
  {
   "cell_type": "code",
   "execution_count": 40,
   "id": "8af32089",
   "metadata": {},
   "outputs": [
    {
     "name": "stdout",
     "output_type": "stream",
     "text": [
      "Akash\n"
     ]
    }
   ],
   "source": [
    "print(list1[1])"
   ]
  },
  {
   "cell_type": "markdown",
   "id": "94933b4c",
   "metadata": {},
   "source": [
    "### string assignment and printing"
   ]
  },
  {
   "cell_type": "code",
   "execution_count": 15,
   "id": "4ebc7baa",
   "metadata": {},
   "outputs": [
    {
     "name": "stdout",
     "output_type": "stream",
     "text": [
      "a\n",
      "k\n",
      "h\n",
      "i\n",
      "l\n"
     ]
    }
   ],
   "source": [
    "str=\"akhil\"\n",
    "for i in str:\n",
    "    print(i)"
   ]
  },
  {
   "cell_type": "markdown",
   "id": "6732a0ee",
   "metadata": {},
   "source": [
    "### string assignment, string spliting, list conversion to set\n",
    "\n",
    "When string is split using .split(), it will convert the string into list variable."
   ]
  },
  {
   "cell_type": "code",
   "execution_count": 2,
   "id": "c34f0f3c",
   "metadata": {},
   "outputs": [
    {
     "name": "stdout",
     "output_type": "stream",
     "text": [
      "['my', 'name', 'is', 'akhil', 'and', 'my', 'age', 'is', '29', 'years']\n",
      "my\n",
      "name\n",
      "is\n",
      "akhil\n",
      "and\n",
      "my\n",
      "age\n",
      "is\n",
      "29\n",
      "years\n",
      "{'my', '29', 'name', 'years', 'is', 'age', 'and', 'akhil'}\n",
      "['my', '29', 'name', 'years', 'is', 'age', 'and', 'akhil']\n"
     ]
    }
   ],
   "source": [
    "string=\"my name is akhil and my age is 29 years\"\n",
    "split_string= string.split()\n",
    "print(split_string)\n",
    "for i in split_string:\n",
    "    print (i)\n",
    "set1_string=set(split_string)\n",
    "print(set1_string)\n",
    "print(list(set1_string))\n"
   ]
  },
  {
   "cell_type": "code",
   "execution_count": 13,
   "id": "f40026dc",
   "metadata": {},
   "outputs": [
    {
     "name": "stdout",
     "output_type": "stream",
     "text": [
      "{'akhl', 55, 'jsdj', 23}\n",
      "['akhl', 55, 'jsdj', 23]\n",
      "list[slice(None, None, None)]\n"
     ]
    }
   ],
   "source": [
    "list2 = [\"akhl\", 23, 55, \"jsdj\"]\n",
    "set2 = set(list2)\n",
    "print(set2)\n",
    "\n",
    "list3 = list(set2)\n",
    "print(list3)\n",
    "\n",
    "print(list[::])"
   ]
  },
  {
   "cell_type": "markdown",
   "id": "03648bdf",
   "metadata": {},
   "source": []
  },
  {
   "cell_type": "markdown",
   "id": "fc138631",
   "metadata": {},
   "source": [
    "#### print whether a num is prime or not:"
   ]
  },
  {
   "cell_type": "code",
   "execution_count": 9,
   "id": "ed2a0176",
   "metadata": {},
   "outputs": [
    {
     "name": "stdout",
     "output_type": "stream",
     "text": [
      "2\n",
      "3\n",
      "5\n",
      "7\n",
      "11\n",
      "13\n",
      "17\n",
      "19\n",
      "23\n",
      "29\n",
      "31\n",
      "37\n",
      "41\n",
      "43\n",
      "47\n",
      "53\n",
      "59\n",
      "61\n",
      "67\n",
      "71\n",
      "73\n",
      "79\n",
      "83\n",
      "89\n",
      "97\n"
     ]
    }
   ],
   "source": [
    "for num in range(1, 101):\n",
    "    if num>1:\n",
    "        for i in range(2, num):\n",
    "            if num%i==0:\n",
    "                break\n",
    "        else:\n",
    "            print(num)"
   ]
  },
  {
   "cell_type": "markdown",
   "id": "c357385e",
   "metadata": {},
   "source": [
    "### tuple initializing"
   ]
  },
  {
   "cell_type": "code",
   "execution_count": 23,
   "id": "6bf0dbe7",
   "metadata": {},
   "outputs": [
    {
     "name": "stdout",
     "output_type": "stream",
     "text": [
      "(5, 4, 3, 2, 1)\n"
     ]
    }
   ],
   "source": [
    "t1=(1,2,3,4,5)\n",
    "print(t1[::-1])\n"
   ]
  },
  {
   "cell_type": "markdown",
   "id": "2825e73e",
   "metadata": {},
   "source": [
    "### dictionary"
   ]
  },
  {
   "cell_type": "code",
   "execution_count": 30,
   "id": "82581747",
   "metadata": {},
   "outputs": [
    {
     "name": "stdout",
     "output_type": "stream",
     "text": [
      "dict_keys(['name', 'age', 'city'])\n",
      "dict_values(['akhil', 45, 'hyd'])\n",
      "dict_items([('name', 'akhil'), ('age', 45), ('city', 'hyd')])\n"
     ]
    }
   ],
   "source": [
    "mydict={\"name\":\"akhil\",\"age\":45,\"city\":\"hyd\"}\n",
    "print(mydict.keys())\n",
    "print(mydict.values())\n",
    "print(mydict.items())"
   ]
  },
  {
   "cell_type": "markdown",
   "id": "eae51081",
   "metadata": {},
   "source": [
    "## Dictionary Comprehenshion"
   ]
  },
  {
   "cell_type": "code",
   "execution_count": 31,
   "id": "224b1ce0",
   "metadata": {},
   "outputs": [
    {
     "name": "stdout",
     "output_type": "stream",
     "text": [
      "{0: 0, 1: 1, 2: 4, 3: 9, 4: 16, 5: 25}\n"
     ]
    }
   ],
   "source": [
    "expdict = {x:x**2 for x in range(6)}\n",
    "print(expdict)"
   ]
  },
  {
   "cell_type": "markdown",
   "id": "a4e1af61",
   "metadata": {},
   "source": [
    "## Conditional dictonary comprehension"
   ]
  },
  {
   "cell_type": "code",
   "execution_count": 33,
   "id": "49dcad1e",
   "metadata": {},
   "outputs": [
    {
     "name": "stdout",
     "output_type": "stream",
     "text": [
      "{0: 0, 2: 5, 4: 10, 6: 15, 8: 20, 10: 25, 12: 30, 14: 35, 16: 40, 18: 45, 20: 50, 22: 55, 24: 60, 26: 65, 28: 70, 30: 75}\n"
     ]
    }
   ],
   "source": [
    "expdict2 = {x:int(x/2*5 )for x in range(31) if x%2==0}\n",
    "print(expdict2)"
   ]
  },
  {
   "cell_type": "markdown",
   "id": "b9fb92c5",
   "metadata": {},
   "source": [
    "### **Count the number of times a value has appeared in the list** "
   ]
  },
  {
   "cell_type": "code",
   "execution_count": 44,
   "id": "ab6e1ada",
   "metadata": {},
   "outputs": [
    {
     "name": "stdout",
     "output_type": "stream",
     "text": [
      "[1, 2, 2, 3, 3, 3, 4, 4, 4, 4, 5, 5, 5, 5, 5, 6, 6, 6]\n",
      "{1: 1, 2: 2, 3: 3, 4: 4, 5: 5, 6: 3}\n"
     ]
    }
   ],
   "source": [
    "test=[1,2,2,3,3,3,4,4,4,4,5,5,5,5,5, 6,6,6]\n",
    "print(test)\n",
    "count={} \n",
    "for  num in test:\n",
    "    if num in count :\n",
    "        count[num] +=1\n",
    "    else:\n",
    "        count[num]=1\n",
    "print(count)"
   ]
  },
  {
   "cell_type": "code",
   "execution_count": null,
   "id": "2d4b0095",
   "metadata": {},
   "outputs": [],
   "source": []
  }
 ],
 "metadata": {
  "kernelspec": {
   "display_name": "Python 3",
   "language": "python",
   "name": "python3"
  },
  "language_info": {
   "codemirror_mode": {
    "name": "ipython",
    "version": 3
   },
   "file_extension": ".py",
   "mimetype": "text/x-python",
   "name": "python",
   "nbconvert_exporter": "python",
   "pygments_lexer": "ipython3",
   "version": "3.12.0"
  }
 },
 "nbformat": 4,
 "nbformat_minor": 5
}
