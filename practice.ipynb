{
 "cells": [
  {
   "cell_type": "markdown",
   "id": "c39a96e7",
   "metadata": {},
   "source": [
    "#### Python basic practice like lists, tuples, set, dictonary\n"
   ]
  },
  {
   "cell_type": "markdown",
   "id": "ce713dad",
   "metadata": {},
   "source": [
    "### list "
   ]
  },
  {
   "cell_type": "code",
   "execution_count": 37,
   "id": "980a6a01",
   "metadata": {},
   "outputs": [
    {
     "name": "stdout",
     "output_type": "stream",
     "text": [
      "['Akhil', 'Akash', 'Geetha']\n"
     ]
    }
   ],
   "source": [
    "list1=[\"Akhil\", \"Akash\",\"Geetha\"]\n",
    "print(list1)"
   ]
  },
  {
   "cell_type": "code",
   "execution_count": 38,
   "id": "745ede25",
   "metadata": {},
   "outputs": [
    {
     "name": "stdout",
     "output_type": "stream",
     "text": [
      "['Tejaswi', 'Geetha', 'Akash', 'Akhil', 'Tejaswi']\n"
     ]
    }
   ],
   "source": [
    "list.append(\"Tejaswi\")\n",
    "print(list)"
   ]
  },
  {
   "cell_type": "code",
   "execution_count": 39,
   "id": "8f986e8f",
   "metadata": {},
   "outputs": [
    {
     "name": "stdout",
     "output_type": "stream",
     "text": [
      "['Akhil', 'Akash', 'Geetha', 'Akhil', 'Akash', 'Geetha', 'Akhil', 'Akash', 'Geetha', 'Akhil', 'Akash', 'Geetha', 'Akhil', 'Akash', 'Geetha']\n"
     ]
    }
   ],
   "source": [
    "print(list1*5)"
   ]
  },
  {
   "cell_type": "code",
   "execution_count": 40,
   "id": "8af32089",
   "metadata": {},
   "outputs": [
    {
     "name": "stdout",
     "output_type": "stream",
     "text": [
      "Akash\n"
     ]
    }
   ],
   "source": [
    "print(list1[1])"
   ]
  },
  {
   "cell_type": "markdown",
   "id": "94933b4c",
   "metadata": {},
   "source": [
    "### string assignment and printing"
   ]
  },
  {
   "cell_type": "code",
   "execution_count": 15,
   "id": "4ebc7baa",
   "metadata": {},
   "outputs": [
    {
     "name": "stdout",
     "output_type": "stream",
     "text": [
      "a\n",
      "k\n",
      "h\n",
      "i\n",
      "l\n"
     ]
    }
   ],
   "source": [
    "str=\"akhil\"\n",
    "for i in str:\n",
    "    print(i)"
   ]
  },
  {
   "cell_type": "markdown",
   "id": "6732a0ee",
   "metadata": {},
   "source": [
    "### string assignment, string spliting, list conversion to set\n",
    "\n",
    "When string is split using .split(), it will convert the string into list variable."
   ]
  },
  {
   "cell_type": "code",
   "execution_count": 2,
   "id": "c34f0f3c",
   "metadata": {},
   "outputs": [
    {
     "name": "stdout",
     "output_type": "stream",
     "text": [
      "['my', 'name', 'is', 'akhil', 'and', 'my', 'age', 'is', '29', 'years']\n",
      "my\n",
      "name\n",
      "is\n",
      "akhil\n",
      "and\n",
      "my\n",
      "age\n",
      "is\n",
      "29\n",
      "years\n",
      "{'my', '29', 'name', 'years', 'is', 'age', 'and', 'akhil'}\n",
      "['my', '29', 'name', 'years', 'is', 'age', 'and', 'akhil']\n"
     ]
    }
   ],
   "source": [
    "string=\"my name is akhil and my age is 29 years\"\n",
    "split_string= string.split()\n",
    "print(split_string)\n",
    "for i in split_string:\n",
    "    print (i)\n",
    "set1_string=set(split_string)\n",
    "print(set1_string)\n",
    "print(list(set1_string))\n"
   ]
  },
  {
   "cell_type": "code",
   "execution_count": 13,
   "id": "f40026dc",
   "metadata": {},
   "outputs": [
    {
     "name": "stdout",
     "output_type": "stream",
     "text": [
      "{'akhl', 55, 'jsdj', 23}\n",
      "['akhl', 55, 'jsdj', 23]\n",
      "list[slice(None, None, None)]\n"
     ]
    }
   ],
   "source": [
    "list2 = [\"akhl\", 23, 55, \"jsdj\"]\n",
    "set2 = set(list2)\n",
    "print(set2)\n",
    "\n",
    "list3 = list(set2)\n",
    "print(list3)\n",
    "\n",
    "print(list[::])"
   ]
  },
  {
   "cell_type": "markdown",
   "id": "03648bdf",
   "metadata": {},
   "source": []
  },
  {
   "cell_type": "markdown",
   "id": "fc138631",
   "metadata": {},
   "source": [
    "#### print whether a num is prime or not:"
   ]
  },
  {
   "cell_type": "code",
   "execution_count": 9,
   "id": "ed2a0176",
   "metadata": {},
   "outputs": [
    {
     "name": "stdout",
     "output_type": "stream",
     "text": [
      "2\n",
      "3\n",
      "5\n",
      "7\n",
      "11\n",
      "13\n",
      "17\n",
      "19\n",
      "23\n",
      "29\n",
      "31\n",
      "37\n",
      "41\n",
      "43\n",
      "47\n",
      "53\n",
      "59\n",
      "61\n",
      "67\n",
      "71\n",
      "73\n",
      "79\n",
      "83\n",
      "89\n",
      "97\n"
     ]
    }
   ],
   "source": [
    "for num in range(1, 101):\n",
    "    if num>1:\n",
    "        for i in range(2, num):\n",
    "            if num%i==0:\n",
    "                break\n",
    "        else:\n",
    "            print(num)"
   ]
  },
  {
   "cell_type": "markdown",
   "id": "c357385e",
   "metadata": {},
   "source": [
    "### tuple initializing"
   ]
  },
  {
   "cell_type": "code",
   "execution_count": 23,
   "id": "6bf0dbe7",
   "metadata": {},
   "outputs": [
    {
     "name": "stdout",
     "output_type": "stream",
     "text": [
      "(5, 4, 3, 2, 1)\n"
     ]
    }
   ],
   "source": [
    "t1=(1,2,3,4,5)\n",
    "print(t1[::-1])\n"
   ]
  },
  {
   "cell_type": "markdown",
   "id": "2825e73e",
   "metadata": {},
   "source": [
    "### dictionary"
   ]
  },
  {
   "cell_type": "code",
   "execution_count": 30,
   "id": "82581747",
   "metadata": {},
   "outputs": [
    {
     "name": "stdout",
     "output_type": "stream",
     "text": [
      "dict_keys(['name', 'age', 'city'])\n",
      "dict_values(['akhil', 45, 'hyd'])\n",
      "dict_items([('name', 'akhil'), ('age', 45), ('city', 'hyd')])\n"
     ]
    }
   ],
   "source": [
    "mydict={\"name\":\"akhil\",\"age\":45,\"city\":\"hyd\"}\n",
    "print(mydict.keys())\n",
    "print(mydict.values())\n",
    "print(mydict.items())"
   ]
  },
  {
   "cell_type": "markdown",
   "id": "eae51081",
   "metadata": {},
   "source": [
    "## Dictionary Comprehenshion"
   ]
  },
  {
   "cell_type": "code",
   "execution_count": 31,
   "id": "224b1ce0",
   "metadata": {},
   "outputs": [
    {
     "name": "stdout",
     "output_type": "stream",
     "text": [
      "{0: 0, 1: 1, 2: 4, 3: 9, 4: 16, 5: 25}\n"
     ]
    }
   ],
   "source": [
    "expdict = {x:x**2 for x in range(6)}\n",
    "print(expdict)"
   ]
  },
  {
   "cell_type": "markdown",
   "id": "a4e1af61",
   "metadata": {},
   "source": [
    "## Conditional dictonary comprehension"
   ]
  },
  {
   "cell_type": "code",
   "execution_count": 33,
   "id": "49dcad1e",
   "metadata": {},
   "outputs": [
    {
     "name": "stdout",
     "output_type": "stream",
     "text": [
      "{0: 0, 2: 5, 4: 10, 6: 15, 8: 20, 10: 25, 12: 30, 14: 35, 16: 40, 18: 45, 20: 50, 22: 55, 24: 60, 26: 65, 28: 70, 30: 75}\n"
     ]
    }
   ],
   "source": [
    "expdict2 = {x:int(x/2*5 )for x in range(31) if x%2==0}\n",
    "print(expdict2)"
   ]
  },
  {
   "cell_type": "markdown",
   "id": "b9fb92c5",
   "metadata": {},
   "source": [
    "### **Count the number of times a value has appeared in the list** "
   ]
  },
  {
   "cell_type": "code",
   "execution_count": 44,
   "id": "ab6e1ada",
   "metadata": {},
   "outputs": [
    {
     "name": "stdout",
     "output_type": "stream",
     "text": [
      "[1, 2, 2, 3, 3, 3, 4, 4, 4, 4, 5, 5, 5, 5, 5, 6, 6, 6]\n",
      "{1: 1, 2: 2, 3: 3, 4: 4, 5: 5, 6: 3}\n"
     ]
    }
   ],
   "source": [
    "test=[1,2,2,3,3,3,4,4,4,4,5,5,5,5,5, 6,6,6]\n",
    "print(test)\n",
    "count={} \n",
    "for  num in test:\n",
    "    if num in count :\n",
    "        count[num] +=1\n",
    "    else:\n",
    "        count[num]=1\n",
    "print(count)"
   ]
  },
  {
   "cell_type": "markdown",
   "id": "a6d92f5a",
   "metadata": {},
   "source": [
    "## Functions:\n",
    "### basic function, function with more than one return value, positional arguments and keyword arguments."
   ]
  },
  {
   "cell_type": "code",
   "execution_count": 4,
   "id": "2d4b0095",
   "metadata": {},
   "outputs": [],
   "source": [
    "def calc(b, c):\n",
    "    a = b+c\n",
    "    return a"
   ]
  },
  {
   "cell_type": "code",
   "execution_count": 5,
   "id": "dc564177",
   "metadata": {},
   "outputs": [
    {
     "data": {
      "text/plain": [
       "25"
      ]
     },
     "execution_count": 5,
     "metadata": {},
     "output_type": "execute_result"
    }
   ],
   "source": [
    "calc(10, 15)"
   ]
  },
  {
   "cell_type": "code",
   "execution_count": 6,
   "id": "200bc518",
   "metadata": {},
   "outputs": [
    {
     "data": {
      "text/plain": [
       "(35, 10, 25)"
      ]
     },
     "execution_count": 6,
     "metadata": {},
     "output_type": "execute_result"
    }
   ],
   "source": [
    "def calc1(b,c):\n",
    "    a=b+c\n",
    "    return a, b, c\n",
    "\n",
    "calc1(10, 25)"
   ]
  },
  {
   "cell_type": "markdown",
   "id": "ec4d636a",
   "metadata": {},
   "source": [
    "#### postitional arguments"
   ]
  },
  {
   "cell_type": "code",
   "execution_count": 7,
   "id": "4da7f4d2",
   "metadata": {},
   "outputs": [
    {
     "name": "stdout",
     "output_type": "stream",
     "text": [
      "10\n",
      "9\n",
      "8\n",
      "7\n",
      "6\n",
      "5\n",
      "4\n",
      "3\n",
      "2\n",
      "1\n"
     ]
    }
   ],
   "source": [
    "def calc2(*args):\n",
    "    for i in args:\n",
    "        print(i)\n",
    "\n",
    "calc2(10,9,8,7,6,5,4,3,2,1)"
   ]
  },
  {
   "cell_type": "code",
   "execution_count": 13,
   "id": "0f4ad887",
   "metadata": {},
   "outputs": [
    {
     "name": "stdout",
     "output_type": "stream",
     "text": [
      "55\n"
     ]
    }
   ],
   "source": [
    "def calc3(*args):\n",
    "    sum = 0\n",
    "    for i in args:\n",
    "        sum = sum+i\n",
    "    print(sum)\n",
    "\n",
    "calc3(1,2,3,4,5,6,7,8,9,10)    \n"
   ]
  },
  {
   "cell_type": "markdown",
   "id": "aa93c741",
   "metadata": {},
   "source": [
    "#### keyword arguments"
   ]
  },
  {
   "cell_type": "code",
   "execution_count": 18,
   "id": "3690760e",
   "metadata": {},
   "outputs": [
    {
     "name": "stdout",
     "output_type": "stream",
     "text": [
      "name\n",
      "age\n",
      "city\n",
      "{'name': 'akhil', 'age': '29', 'city': 'secunderabad'}\n"
     ]
    }
   ],
   "source": [
    "def cal5(**kwargs):\n",
    "    for i in kwargs:\n",
    "        print(i)\n",
    "    print(kwargs)\n",
    "\n",
    "cal5(name=\"akhil\", age=\"29\", city=\"secunderabad\")"
   ]
  },
  {
   "cell_type": "markdown",
   "id": "1bdafe84",
   "metadata": {},
   "source": [
    "### combination of positional and kwyword arguments:"
   ]
  },
  {
   "cell_type": "code",
   "execution_count": 23,
   "id": "8308b535",
   "metadata": {},
   "outputs": [
    {
     "name": "stdout",
     "output_type": "stream",
     "text": [
      "2\n",
      "4\n",
      "6\n",
      "8\n",
      "name akhil\n",
      "age 29\n",
      "city secunderabad\n"
     ]
    }
   ],
   "source": [
    "def temp_calc(*args, **kwargs):\n",
    "    for i in args:\n",
    "        print(i)\n",
    "\n",
    "    for key, value in kwargs.items():\n",
    "        print(key, value)\n",
    "\n",
    "\n",
    "temp_calc(2, 4, 6, 8, name=\"akhil\",age=\"29\",city=\"secunderabad\")"
   ]
  },
  {
   "cell_type": "markdown",
   "id": "93042f43",
   "metadata": {},
   "source": []
  },
  {
   "cell_type": "code",
   "execution_count": null,
   "id": "80ef50ca",
   "metadata": {},
   "outputs": [
    {
     "name": "stdout",
     "output_type": "stream",
     "text": [
      "prime: 2\n",
      "prime: 3\n",
      "prime: 5\n",
      "prime: 7\n",
      "prime: 11\n",
      "prime: 13\n",
      "prime: 17\n",
      "prime: 19\n",
      "prime: 23\n",
      "prime: 29\n",
      "prime: 31\n",
      "prime: 37\n",
      "prime: 41\n",
      "prime: 43\n",
      "prime: 47\n",
      "prime: 53\n",
      "prime: 59\n",
      "prime: 61\n",
      "prime: 67\n",
      "prime: 71\n",
      "prime: 73\n",
      "prime: 79\n",
      "prime: 83\n",
      "prime: 89\n",
      "prime: 97\n"
     ]
    }
   ],
   "source": [
    "# print prime numbers:\n",
    "\n",
    "def prime_or_not(num):\n",
    "    for n in range(1, num):\n",
    "        if n>1:\n",
    "            for i in range(2,n):\n",
    "                if n%i==0:\n",
    "                    break\n",
    "            else:\n",
    "                print(\"prime:\", n)                    \n",
    "\n",
    "\n",
    "prime_or_not(100)\n",
    "\n",
    "\n",
    "\n",
    "\n"
   ]
  },
  {
   "cell_type": "markdown",
   "id": "7879e5fe",
   "metadata": {},
   "source": [
    "Same prime number concept using filters:\n"
   ]
  },
  {
   "cell_type": "code",
   "execution_count": 21,
   "id": "5d411dd5",
   "metadata": {},
   "outputs": [
    {
     "name": "stdout",
     "output_type": "stream",
     "text": [
      "prime: 2\n",
      "prime: 3\n",
      "prime: 5\n",
      "prime: 7\n",
      "prime: 2\n",
      "prime: 3\n",
      "prime: 5\n",
      "prime: 7\n",
      "prime: 11\n",
      "prime: 13\n",
      "prime: 17\n",
      "prime: 19\n",
      "prime: 2\n",
      "prime: 3\n",
      "prime: 5\n",
      "prime: 7\n",
      "prime: 11\n",
      "prime: 13\n",
      "prime: 17\n",
      "prime: 19\n",
      "prime: 23\n",
      "prime: 29\n",
      "prime: 2\n",
      "prime: 3\n",
      "prime: 5\n",
      "prime: 7\n",
      "prime: 11\n",
      "prime: 13\n",
      "prime: 17\n",
      "prime: 19\n",
      "prime: 23\n",
      "prime: 29\n",
      "prime: 31\n",
      "prime: 37\n",
      "prime: 2\n",
      "prime: 3\n",
      "prime: 5\n",
      "prime: 7\n",
      "prime: 11\n",
      "prime: 13\n",
      "prime: 17\n",
      "prime: 19\n",
      "prime: 23\n",
      "prime: 29\n",
      "prime: 31\n",
      "prime: 37\n",
      "prime: 41\n",
      "prime: 43\n",
      "prime: 47\n",
      "prime: 2\n",
      "prime: 3\n",
      "prime: 5\n",
      "prime: 7\n",
      "prime: 11\n",
      "prime: 13\n",
      "prime: 17\n",
      "prime: 19\n",
      "prime: 23\n",
      "prime: 29\n",
      "prime: 31\n",
      "prime: 37\n",
      "prime: 41\n",
      "prime: 43\n",
      "prime: 47\n",
      "prime: 53\n",
      "prime: 59\n"
     ]
    },
    {
     "data": {
      "text/plain": [
       "[]"
      ]
     },
     "execution_count": 21,
     "metadata": {},
     "output_type": "execute_result"
    }
   ],
   "source": [
    "n = [10, 20, 30, 40, 50, 60]\n",
    "list(filter(prime_or_not, n))"
   ]
  },
  {
   "cell_type": "markdown",
   "id": "6b16128f",
   "metadata": {},
   "source": [
    "using the map function: "
   ]
  },
  {
   "cell_type": "code",
   "execution_count": 22,
   "id": "ffa10546",
   "metadata": {},
   "outputs": [
    {
     "name": "stdout",
     "output_type": "stream",
     "text": [
      "prime: 2\n",
      "prime: 3\n",
      "prime: 5\n",
      "prime: 7\n",
      "prime: 2\n",
      "prime: 3\n",
      "prime: 5\n",
      "prime: 7\n",
      "prime: 11\n",
      "prime: 13\n",
      "prime: 17\n",
      "prime: 19\n",
      "prime: 2\n",
      "prime: 3\n",
      "prime: 5\n",
      "prime: 7\n",
      "prime: 11\n",
      "prime: 13\n",
      "prime: 17\n",
      "prime: 19\n",
      "prime: 23\n",
      "prime: 29\n",
      "prime: 2\n",
      "prime: 3\n",
      "prime: 5\n",
      "prime: 7\n",
      "prime: 11\n",
      "prime: 13\n",
      "prime: 17\n",
      "prime: 19\n",
      "prime: 23\n",
      "prime: 29\n",
      "prime: 31\n",
      "prime: 37\n",
      "prime: 2\n",
      "prime: 3\n",
      "prime: 5\n",
      "prime: 7\n",
      "prime: 11\n",
      "prime: 13\n",
      "prime: 17\n",
      "prime: 19\n",
      "prime: 23\n",
      "prime: 29\n",
      "prime: 31\n",
      "prime: 37\n",
      "prime: 41\n",
      "prime: 43\n",
      "prime: 47\n",
      "prime: 2\n",
      "prime: 3\n",
      "prime: 5\n",
      "prime: 7\n",
      "prime: 11\n",
      "prime: 13\n",
      "prime: 17\n",
      "prime: 19\n",
      "prime: 23\n",
      "prime: 29\n",
      "prime: 31\n",
      "prime: 37\n",
      "prime: 41\n",
      "prime: 43\n",
      "prime: 47\n",
      "prime: 53\n",
      "prime: 59\n"
     ]
    },
    {
     "data": {
      "text/plain": [
       "[None, None, None, None, None, None]"
      ]
     },
     "execution_count": 22,
     "metadata": {},
     "output_type": "execute_result"
    }
   ],
   "source": [
    "list(map(prime_or_not, n))"
   ]
  },
  {
   "cell_type": "markdown",
   "id": "4f68a77c",
   "metadata": {},
   "source": [
    " palindrome or not"
   ]
  },
  {
   "cell_type": "code",
   "execution_count": 12,
   "id": "5054011d",
   "metadata": {},
   "outputs": [],
   "source": [
    "str=\"@My name is Akhil!!!, my age is $29, My @city is #hyderbad!!!\""
   ]
  },
  {
   "cell_type": "code",
   "execution_count": 11,
   "id": "5aa188fc",
   "metadata": {},
   "outputs": [
    {
     "name": "stdout",
     "output_type": "stream",
     "text": [
      "My name is Akhil!!!, my age is $29, My @city is #hyderbad\n"
     ]
    }
   ],
   "source": [
    "new_str1=str.strip(\"@\").strip(\"!\").strip(\"$\").strip(\",\")   # this will only remove the special symbol in last and first only not in the middle of the string.\n",
    "print(new_str1)"
   ]
  },
  {
   "cell_type": "code",
   "execution_count": 13,
   "id": "1a99d9d9",
   "metadata": {},
   "outputs": [
    {
     "name": "stdout",
     "output_type": "stream",
     "text": [
      "My name is Akhil my age is 29 My city is #hyderbad\n"
     ]
    }
   ],
   "source": [
    "new_str2=str.replace(\"@\",\"\").replace(\"!\",\"\").replace(\"$\",\"\").replace(\",\",\"\")\n",
    "print(new_str2)"
   ]
  },
  {
   "cell_type": "code",
   "execution_count": 14,
   "id": "3acfc810",
   "metadata": {},
   "outputs": [
    {
     "name": "stdout",
     "output_type": "stream",
     "text": [
      "MynameisAkhilmyageis29Mycityishyderbad\n"
     ]
    }
   ],
   "source": [
    "import re\n",
    "new_str3=re.sub(r'[^a-zA-Z0-9]','', str)\n",
    "print(new_str3)"
   ]
  },
  {
   "cell_type": "code",
   "execution_count": null,
   "id": "1cee3f77",
   "metadata": {},
   "outputs": [],
   "source": [
    "stru=\"madam\"\n"
   ]
  },
  {
   "cell_type": "code",
   "execution_count": 19,
   "id": "86ee7373",
   "metadata": {},
   "outputs": [
    {
     "name": "stdout",
     "output_type": "stream",
     "text": [
      "True\n"
     ]
    }
   ],
   "source": [
    "def palindrome_or_not(stru):\n",
    "    return stru==stru[::-1]\n",
    "\n",
    "palindrome_or_not(stru)\n",
    "print(palindrome_or_not(stru))"
   ]
  },
  {
   "cell_type": "markdown",
   "id": "6270a00b",
   "metadata": {},
   "source": [
    "#### map function"
   ]
  },
  {
   "cell_type": "code",
   "execution_count": 37,
   "id": "59a3e8f6",
   "metadata": {},
   "outputs": [
    {
     "name": "stdout",
     "output_type": "stream",
     "text": [
      "1\n",
      "4\n",
      "9\n",
      "16\n",
      "25\n",
      "36\n",
      "49\n",
      "64\n",
      "81\n",
      "100\n"
     ]
    },
    {
     "data": {
      "text/plain": [
       "[100]"
      ]
     },
     "execution_count": 37,
     "metadata": {},
     "output_type": "execute_result"
    }
   ],
   "source": [
    "num=[1,2,3,4,5,6,7,8,9,10]\n",
    "def powerfn(num):\n",
    "    for i in num:\n",
    "        j = i**2\n",
    "        print(j)\n",
    "    return i**2\n",
    "     \n",
    "\n",
    "list(map(powerfn,[num]))"
   ]
  },
  {
   "cell_type": "code",
   "execution_count": 2,
   "id": "6f2eaf9e",
   "metadata": {},
   "outputs": [
    {
     "name": "stdout",
     "output_type": "stream",
     "text": [
      "akhil\n"
     ]
    }
   ],
   "source": [
    "str=\"akhil\"\n",
    "print(str)"
   ]
  },
  {
   "cell_type": "code",
   "execution_count": 3,
   "id": "bd62dd52",
   "metadata": {},
   "outputs": [
    {
     "name": "stdout",
     "output_type": "stream",
     "text": [
      "a\n",
      "k\n",
      "h\n",
      "i\n",
      "l\n"
     ]
    }
   ],
   "source": [
    "for  i in str:\n",
    "    print(i)"
   ]
  },
  {
   "cell_type": "code",
   "execution_count": 9,
   "id": "947648b3",
   "metadata": {},
   "outputs": [
    {
     "name": "stdout",
     "output_type": "stream",
     "text": [
      "<class 'list'>\n",
      "[1, 1, 1, 3, 5, 7, 9]\n"
     ]
    }
   ],
   "source": [
    "num11=[1,1,1,3,5,7,9]\n",
    "print(type(num11))\n",
    "print(num11)"
   ]
  },
  {
   "cell_type": "code",
   "execution_count": 10,
   "id": "90666c4c",
   "metadata": {},
   "outputs": [
    {
     "name": "stdout",
     "output_type": "stream",
     "text": [
      "{1, 3, 5, 7, 9}\n"
     ]
    }
   ],
   "source": [
    "print(set(num11))"
   ]
  },
  {
   "cell_type": "code",
   "execution_count": 11,
   "id": "ff9ecec5",
   "metadata": {},
   "outputs": [
    {
     "name": "stdout",
     "output_type": "stream",
     "text": [
      "0\n",
      "1\n",
      "2\n",
      "3\n",
      "4\n"
     ]
    }
   ],
   "source": [
    "for i  in range(10):\n",
    "    if i==5:\n",
    "        break\n",
    "    print(i)"
   ]
  },
  {
   "cell_type": "code",
   "execution_count": 12,
   "id": "99afbc55",
   "metadata": {},
   "outputs": [
    {
     "name": "stdout",
     "output_type": "stream",
     "text": [
      "0\n",
      "1\n",
      "2\n",
      "3\n",
      "4\n",
      "6\n",
      "7\n",
      "8\n",
      "9\n"
     ]
    }
   ],
   "source": [
    "for i  in range(10):\n",
    "    if i==5:\n",
    "        continue\n",
    "    print(i)"
   ]
  },
  {
   "cell_type": "code",
   "execution_count": 14,
   "id": "df3f13df",
   "metadata": {},
   "outputs": [
    {
     "name": "stdout",
     "output_type": "stream",
     "text": [
      "0\n",
      "1\n",
      "2\n",
      "3\n",
      "4\n",
      "5\n",
      "6\n",
      "7\n",
      "8\n",
      "9\n"
     ]
    }
   ],
   "source": [
    "for i  in range(10):\n",
    "    if i==5:\n",
    "        pass    \n",
    "    print(i)"
   ]
  },
  {
   "cell_type": "code",
   "execution_count": 16,
   "id": "35344ad0",
   "metadata": {},
   "outputs": [
    {
     "name": "stdout",
     "output_type": "stream",
     "text": [
      "number 1 is a prime number\n",
      "number 2 is a prime number\n",
      "number 3 is a prime number\n",
      "number 5 is a prime number\n",
      "number 7 is a prime number\n",
      "number 11 is a prime number\n",
      "number 13 is a prime number\n",
      "number 17 is a prime number\n",
      "number 19 is a prime number\n",
      "number 23 is a prime number\n",
      "number 29 is a prime number\n",
      "number 31 is a prime number\n",
      "number 37 is a prime number\n",
      "number 41 is a prime number\n",
      "number 43 is a prime number\n",
      "number 47 is a prime number\n",
      "number 53 is a prime number\n",
      "number 59 is a prime number\n",
      "number 61 is a prime number\n",
      "number 67 is a prime number\n",
      "number 71 is a prime number\n",
      "number 73 is a prime number\n",
      "number 79 is a prime number\n",
      "number 83 is a prime number\n",
      "number 89 is a prime number\n",
      "number 97 is a prime number\n"
     ]
    }
   ],
   "source": [
    "for num in range(1, 101):\n",
    "    for test in range(2, num):\n",
    "            if num%test==0:\n",
    "                  break\n",
    "    else:\n",
    "        print(f\"number {num} is a prime number\")\n",
    "            "
   ]
  },
  {
   "cell_type": "code",
   "execution_count": 43,
   "id": "5444709d",
   "metadata": {},
   "outputs": [],
   "source": [
    "def function1(*args, **kwargs):\n",
    "    \n",
    "    for i in args:\n",
    "        print(i)\n",
    "    \n",
    "    for key,value in kwargs.items():\n",
    "        print (f\"{key}:{value}\")"
   ]
  },
  {
   "cell_type": "code",
   "execution_count": 45,
   "id": "e8630e41",
   "metadata": {},
   "outputs": [
    {
     "name": "stdout",
     "output_type": "stream",
     "text": [
      "13\n",
      "8\n",
      "25\n",
      "akhil\n",
      "nam:akhils\n",
      "age:25\n"
     ]
    }
   ],
   "source": [
    "function1(13,8,25, \"akhil\",nam=\"akhils\",age=25)"
   ]
  },
  {
   "cell_type": "code",
   "execution_count": 65,
   "id": "e294e2e3",
   "metadata": {},
   "outputs": [
    {
     "name": "stdout",
     "output_type": "stream",
     "text": [
      "{1: 2, 2: 4, 3: 6, 4: 8, 5: 10, 6: 12, 7: 14, 8: 16, 9: 18, 10: 20}\n"
     ]
    }
   ],
   "source": [
    "two_table={x:x*2 for x in range(1,11)}\n",
    "print(two_table)"
   ]
  },
  {
   "cell_type": "code",
   "execution_count": 66,
   "id": "12174151",
   "metadata": {},
   "outputs": [
    {
     "name": "stdout",
     "output_type": "stream",
     "text": [
      "{0: 0, 2: 4, 4: 16, 6: 36, 8: 64, 10: 100}\n"
     ]
    }
   ],
   "source": [
    "even_multiply={y:y**2 for y in range(11) if y%2==0 }\n",
    "print(even_multiply)"
   ]
  },
  {
   "cell_type": "code",
   "execution_count": 58,
   "id": "9c0331d0",
   "metadata": {},
   "outputs": [
    {
     "name": "stdout",
     "output_type": "stream",
     "text": [
      "0\n",
      "1\n",
      "2\n",
      "3\n",
      "4\n",
      "5\n",
      "6\n",
      "7\n",
      "8\n",
      "9\n",
      "10\n",
      "11\n",
      "12\n",
      "13\n",
      "14\n",
      "15\n",
      "16\n",
      "17\n",
      "18\n",
      "19\n",
      "20\n"
     ]
    }
   ],
   "source": [
    "for y in range(21):\n",
    "    print(y)"
   ]
  },
  {
   "cell_type": "code",
   "execution_count": 74,
   "id": "92a5d815",
   "metadata": {},
   "outputs": [
    {
     "name": "stdout",
     "output_type": "stream",
     "text": [
      "['racecar']\n",
      "['racecar'] is palindrome\n"
     ]
    }
   ],
   "source": [
    "str=\"#Race@ car!!!\"\n",
    "stripped_str=str.strip(\"#\").strip(\"@\").strip(\"!\").replace(\"@\",\"\").lower().replace(\" \",\"\")\n",
    "new_str=stripped_str.split()\n",
    "print(new_str)\n",
    "if new_str==new_str[::-1]:\n",
    "    print(f\"{new_str} is palindrome\")\n",
    "else:\n",
    "    print(\"nope\")"
   ]
  },
  {
   "cell_type": "code",
   "execution_count": 80,
   "id": "ae6aff83",
   "metadata": {},
   "outputs": [
    {
     "name": "stdout",
     "output_type": "stream",
     "text": [
      "<function <lambda> at 0x7c02a00f40e0>\n"
     ]
    },
    {
     "data": {
      "text/plain": [
       "14"
      ]
     },
     "execution_count": 80,
     "metadata": {},
     "output_type": "execute_result"
    }
   ],
   "source": [
    "even = lambda a,b: a+b\n",
    "print(even)\n",
    "\n",
    "even(10, 4)"
   ]
  },
  {
   "cell_type": "code",
   "execution_count": 83,
   "id": "f1d83e42",
   "metadata": {},
   "outputs": [
    {
     "data": {
      "text/plain": [
       "[3, 6, 9, 12, 15]"
      ]
     },
     "execution_count": 83,
     "metadata": {},
     "output_type": "execute_result"
    }
   ],
   "source": [
    "num12=[2,4,6,8,10]\n",
    "num13=[1,2,3,4,5]\n",
    "\n",
    "list(map(even, num12,num13))"
   ]
  },
  {
   "cell_type": "code",
   "execution_count": 87,
   "id": "4b5c544d",
   "metadata": {},
   "outputs": [
    {
     "name": "stdout",
     "output_type": "stream",
     "text": [
      "<function <lambda> at 0x7c029bfb0c20>\n"
     ]
    },
    {
     "data": {
      "text/plain": [
       "False"
      ]
     },
     "execution_count": 87,
     "metadata": {},
     "output_type": "execute_result"
    }
   ],
   "source": [
    "beven=lambda c: c%2==0\n",
    "print(beven)\n",
    "\n",
    "beven(15)"
   ]
  },
  {
   "cell_type": "code",
   "execution_count": 89,
   "id": "2ca83c35",
   "metadata": {},
   "outputs": [
    {
     "data": {
      "text/plain": [
       "[2, 4]"
      ]
     },
     "execution_count": 89,
     "metadata": {},
     "output_type": "execute_result"
    }
   ],
   "source": [
    "list(filter(beven, num13))"
   ]
  },
  {
   "cell_type": "code",
   "execution_count": 90,
   "id": "a25c14e6",
   "metadata": {},
   "outputs": [
    {
     "data": {
      "text/plain": [
       "4.0"
      ]
     },
     "execution_count": 90,
     "metadata": {},
     "output_type": "execute_result"
    }
   ],
   "source": [
    "import math \n",
    "math.sqrt(16)"
   ]
  },
  {
   "cell_type": "code",
   "execution_count": 1,
   "id": "a5940464",
   "metadata": {},
   "outputs": [
    {
     "data": {
      "text/plain": [
       "20"
      ]
     },
     "execution_count": 1,
     "metadata": {},
     "output_type": "execute_result"
    }
   ],
   "source": [
    "from mymodu.mul import multiply\n",
    "multiply(4,5)"
   ]
  },
  {
   "cell_type": "code",
   "execution_count": 17,
   "id": "8c666b2d",
   "metadata": {},
   "outputs": [
    {
     "name": "stdout",
     "output_type": "stream",
     "text": [
      "1\n",
      "student\n"
     ]
    }
   ],
   "source": [
    "import random\n",
    "num = random.randint(1, 10)\n",
    "choice= random.choice([\"akhil\",\"akash\", \"student\", \"professor\", \"doctor\"])\n",
    "print(num)\n",
    "print(choice)"
   ]
  },
  {
   "cell_type": "code",
   "execution_count": 27,
   "id": "e2509e36",
   "metadata": {},
   "outputs": [
    {
     "name": "stdout",
     "output_type": "stream",
     "text": [
      "2025-04-22 18:06:15.899980\n",
      "2025-04-21 18:06:15.899980\n"
     ]
    }
   ],
   "source": [
    "from datetime import *\n",
    "\n",
    "current_time= datetime.now()\n",
    "print(current_time)\n",
    "\n",
    "yesterday=(current_time - timedelta(days=1))\n",
    "print(yesterday)"
   ]
  },
  {
   "cell_type": "code",
   "execution_count": 31,
   "id": "c001ec2c",
   "metadata": {},
   "outputs": [
    {
     "name": "stdout",
     "output_type": "stream",
     "text": [
      "5\n"
     ]
    }
   ],
   "source": [
    "import time\n",
    "\n",
    "time.sleep(3)\n",
    "print(\"5\")"
   ]
  },
  {
   "cell_type": "code",
   "execution_count": 38,
   "id": "57bfc470",
   "metadata": {},
   "outputs": [
    {
     "name": "stdout",
     "output_type": "stream",
     "text": [
      "print(3+5)\n",
      "write successful!!\n"
     ]
    }
   ],
   "source": [
    "with open('app.py','r') as file:\n",
    "    content = file.read()\n",
    "    print(content)\n",
    "\n",
    "with open('app.py','a') as file:\n",
    "    file.write(content)\n",
    "    print(\"write successful!!\")"
   ]
  },
  {
   "cell_type": "code",
   "execution_count": 39,
   "id": "67a73edb",
   "metadata": {},
   "outputs": [
    {
     "name": "stdout",
     "output_type": "stream",
     "text": [
      "['test.ipynb', '.git', 'practice.ipynb', 'mymodu', 'venv', 'age_based_ticket.py', 'leap_year.ipynb', 'simple_calculator.py', 'README.md', 'app.py']\n"
     ]
    }
   ],
   "source": [
    "import os\n",
    "print(os.listdir('.'))"
   ]
  },
  {
   "cell_type": "code",
   "execution_count": null,
   "id": "f9e8cc69",
   "metadata": {},
   "outputs": [],
   "source": []
  },
  {
   "cell_type": "code",
   "execution_count": 40,
   "id": "a89a00e3",
   "metadata": {},
   "outputs": [
    {
     "name": "stdout",
     "output_type": "stream",
     "text": [
      "/workspaces/ml_learn\n"
     ]
    }
   ],
   "source": [
    "print(os.getcwd())"
   ]
  },
  {
   "cell_type": "code",
   "execution_count": 54,
   "id": "8b8be92b",
   "metadata": {},
   "outputs": [
    {
     "name": "stdout",
     "output_type": "stream",
     "text": [
      "division by zero\n"
     ]
    }
   ],
   "source": [
    "a=10000\n",
    "\n",
    "b=0\n",
    "\n",
    "try:\n",
    "    div=a/b\n",
    "    print(div)\n",
    "except ZeroDivisionError as ze:\n",
    "    print(ze)\n",
    "\n",
    "    \n"
   ]
  },
  {
   "cell_type": "code",
   "execution_count": 57,
   "id": "2b8c05ee",
   "metadata": {},
   "outputs": [
    {
     "name": "stdout",
     "output_type": "stream",
     "text": [
      "division by zero\n",
      "Exception handled\n"
     ]
    }
   ],
   "source": [
    "a=10000\n",
    "\n",
    "b=0\n",
    "\n",
    "try:\n",
    "    div=a/b\n",
    "    print(div)\n",
    "except Exception as ze:\n",
    "    print(ze)\n",
    "\n",
    "finally:\n",
    "    print(\"Exception handled\")"
   ]
  },
  {
   "cell_type": "code",
   "execution_count": 58,
   "id": "090ee56e",
   "metadata": {},
   "outputs": [],
   "source": [
    "my_list=[1,2,3,4,5,6]\n",
    "iteration=iter(my_list)"
   ]
  },
  {
   "cell_type": "code",
   "execution_count": 62,
   "id": "be690c8e",
   "metadata": {},
   "outputs": [
    {
     "data": {
      "text/plain": [
       "3"
      ]
     },
     "execution_count": 62,
     "metadata": {},
     "output_type": "execute_result"
    }
   ],
   "source": [
    "next(iteration)"
   ]
  },
  {
   "cell_type": "code",
   "execution_count": 71,
   "id": "6c331896",
   "metadata": {},
   "outputs": [
    {
     "name": "stdout",
     "output_type": "stream",
     "text": [
      "Fantastic! I'm glad to hear that a simple restart of the kernel did the trick. It's one of those surprisingly common solutions in the world of development environments.\n",
      "\n",
      "Sometimes the environment needs a little nudge to recognize new files or changes. Happy coding, and feel free to reach out if you encounter any more hurdles!\n",
      "\n",
      "Sometimes, Jupyter notebooks can have issues with recognizing newly created files or changes in the file system. Try restarting the kernel of your notebook. You can usually do this from the \"Kernel\" menu in the Jupyter interface (e.g., \"Kernel\" -> \"Restart\"). After restarting, try running the import statement again.\n",
      "\n",
      "4. Check for Other Files Named mul.py:\n",
      "\n",
      "It's less likely in this scenario, but sometimes there might be another file named mul.py in a different location that Python is finding instead. If you have a complex Python environment, this could potentially cause issues. However, given your description of the folder structure, this is probably not the case here.\n",
      "\n",
      "Let's assume your mul.py file should contain the multiply function. Here's a checklist for you:\n",
      "\n",
      "[ ] Is there a file named exactly mul.py inside the folder named exactly mymodu?\n",
      "\n",
      "[ ] Inside mul.py, is there a function defined as def multiply(a, b):?\n",
      "\n",
      "[ ] Are there any typos in the function name multiply in mul.py?\n",
      "\n",
      "[ ] Have you restarted the Jupyter kernel since creating mymodu and mul.py?\n",
      "\n",
      "Once you've gone through these checks, try running the import statement again. If you still get the error, please share the exact content of your mul.py file (you can copy and paste the code here), and we can take a closer look.\n",
      "\n",
      "restarting helped, thanx\n",
      "\n",
      "Fantastic! I'm glad to hear that a simple restart of the kernel did the trick. It's one of those surprisingly common solutions in the world of development environments.\n",
      "\n",
      "Sometimes the environment needs a little nudge to recognize new files or changes. Happy coding, and feel free to reach out if you encounter any more hurdles!Okay, the ImportError: cannot import name 'multiply' from 'mymodu.mul' tells us that Python is finding the mymodu/mul.py file, but it's not finding something named multiply inside that file that it can import.\n",
      "\n",
      "Let's systematically troubleshoot this:\n",
      "\n",
      "1. Double-Check the mul.py File:\n",
      "\n",
      "Content: Open the mul.py file located in your mymodu folder. Carefully examine its contents.\n",
      "\n",
      "Function Definition: Make absolutely sure that you have defined a function named exactly multiply within that file. Python is case-sensitive, so Multiply, mUltiply, etc., will not be recognized as multiply.\n",
      "\n",
      "Syntax: Ensure the function definition has the \n",
      "\n",
      "estart the Jupyter Kernel:\n",
      "\n",
      "Sometimes, Jupyter notebooks can have issues with recognizing newly created files or changes in the file system. Try restarting the kernel of your notebook. You can usually do this from the \"Kernel\" menu in the Jupyter interface (e.g., \"Kernel\" -> \"Restart\"). After restarting, try running the import statement again.\n",
      "\n",
      "4. Check for Other Files Named mul.py:\n",
      "\n",
      "It's less likely in this scenario, but sometimes there might be another file named mul.py in a different location that Python is finding instead. If you have a complex Python environment, this could potentially cause issues. However, given your description of the folder structure, this is probably not the case here.\n",
      "\n",
      "Let's assume your mul.py file should contain the multiply function. Here's a checklist for you:\n",
      "\n",
      "[ ] Is there a file named exactly mul.py inside the folder named exactly mymodu?\n",
      "\n",
      "[ ] Inside mul.py, is there a function defined as def multiply(a, b):?\n",
      "\n",
      "[ ] Are there any typos in the function name multiply in mul.py?\n",
      "\n",
      "[ ] Have you restarted the Jupyter kernel since creating mymodu and mul.py?\n",
      "\n",
      "Once you've gone through these checks, try running the import statement again. If you still get the error, please share the exact content of your mul.py file (you can copy and paste the code here), and we can take a closer look.\n",
      "\n",
      "hahahaa\n",
      "\n"
     ]
    }
   ],
   "source": [
    "\n",
    "\n",
    "def large_file(sample):\n",
    "    with open(\"sample.txt\",'r') as file:\n",
    "        for line in file:\n",
    "            yield line\n",
    "\n",
    "\n",
    "for line in large_file(\"sample.txt\"):\n",
    "    print(line)"
   ]
  },
  {
   "cell_type": "code",
   "execution_count": 1,
   "id": "fb515a73",
   "metadata": {},
   "outputs": [
    {
     "name": "stdout",
     "output_type": "stream",
     "text": [
      "['Fantastic!', \"I'm\", 'glad', 'to', 'hear', 'that', 'a', 'simple', 'restart', 'of', 'the', 'kernel', 'did', 'the', 'trick.', \"It's\", 'one', 'of', 'those', 'surprisingly', 'common', 'solutions', 'in', 'the', 'world', 'of', 'development', 'environments.', 'Sometimes', 'the', 'environment', 'needs', 'a', 'little', 'nudge', 'to', 'recognize', 'new', 'files', 'or', 'changes.', 'Happy', 'coding,', 'and', 'feel', 'free', 'to', 'reach', 'out', 'if', 'you', 'encounter', 'any', 'more', 'hurdles!', 'Sometimes,', 'Jupyter', 'notebooks', 'can', 'have', 'issues', 'with', 'recognizing', 'newly', 'created', 'files', 'or', 'changes', 'in', 'the', 'file', 'system.', 'Try', 'restarting', 'the', 'kernel', 'of', 'your', 'notebook.', 'You', 'can', 'usually', 'do', 'this', 'from', 'the', '\"Kernel\"', 'menu', 'in', 'the', 'Jupyter', 'interface', '(e.g.,', '\"Kernel\"', '->', '\"Restart\").', 'After', 'restarting,', 'try', 'running', 'the', 'import', 'statement', 'again.', '4.', 'Check', 'for', 'Other', 'Files', 'Named', 'mul.py:', \"It's\", 'less', 'likely', 'in', 'this', 'scenario,', 'but', 'sometimes', 'there', 'might', 'be', 'another', 'file', 'named', 'mul.py', 'in', 'a', 'different', 'location', 'that', 'Python', 'is', 'finding', 'instead.', 'If', 'you', 'have', 'a', 'complex', 'Python', 'environment,', 'this', 'could', 'potentially', 'cause', 'issues.', 'However,', 'given', 'your', 'description', 'of', 'the', 'folder', 'structure,', 'this', 'is', 'probably', 'not', 'the', 'case', 'here.', \"Let's\", 'assume', 'your', 'mul.py', 'file', 'should', 'contain', 'the', 'multiply', 'function.', \"Here's\", 'a', 'checklist', 'for', 'you:', '[', ']', 'Is', 'there', 'a', 'file', 'named', 'exactly', 'mul.py', 'inside', 'the', 'folder', 'named', 'exactly', 'mymodu?', '[', ']', 'Inside', 'mul.py,', 'is', 'there', 'a', 'function', 'defined', 'as', 'def', 'multiply(a,', 'b):?', '[', ']', 'Are', 'there', 'any', 'typos', 'in', 'the', 'function', 'name', 'multiply', 'in', 'mul.py?', '[', ']', 'Have', 'you', 'restarted', 'the', 'Jupyter', 'kernel', 'since', 'creating', 'mymodu', 'and', 'mul.py?', 'Once', \"you've\", 'gone', 'through', 'these', 'checks,', 'try', 'running', 'the', 'import', 'statement', 'again.', 'If', 'you', 'still', 'get', 'the', 'error,', 'please', 'share', 'the', 'exact', 'content', 'of', 'your', 'mul.py', 'file', '(you', 'can', 'copy', 'and', 'paste', 'the', 'code', 'here),', 'and', 'we', 'can', 'take', 'a', 'closer', 'look.', 'restarting', 'helped,', 'thanx', 'Fantastic!', \"I'm\", 'glad', 'to', 'hear', 'that', 'a', 'simple', 'restart', 'of', 'the', 'kernel', 'did', 'the', 'trick.', \"It's\", 'one', 'of', 'those', 'surprisingly', 'common', 'solutions', 'in', 'the', 'world', 'of', 'development', 'environments.', 'Sometimes', 'the', 'environment', 'needs', 'a', 'little', 'nudge', 'to', 'recognize', 'new', 'files', 'or', 'changes.', 'Happy', 'coding,', 'and', 'feel', 'free', 'to', 'reach', 'out', 'if', 'you', 'encounter', 'any', 'more', 'hurdles!Okay,', 'the', 'ImportError:', 'cannot', 'import', 'name', \"'multiply'\", 'from', \"'mymodu.mul'\", 'tells', 'us', 'that', 'Python', 'is', 'finding', 'the', 'mymodu/mul.py', 'file,', 'but', \"it's\", 'not', 'finding', 'something', 'named', 'multiply', 'inside', 'that', 'file', 'that', 'it', 'can', 'import.', \"Let's\", 'systematically', 'troubleshoot', 'this:', '1.', 'Double-Check', 'the', 'mul.py', 'File:', 'Content:', 'Open', 'the', 'mul.py', 'file', 'located', 'in', 'your', 'mymodu', 'folder.', 'Carefully', 'examine', 'its', 'contents.', 'Function', 'Definition:', 'Make', 'absolutely', 'sure', 'that', 'you', 'have', 'defined', 'a', 'function', 'named', 'exactly', 'multiply', 'within', 'that', 'file.', 'Python', 'is', 'case-sensitive,', 'so', 'Multiply,', 'mUltiply,', 'etc.,', 'will', 'not', 'be', 'recognized', 'as', 'multiply.', 'Syntax:', 'Ensure', 'the', 'function', 'definition', 'has', 'the', 'estart', 'the', 'Jupyter', 'Kernel:', 'Sometimes,', 'Jupyter', 'notebooks', 'can', 'have', 'issues', 'with', 'recognizing', 'newly', 'created', 'files', 'or', 'changes', 'in', 'the', 'file', 'system.', 'Try', 'restarting', 'the', 'kernel', 'of', 'your', 'notebook.', 'You', 'can', 'usually', 'do', 'this', 'from', 'the', '\"Kernel\"', 'menu', 'in', 'the', 'Jupyter', 'interface', '(e.g.,', '\"Kernel\"', '->', '\"Restart\").', 'After', 'restarting,', 'try', 'running', 'the', 'import', 'statement', 'again.', '4.', 'Check', 'for', 'Other', 'Files', 'Named', 'mul.py:', \"It's\", 'less', 'likely', 'in', 'this', 'scenario,', 'but', 'sometimes', 'there', 'might', 'be', 'another', 'file', 'named', 'mul.py', 'in', 'a', 'different', 'location', 'that', 'Python', 'is', 'finding', 'instead.', 'If', 'you', 'have', 'a', 'complex', 'Python', 'environment,', 'this', 'could', 'potentially', 'cause', 'issues.', 'However,', 'given', 'your', 'description', 'of', 'the', 'folder', 'structure,', 'this', 'is', 'probably', 'not', 'the', 'case', 'here.', \"Let's\", 'assume', 'your', 'mul.py', 'file', 'should', 'contain', 'the', 'multiply', 'function.', \"Here's\", 'a', 'checklist', 'for', 'you:', '[', ']', 'Is', 'there', 'a', 'file', 'named', 'exactly', 'mul.py', 'inside', 'the', 'folder', 'named', 'exactly', 'mymodu?', '[', ']', 'Inside', 'mul.py,', 'is', 'there', 'a', 'function', 'defined', 'as', 'def', 'multiply(a,', 'b):?', '[', ']', 'Are', 'there', 'any', 'typos', 'in', 'the', 'function', 'name', 'multiply', 'in', 'mul.py?', '[', ']', 'Have', 'you', 'restarted', 'the', 'Jupyter', 'kernel', 'since', 'creating', 'mymodu', 'and', 'mul.py?', 'Once', \"you've\", 'gone', 'through', 'these', 'checks,', 'try', 'running', 'the', 'import', 'statement', 'again.', 'If', 'you', 'still', 'get', 'the', 'error,', 'please', 'share', 'the', 'exact', 'content', 'of', 'your', 'mul.py', 'file', '(you', 'can', 'copy', 'and', 'paste', 'the', 'code', 'here),', 'and', 'we', 'can', 'take', 'a', 'closer', 'look.', 'hahahaa']\n",
      "{'Are', 'Fantastic!', 'another', ']', 'Other', 'solutions', 'within', 'Files', 'Inside', 'Is', 'environment,', 'Python', 'cause', 'common', 'named', 'might', 'any', 'from', '4.', 'Kernel:', 'the', 'However,', 'def', 'a', 'mul.py', 'is', 'Check', 'look.', 'code', 'ImportError:', 'description', 'simple', 'etc.,', 'creating', 'less', 'issues.', 'it', 'little', 'with', 'multiply.', '[', 'mul.py,', 'as', 'multiply(a,', 'to', 'b):?', 'hahahaa', 'this:', 'Multiply,', 'function.', 'coding,', \"Here's\", 'needs', 'potentially', 'system.', '1.', 'its', 'troubleshoot', 'Named', 'contents.', 'free', 'mymodu', 'Try', 'Carefully', \"you've\", \"'multiply'\", 'changes', 'name', 'nudge', 'Definition:', 'interface', 'likely', 'probably', 'new', 'encounter', 'Jupyter', 'notebook.', 'hurdles!', 'Have', 'instead.', 'restart', 'checks,', 'typos', 'hurdles!Okay,', 'running', \"it's\", 'restarted', 'changes.', 'out', 'scenario,', 'import.', 'could', '->', 'more', 'please', 'complex', 'contain', 'mUltiply,', 'try', \"I'm\", 'inside', 'systematically', 'but', 'kernel', 'environment', 'Happy', 'helped,', 'given', 'or', 'through', 'tells', 'closer', 'of', 'sure', 'Content:', 'surprisingly', 'still', 'again.', 'files', \"Let's\", 'You', '\"Kernel\"', 'copy', 'one', 'can', 'will', '(you', 'mymodu?', 'we', 'created', 'Sometimes,', 'if', 'do', 'Double-Check', 'mul.py:', 'statement', 'restarting,', 'has', 'different', 'reach', 'Open', 'you:', 'be', 'Once', 'your', 'mymodu/mul.py', 'did', 'these', 'Syntax:', 'us', 'there', 'you', 'Ensure', 'estart', 'those', 'issues', 'finding', 'exact', 'not', 'file', 'recognized', 'menu', 'get', 'File:', 'here),', 'located', 'case', 'something', 'for', 'newly', 'checklist', 'here.', 'usually', 'multiply', 'have', 'function', 'environments.', 'Function', 'defined', 'definition', 'in', 'share', 'Make', 'so', 'notebooks', 'examine', 'development', 'recognizing', 'thanx', 'world', 'glad', 'recognize', 'hear', 'take', 'case-sensitive,', 'feel', 'sometimes', 'content', 'gone', 'paste', 'cannot', 'folder.', 'import', 'After', 'should', 'Sometimes', 'this', 'trick.', 'structure,', 'exactly', \"'mymodu.mul'\", 'that', 'and', '\"Restart\").', 'absolutely', 'since', 'location', \"It's\", 'error,', '(e.g.,', 'file,', 'file.', 'If', 'mul.py?', 'assume', 'restarting', 'folder'}\n"
     ]
    }
   ],
   "source": [
    "def lar_fil(sample):\n",
    "    with open(sample,'r') as file:\n",
    "      content=file.read().split()\n",
    "      print(content)\n",
    "      non_dup=set(content)\n",
    "      print(non_dup)\n",
    "\n",
    "lar_fil(\"sample.txt\")"
   ]
  },
  {
   "cell_type": "code",
   "execution_count": null,
   "id": "1e117a8f",
   "metadata": {},
   "outputs": [
    {
     "name": "stdout",
     "output_type": "stream",
     "text": [
      "[1, 2, 2, 3, 3, 4, 4, 5, 5, 5, 5]\n",
      "{1: 1, 2: 2, 3: 2, 4: 2, 5: 4}\n"
     ]
    }
   ],
   "source": [
    "value=[1,2,2,3,3,4,4,5,5,5,5]\n",
    "\n",
    "def counting(value):\n",
    "    count={}\n",
    "    for i in value:\n",
    "        if i in count:\n",
    "            count[i]+=1\n",
    "        else:\n",
    "            count[i]=1\n",
    "    print(count)\n",
    "\n",
    "counting(value)"
   ]
  },
  {
   "cell_type": "code",
   "execution_count": null,
   "id": "eae94510",
   "metadata": {},
   "outputs": [
    {
     "name": "stdout",
     "output_type": "stream",
     "text": [
      "<class 'list_iterator'>\n"
     ]
    }
   ],
   "source": [
    "name=[\"hol\",\"skjdhf\",\"sdkjfh\",\"wuetr\",\"hfsdf\"]\n",
    "iterator=iter(name)\n",
    "print(type(iterator))"
   ]
  },
  {
   "cell_type": "code",
   "execution_count": 9,
   "id": "334be973",
   "metadata": {},
   "outputs": [
    {
     "data": {
      "text/plain": [
       "'hfsdf'"
      ]
     },
     "execution_count": 9,
     "metadata": {},
     "output_type": "execute_result"
    }
   ],
   "source": [
    "next(iterator)\n"
   ]
  },
  {
   "cell_type": "code",
   "execution_count": 25,
   "id": "5c7e5e49",
   "metadata": {},
   "outputs": [
    {
     "name": "stdout",
     "output_type": "stream",
     "text": [
      "before the function\n",
      "hey hello\n",
      "after the func\n"
     ]
    }
   ],
   "source": [
    "def manu(func):    \n",
    "    def suv():\n",
    "        print(\"before the function\")\n",
    "        func()\n",
    "        print(\"after the func\")\n",
    "    return suv\n",
    "\n",
    "@manu\n",
    "def hellom():\n",
    "    print(\"hey hello\")\n",
    "\n",
    "hellom()    \n"
   ]
  },
  {
   "cell_type": "markdown",
   "id": "b21a6009",
   "metadata": {},
   "source": [
    "decorator practice"
   ]
  },
  {
   "cell_type": "code",
   "execution_count": 26,
   "id": "6ca95cad",
   "metadata": {},
   "outputs": [],
   "source": [
    "def Greetings(func):\n",
    "    def greet():\n",
    "        print(\"Good Morning!!\")\n",
    "        func()\n",
    "        print(\"Take care, Bye !!\")\n",
    "    return greet"
   ]
  },
  {
   "cell_type": "code",
   "execution_count": 27,
   "id": "1ace620d",
   "metadata": {},
   "outputs": [
    {
     "name": "stdout",
     "output_type": "stream",
     "text": [
      "Good Morning!!\n",
      "Hello Akhil, welcome to the Hyderabad!!\n",
      "Take care, Bye !!\n"
     ]
    }
   ],
   "source": [
    "@Greetings\n",
    "def my_name():\n",
    "    print(\"Hello Akhil, welcome to the Hyderabad!!\")\n",
    "\n",
    "my_name()"
   ]
  },
  {
   "cell_type": "code",
   "execution_count": null,
   "id": "3f089f07",
   "metadata": {},
   "outputs": [],
   "source": []
  }
 ],
 "metadata": {
  "kernelspec": {
   "display_name": "Python 3",
   "language": "python",
   "name": "python3"
  },
  "language_info": {
   "codemirror_mode": {
    "name": "ipython",
    "version": 3
   },
   "file_extension": ".py",
   "mimetype": "text/x-python",
   "name": "python",
   "nbconvert_exporter": "python",
   "pygments_lexer": "ipython3",
   "version": "3.12.0"
  }
 },
 "nbformat": 4,
 "nbformat_minor": 5
}
