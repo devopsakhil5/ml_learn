{
 "cells": [
  {
   "cell_type": "code",
   "execution_count": 4,
   "id": "6942252f",
   "metadata": {},
   "outputs": [
    {
     "name": "stdout",
     "output_type": "stream",
     "text": [
      "GOOD NEWS!!!\n"
     ]
    }
   ],
   "source": [
    "print(\"GOOD NEWS!!!\")"
   ]
  },
  {
   "cell_type": "code",
   "execution_count": null,
   "id": "e07f56f2",
   "metadata": {},
   "outputs": [],
   "source": []
  },
  {
   "cell_type": "markdown",
   "id": "acbadcdf",
   "metadata": {},
   "source": [
    "#### python basics"
   ]
  },
  {
   "cell_type": "code",
   "execution_count": 3,
   "id": "934ad078",
   "metadata": {},
   "outputs": [
    {
     "name": "stdout",
     "output_type": "stream",
     "text": [
      "hello folks\n"
     ]
    }
   ],
   "source": [
    "print(\"hello folks\")"
   ]
  },
  {
   "cell_type": "code",
   "execution_count": 1,
   "id": "2dc8b817",
   "metadata": {},
   "outputs": [
    {
     "data": {
      "text/plain": [
       "3"
      ]
     },
     "execution_count": 1,
     "metadata": {},
     "output_type": "execute_result"
    }
   ],
   "source": [
    "1+2"
   ]
  },
  {
   "cell_type": "markdown",
   "id": "37ec2647",
   "metadata": {},
   "source": [
    "# python\n"
   ]
  },
  {
   "cell_type": "code",
   "execution_count": null,
   "id": "d480ed98",
   "metadata": {},
   "outputs": [],
   "source": []
  },
  {
   "cell_type": "markdown",
   "id": "7b93a4fe",
   "metadata": {},
   "source": [
    "## python"
   ]
  },
  {
   "cell_type": "markdown",
   "id": "7d313e0d",
   "metadata": {},
   "source": [
    "##python learning"
   ]
  },
  {
   "cell_type": "code",
   "execution_count": null,
   "id": "648f8cee",
   "metadata": {},
   "outputs": [],
   "source": []
  },
  {
   "cell_type": "markdown",
   "id": "8c14d776",
   "metadata": {},
   "source": [
    "### python "
   ]
  }
 ],
 "metadata": {
  "kernelspec": {
   "display_name": "Python 3",
   "language": "python",
   "name": "python3"
  },
  "language_info": {
   "codemirror_mode": {
    "name": "ipython",
    "version": 3
   },
   "file_extension": ".py",
   "mimetype": "text/x-python",
   "name": "python",
   "nbconvert_exporter": "python",
   "pygments_lexer": "ipython3",
   "version": "3.12.0"
  }
 },
 "nbformat": 4,
 "nbformat_minor": 5
}
